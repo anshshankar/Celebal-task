{
  "cells": [
    {
      "cell_type": "code",
      "execution_count": 80,
      "id": "3e475ebd",
      "metadata": {
        "_cell_guid": "b1076dfc-b9ad-4769-8c92-a6c4dae69d19",
        "_uuid": "8f2839f25d086af736a60e9eeb907d3b93b6e0e5",
        "execution": {
          "iopub.execute_input": "2022-05-05T11:27:43.531624Z",
          "iopub.status.busy": "2022-05-05T11:27:43.531223Z",
          "iopub.status.idle": "2022-05-05T11:27:43.557011Z",
          "shell.execute_reply": "2022-05-05T11:27:43.554963Z"
        },
        "papermill": {
          "duration": 0.121005,
          "end_time": "2022-05-05T11:27:43.560636",
          "exception": false,
          "start_time": "2022-05-05T11:27:43.439631",
          "status": "completed"
        },
        "tags": [],
        "id": "3e475ebd",
        "outputId": "57cfbe6c-240b-46e1-d6db-c95f6fbc133a",
        "colab": {
          "base_uri": "https://localhost:8080/"
        }
      },
      "outputs": [
        {
          "output_type": "stream",
          "name": "stderr",
          "text": [
            "[nltk_data] Downloading package stopwords to /root/nltk_data...\n",
            "[nltk_data]   Package stopwords is already up-to-date!\n"
          ]
        }
      ],
      "source": [
        "import numpy as np # linear algebra\n",
        "import pandas as pd # data processing, CSV file I/O (e.g. pd.read_csv)\n",
        "import matplotlib.pyplot as plt\n",
        "import seaborn as sns\n",
        "import os\n",
        "\n",
        "import string\n",
        "string.punctuation\n",
        "\n",
        "import nltk\n",
        "nltk.download('stopwords')\n",
        "from nltk.corpus import stopwords\n",
        "\n",
        "from sklearn.feature_extraction.text import TfidfVectorizer"
      ]
    },
    {
      "cell_type": "code",
      "execution_count": 81,
      "id": "82c88fb0",
      "metadata": {
        "execution": {
          "iopub.execute_input": "2022-05-05T11:27:45.487331Z",
          "iopub.status.busy": "2022-05-05T11:27:45.486753Z",
          "iopub.status.idle": "2022-05-05T11:27:45.692184Z",
          "shell.execute_reply": "2022-05-05T11:27:45.691251Z"
        },
        "papermill": {
          "duration": 0.296745,
          "end_time": "2022-05-05T11:27:45.695343",
          "exception": false,
          "start_time": "2022-05-05T11:27:45.398598",
          "status": "completed"
        },
        "tags": [],
        "id": "82c88fb0"
      },
      "outputs": [],
      "source": [
        "data = pd.read_csv('/content/data.csv')"
      ]
    },
    {
      "cell_type": "code",
      "execution_count": 82,
      "id": "297c0909",
      "metadata": {
        "execution": {
          "iopub.execute_input": "2022-05-05T11:27:46.040337Z",
          "iopub.status.busy": "2022-05-05T11:27:46.039644Z",
          "iopub.status.idle": "2022-05-05T11:27:46.070769Z",
          "shell.execute_reply": "2022-05-05T11:27:46.069733Z"
        },
        "papermill": {
          "duration": 0.122409,
          "end_time": "2022-05-05T11:27:46.073488",
          "exception": false,
          "start_time": "2022-05-05T11:27:45.951079",
          "status": "completed"
        },
        "tags": [],
        "id": "297c0909",
        "outputId": "c5f9f2ba-0e82-4342-93a8-dfc86251aa09",
        "colab": {
          "base_uri": "https://localhost:8080/",
          "height": 424
        }
      },
      "outputs": [
        {
          "output_type": "execute_result",
          "data": {
            "text/plain": [
              "          id  label                                              tweet\n",
              "0          1      0   @user when a father is dysfunctional and is s...\n",
              "1          2      0  @user @user thanks for #lyft credit i can't us...\n",
              "2          3      0                                bihday your majesty\n",
              "3          4      0  #model   i love u take with u all the time in ...\n",
              "4          5      0             factsguide: society now    #motivation\n",
              "...      ...    ...                                                ...\n",
              "31957  31958      0  ate @user isz that youuu?ðððððð...\n",
              "31958  31959      0    to see nina turner on the airwaves trying to...\n",
              "31959  31960      0  listening to sad songs on a monday morning otw...\n",
              "31960  31961      1  @user #sikh #temple vandalised in in #calgary,...\n",
              "31961  31962      0                   thank you @user for you follow  \n",
              "\n",
              "[31962 rows x 3 columns]"
            ],
            "text/html": [
              "\n",
              "\n",
              "  <div id=\"df-5256cfa7-453a-4949-8f7d-068916fd7047\">\n",
              "    <div class=\"colab-df-container\">\n",
              "      <div>\n",
              "<style scoped>\n",
              "    .dataframe tbody tr th:only-of-type {\n",
              "        vertical-align: middle;\n",
              "    }\n",
              "\n",
              "    .dataframe tbody tr th {\n",
              "        vertical-align: top;\n",
              "    }\n",
              "\n",
              "    .dataframe thead th {\n",
              "        text-align: right;\n",
              "    }\n",
              "</style>\n",
              "<table border=\"1\" class=\"dataframe\">\n",
              "  <thead>\n",
              "    <tr style=\"text-align: right;\">\n",
              "      <th></th>\n",
              "      <th>id</th>\n",
              "      <th>label</th>\n",
              "      <th>tweet</th>\n",
              "    </tr>\n",
              "  </thead>\n",
              "  <tbody>\n",
              "    <tr>\n",
              "      <th>0</th>\n",
              "      <td>1</td>\n",
              "      <td>0</td>\n",
              "      <td>@user when a father is dysfunctional and is s...</td>\n",
              "    </tr>\n",
              "    <tr>\n",
              "      <th>1</th>\n",
              "      <td>2</td>\n",
              "      <td>0</td>\n",
              "      <td>@user @user thanks for #lyft credit i can't us...</td>\n",
              "    </tr>\n",
              "    <tr>\n",
              "      <th>2</th>\n",
              "      <td>3</td>\n",
              "      <td>0</td>\n",
              "      <td>bihday your majesty</td>\n",
              "    </tr>\n",
              "    <tr>\n",
              "      <th>3</th>\n",
              "      <td>4</td>\n",
              "      <td>0</td>\n",
              "      <td>#model   i love u take with u all the time in ...</td>\n",
              "    </tr>\n",
              "    <tr>\n",
              "      <th>4</th>\n",
              "      <td>5</td>\n",
              "      <td>0</td>\n",
              "      <td>factsguide: society now    #motivation</td>\n",
              "    </tr>\n",
              "    <tr>\n",
              "      <th>...</th>\n",
              "      <td>...</td>\n",
              "      <td>...</td>\n",
              "      <td>...</td>\n",
              "    </tr>\n",
              "    <tr>\n",
              "      <th>31957</th>\n",
              "      <td>31958</td>\n",
              "      <td>0</td>\n",
              "      <td>ate @user isz that youuu?ðððððð...</td>\n",
              "    </tr>\n",
              "    <tr>\n",
              "      <th>31958</th>\n",
              "      <td>31959</td>\n",
              "      <td>0</td>\n",
              "      <td>to see nina turner on the airwaves trying to...</td>\n",
              "    </tr>\n",
              "    <tr>\n",
              "      <th>31959</th>\n",
              "      <td>31960</td>\n",
              "      <td>0</td>\n",
              "      <td>listening to sad songs on a monday morning otw...</td>\n",
              "    </tr>\n",
              "    <tr>\n",
              "      <th>31960</th>\n",
              "      <td>31961</td>\n",
              "      <td>1</td>\n",
              "      <td>@user #sikh #temple vandalised in in #calgary,...</td>\n",
              "    </tr>\n",
              "    <tr>\n",
              "      <th>31961</th>\n",
              "      <td>31962</td>\n",
              "      <td>0</td>\n",
              "      <td>thank you @user for you follow</td>\n",
              "    </tr>\n",
              "  </tbody>\n",
              "</table>\n",
              "<p>31962 rows × 3 columns</p>\n",
              "</div>\n",
              "      <button class=\"colab-df-convert\" onclick=\"convertToInteractive('df-5256cfa7-453a-4949-8f7d-068916fd7047')\"\n",
              "              title=\"Convert this dataframe to an interactive table.\"\n",
              "              style=\"display:none;\">\n",
              "\n",
              "  <svg xmlns=\"http://www.w3.org/2000/svg\" height=\"24px\"viewBox=\"0 0 24 24\"\n",
              "       width=\"24px\">\n",
              "    <path d=\"M0 0h24v24H0V0z\" fill=\"none\"/>\n",
              "    <path d=\"M18.56 5.44l.94 2.06.94-2.06 2.06-.94-2.06-.94-.94-2.06-.94 2.06-2.06.94zm-11 1L8.5 8.5l.94-2.06 2.06-.94-2.06-.94L8.5 2.5l-.94 2.06-2.06.94zm10 10l.94 2.06.94-2.06 2.06-.94-2.06-.94-.94-2.06-.94 2.06-2.06.94z\"/><path d=\"M17.41 7.96l-1.37-1.37c-.4-.4-.92-.59-1.43-.59-.52 0-1.04.2-1.43.59L10.3 9.45l-7.72 7.72c-.78.78-.78 2.05 0 2.83L4 21.41c.39.39.9.59 1.41.59.51 0 1.02-.2 1.41-.59l7.78-7.78 2.81-2.81c.8-.78.8-2.07 0-2.86zM5.41 20L4 18.59l7.72-7.72 1.47 1.35L5.41 20z\"/>\n",
              "  </svg>\n",
              "      </button>\n",
              "\n",
              "\n",
              "\n",
              "    <div id=\"df-51230d1d-7d0b-4041-a448-2721de72d1ad\">\n",
              "      <button class=\"colab-df-quickchart\" onclick=\"quickchart('df-51230d1d-7d0b-4041-a448-2721de72d1ad')\"\n",
              "              title=\"Suggest charts.\"\n",
              "              style=\"display:none;\">\n",
              "\n",
              "<svg xmlns=\"http://www.w3.org/2000/svg\" height=\"24px\"viewBox=\"0 0 24 24\"\n",
              "     width=\"24px\">\n",
              "    <g>\n",
              "        <path d=\"M19 3H5c-1.1 0-2 .9-2 2v14c0 1.1.9 2 2 2h14c1.1 0 2-.9 2-2V5c0-1.1-.9-2-2-2zM9 17H7v-7h2v7zm4 0h-2V7h2v10zm4 0h-2v-4h2v4z\"/>\n",
              "    </g>\n",
              "</svg>\n",
              "      </button>\n",
              "    </div>\n",
              "\n",
              "<style>\n",
              "  .colab-df-quickchart {\n",
              "    background-color: #E8F0FE;\n",
              "    border: none;\n",
              "    border-radius: 50%;\n",
              "    cursor: pointer;\n",
              "    display: none;\n",
              "    fill: #1967D2;\n",
              "    height: 32px;\n",
              "    padding: 0 0 0 0;\n",
              "    width: 32px;\n",
              "  }\n",
              "\n",
              "  .colab-df-quickchart:hover {\n",
              "    background-color: #E2EBFA;\n",
              "    box-shadow: 0px 1px 2px rgba(60, 64, 67, 0.3), 0px 1px 3px 1px rgba(60, 64, 67, 0.15);\n",
              "    fill: #174EA6;\n",
              "  }\n",
              "\n",
              "  [theme=dark] .colab-df-quickchart {\n",
              "    background-color: #3B4455;\n",
              "    fill: #D2E3FC;\n",
              "  }\n",
              "\n",
              "  [theme=dark] .colab-df-quickchart:hover {\n",
              "    background-color: #434B5C;\n",
              "    box-shadow: 0px 1px 3px 1px rgba(0, 0, 0, 0.15);\n",
              "    filter: drop-shadow(0px 1px 2px rgba(0, 0, 0, 0.3));\n",
              "    fill: #FFFFFF;\n",
              "  }\n",
              "</style>\n",
              "\n",
              "    <script>\n",
              "      async function quickchart(key) {\n",
              "        const containerElement = document.querySelector('#' + key);\n",
              "        const charts = await google.colab.kernel.invokeFunction(\n",
              "            'suggestCharts', [key], {});\n",
              "      }\n",
              "    </script>\n",
              "\n",
              "      <script>\n",
              "\n",
              "function displayQuickchartButton(domScope) {\n",
              "  let quickchartButtonEl =\n",
              "    domScope.querySelector('#df-51230d1d-7d0b-4041-a448-2721de72d1ad button.colab-df-quickchart');\n",
              "  quickchartButtonEl.style.display =\n",
              "    google.colab.kernel.accessAllowed ? 'block' : 'none';\n",
              "}\n",
              "\n",
              "        displayQuickchartButton(document);\n",
              "      </script>\n",
              "      <style>\n",
              "    .colab-df-container {\n",
              "      display:flex;\n",
              "      flex-wrap:wrap;\n",
              "      gap: 12px;\n",
              "    }\n",
              "\n",
              "    .colab-df-convert {\n",
              "      background-color: #E8F0FE;\n",
              "      border: none;\n",
              "      border-radius: 50%;\n",
              "      cursor: pointer;\n",
              "      display: none;\n",
              "      fill: #1967D2;\n",
              "      height: 32px;\n",
              "      padding: 0 0 0 0;\n",
              "      width: 32px;\n",
              "    }\n",
              "\n",
              "    .colab-df-convert:hover {\n",
              "      background-color: #E2EBFA;\n",
              "      box-shadow: 0px 1px 2px rgba(60, 64, 67, 0.3), 0px 1px 3px 1px rgba(60, 64, 67, 0.15);\n",
              "      fill: #174EA6;\n",
              "    }\n",
              "\n",
              "    [theme=dark] .colab-df-convert {\n",
              "      background-color: #3B4455;\n",
              "      fill: #D2E3FC;\n",
              "    }\n",
              "\n",
              "    [theme=dark] .colab-df-convert:hover {\n",
              "      background-color: #434B5C;\n",
              "      box-shadow: 0px 1px 3px 1px rgba(0, 0, 0, 0.15);\n",
              "      filter: drop-shadow(0px 1px 2px rgba(0, 0, 0, 0.3));\n",
              "      fill: #FFFFFF;\n",
              "    }\n",
              "  </style>\n",
              "\n",
              "      <script>\n",
              "        const buttonEl =\n",
              "          document.querySelector('#df-5256cfa7-453a-4949-8f7d-068916fd7047 button.colab-df-convert');\n",
              "        buttonEl.style.display =\n",
              "          google.colab.kernel.accessAllowed ? 'block' : 'none';\n",
              "\n",
              "        async function convertToInteractive(key) {\n",
              "          const element = document.querySelector('#df-5256cfa7-453a-4949-8f7d-068916fd7047');\n",
              "          const dataTable =\n",
              "            await google.colab.kernel.invokeFunction('convertToInteractive',\n",
              "                                                     [key], {});\n",
              "          if (!dataTable) return;\n",
              "\n",
              "          const docLinkHtml = 'Like what you see? Visit the ' +\n",
              "            '<a target=\"_blank\" href=https://colab.research.google.com/notebooks/data_table.ipynb>data table notebook</a>'\n",
              "            + ' to learn more about interactive tables.';\n",
              "          element.innerHTML = '';\n",
              "          dataTable['output_type'] = 'display_data';\n",
              "          await google.colab.output.renderOutput(dataTable, element);\n",
              "          const docLink = document.createElement('div');\n",
              "          docLink.innerHTML = docLinkHtml;\n",
              "          element.appendChild(docLink);\n",
              "        }\n",
              "      </script>\n",
              "    </div>\n",
              "  </div>\n"
            ]
          },
          "metadata": {},
          "execution_count": 82
        }
      ],
      "source": [
        "data"
      ]
    },
    {
      "cell_type": "markdown",
      "id": "ea1424f4",
      "metadata": {
        "papermill": {
          "duration": 0.083467,
          "end_time": "2022-05-05T11:27:46.239826",
          "exception": false,
          "start_time": "2022-05-05T11:27:46.156359",
          "status": "completed"
        },
        "tags": [],
        "id": "ea1424f4"
      },
      "source": [
        "0 label = Positive Tweet\n",
        "\n",
        "1 label = Negative Tweet"
      ]
    },
    {
      "cell_type": "code",
      "execution_count": 83,
      "id": "8c42cfc0",
      "metadata": {
        "execution": {
          "iopub.execute_input": "2022-05-05T11:27:46.405212Z",
          "iopub.status.busy": "2022-05-05T11:27:46.404494Z",
          "iopub.status.idle": "2022-05-05T11:27:46.441453Z",
          "shell.execute_reply": "2022-05-05T11:27:46.440066Z"
        },
        "papermill": {
          "duration": 0.123491,
          "end_time": "2022-05-05T11:27:46.444407",
          "exception": false,
          "start_time": "2022-05-05T11:27:46.320916",
          "status": "completed"
        },
        "tags": [],
        "id": "8c42cfc0",
        "outputId": "6147eefb-9aee-415c-8d9d-0a578c9a61d0",
        "colab": {
          "base_uri": "https://localhost:8080/"
        }
      },
      "outputs": [
        {
          "output_type": "stream",
          "name": "stdout",
          "text": [
            "<class 'pandas.core.frame.DataFrame'>\n",
            "RangeIndex: 31962 entries, 0 to 31961\n",
            "Data columns (total 3 columns):\n",
            " #   Column  Non-Null Count  Dtype \n",
            "---  ------  --------------  ----- \n",
            " 0   id      31962 non-null  int64 \n",
            " 1   label   31962 non-null  int64 \n",
            " 2   tweet   31962 non-null  object\n",
            "dtypes: int64(2), object(1)\n",
            "memory usage: 749.2+ KB\n"
          ]
        }
      ],
      "source": [
        "data.info()"
      ]
    },
    {
      "cell_type": "code",
      "execution_count": 84,
      "id": "8ded359c",
      "metadata": {
        "execution": {
          "iopub.execute_input": "2022-05-05T11:27:46.610819Z",
          "iopub.status.busy": "2022-05-05T11:27:46.609815Z",
          "iopub.status.idle": "2022-05-05T11:27:46.617228Z",
          "shell.execute_reply": "2022-05-05T11:27:46.616418Z"
        },
        "papermill": {
          "duration": 0.096347,
          "end_time": "2022-05-05T11:27:46.621013",
          "exception": false,
          "start_time": "2022-05-05T11:27:46.524666",
          "status": "completed"
        },
        "tags": [],
        "id": "8ded359c",
        "outputId": "0d0bf8a9-82b1-4573-8126-5839a69cfd1c",
        "colab": {
          "base_uri": "https://localhost:8080/"
        }
      },
      "outputs": [
        {
          "output_type": "execute_result",
          "data": {
            "text/plain": [
              "(31962, 3)"
            ]
          },
          "metadata": {},
          "execution_count": 84
        }
      ],
      "source": [
        "data.shape"
      ]
    },
    {
      "cell_type": "code",
      "execution_count": 85,
      "id": "89bb9221",
      "metadata": {
        "execution": {
          "iopub.execute_input": "2022-05-05T11:27:46.784652Z",
          "iopub.status.busy": "2022-05-05T11:27:46.783619Z",
          "iopub.status.idle": "2022-05-05T11:27:46.793395Z",
          "shell.execute_reply": "2022-05-05T11:27:46.792587Z"
        },
        "papermill": {
          "duration": 0.091807,
          "end_time": "2022-05-05T11:27:46.795513",
          "exception": false,
          "start_time": "2022-05-05T11:27:46.703706",
          "status": "completed"
        },
        "tags": [],
        "id": "89bb9221",
        "outputId": "7d85d49f-0903-4b00-ca35-bf1b3bed6f9b",
        "colab": {
          "base_uri": "https://localhost:8080/"
        }
      },
      "outputs": [
        {
          "output_type": "execute_result",
          "data": {
            "text/plain": [
              "0         @user when a father is dysfunctional and is s...\n",
              "1        @user @user thanks for #lyft credit i can't us...\n",
              "2                                      bihday your majesty\n",
              "3        #model   i love u take with u all the time in ...\n",
              "4                   factsguide: society now    #motivation\n",
              "                               ...                        \n",
              "31957    ate @user isz that youuu?ðððððð...\n",
              "31958      to see nina turner on the airwaves trying to...\n",
              "31959    listening to sad songs on a monday morning otw...\n",
              "31960    @user #sikh #temple vandalised in in #calgary,...\n",
              "31961                     thank you @user for you follow  \n",
              "Name: tweet, Length: 31962, dtype: object"
            ]
          },
          "metadata": {},
          "execution_count": 85
        }
      ],
      "source": [
        "data['tweet']"
      ]
    },
    {
      "cell_type": "code",
      "execution_count": 86,
      "id": "c1da1860",
      "metadata": {
        "execution": {
          "iopub.execute_input": "2022-05-05T11:27:46.967798Z",
          "iopub.status.busy": "2022-05-05T11:27:46.967215Z",
          "iopub.status.idle": "2022-05-05T11:27:46.976619Z",
          "shell.execute_reply": "2022-05-05T11:27:46.975673Z"
        },
        "papermill": {
          "duration": 0.099585,
          "end_time": "2022-05-05T11:27:46.979625",
          "exception": false,
          "start_time": "2022-05-05T11:27:46.880040",
          "status": "completed"
        },
        "tags": [],
        "id": "c1da1860"
      },
      "outputs": [],
      "source": [
        "data = data.drop('id', axis = 1)"
      ]
    },
    {
      "cell_type": "code",
      "execution_count": 87,
      "id": "6a63eb8d",
      "metadata": {
        "execution": {
          "iopub.execute_input": "2022-05-05T11:27:47.152144Z",
          "iopub.status.busy": "2022-05-05T11:27:47.150786Z",
          "iopub.status.idle": "2022-05-05T11:27:47.164543Z",
          "shell.execute_reply": "2022-05-05T11:27:47.162752Z"
        },
        "papermill": {
          "duration": 0.100357,
          "end_time": "2022-05-05T11:27:47.167264",
          "exception": false,
          "start_time": "2022-05-05T11:27:47.066907",
          "status": "completed"
        },
        "tags": [],
        "id": "6a63eb8d",
        "outputId": "d3d55f5f-db91-43a2-ece5-418679f48232",
        "colab": {
          "base_uri": "https://localhost:8080/",
          "height": 206
        }
      },
      "outputs": [
        {
          "output_type": "execute_result",
          "data": {
            "text/plain": [
              "   label                                              tweet\n",
              "0      0   @user when a father is dysfunctional and is s...\n",
              "1      0  @user @user thanks for #lyft credit i can't us...\n",
              "2      0                                bihday your majesty\n",
              "3      0  #model   i love u take with u all the time in ...\n",
              "4      0             factsguide: society now    #motivation"
            ],
            "text/html": [
              "\n",
              "\n",
              "  <div id=\"df-97c23550-bc42-4cb8-8ff0-4de264496e17\">\n",
              "    <div class=\"colab-df-container\">\n",
              "      <div>\n",
              "<style scoped>\n",
              "    .dataframe tbody tr th:only-of-type {\n",
              "        vertical-align: middle;\n",
              "    }\n",
              "\n",
              "    .dataframe tbody tr th {\n",
              "        vertical-align: top;\n",
              "    }\n",
              "\n",
              "    .dataframe thead th {\n",
              "        text-align: right;\n",
              "    }\n",
              "</style>\n",
              "<table border=\"1\" class=\"dataframe\">\n",
              "  <thead>\n",
              "    <tr style=\"text-align: right;\">\n",
              "      <th></th>\n",
              "      <th>label</th>\n",
              "      <th>tweet</th>\n",
              "    </tr>\n",
              "  </thead>\n",
              "  <tbody>\n",
              "    <tr>\n",
              "      <th>0</th>\n",
              "      <td>0</td>\n",
              "      <td>@user when a father is dysfunctional and is s...</td>\n",
              "    </tr>\n",
              "    <tr>\n",
              "      <th>1</th>\n",
              "      <td>0</td>\n",
              "      <td>@user @user thanks for #lyft credit i can't us...</td>\n",
              "    </tr>\n",
              "    <tr>\n",
              "      <th>2</th>\n",
              "      <td>0</td>\n",
              "      <td>bihday your majesty</td>\n",
              "    </tr>\n",
              "    <tr>\n",
              "      <th>3</th>\n",
              "      <td>0</td>\n",
              "      <td>#model   i love u take with u all the time in ...</td>\n",
              "    </tr>\n",
              "    <tr>\n",
              "      <th>4</th>\n",
              "      <td>0</td>\n",
              "      <td>factsguide: society now    #motivation</td>\n",
              "    </tr>\n",
              "  </tbody>\n",
              "</table>\n",
              "</div>\n",
              "      <button class=\"colab-df-convert\" onclick=\"convertToInteractive('df-97c23550-bc42-4cb8-8ff0-4de264496e17')\"\n",
              "              title=\"Convert this dataframe to an interactive table.\"\n",
              "              style=\"display:none;\">\n",
              "\n",
              "  <svg xmlns=\"http://www.w3.org/2000/svg\" height=\"24px\"viewBox=\"0 0 24 24\"\n",
              "       width=\"24px\">\n",
              "    <path d=\"M0 0h24v24H0V0z\" fill=\"none\"/>\n",
              "    <path d=\"M18.56 5.44l.94 2.06.94-2.06 2.06-.94-2.06-.94-.94-2.06-.94 2.06-2.06.94zm-11 1L8.5 8.5l.94-2.06 2.06-.94-2.06-.94L8.5 2.5l-.94 2.06-2.06.94zm10 10l.94 2.06.94-2.06 2.06-.94-2.06-.94-.94-2.06-.94 2.06-2.06.94z\"/><path d=\"M17.41 7.96l-1.37-1.37c-.4-.4-.92-.59-1.43-.59-.52 0-1.04.2-1.43.59L10.3 9.45l-7.72 7.72c-.78.78-.78 2.05 0 2.83L4 21.41c.39.39.9.59 1.41.59.51 0 1.02-.2 1.41-.59l7.78-7.78 2.81-2.81c.8-.78.8-2.07 0-2.86zM5.41 20L4 18.59l7.72-7.72 1.47 1.35L5.41 20z\"/>\n",
              "  </svg>\n",
              "      </button>\n",
              "\n",
              "\n",
              "\n",
              "    <div id=\"df-f9ee4533-667b-4b52-8e72-0e396b5b40cf\">\n",
              "      <button class=\"colab-df-quickchart\" onclick=\"quickchart('df-f9ee4533-667b-4b52-8e72-0e396b5b40cf')\"\n",
              "              title=\"Suggest charts.\"\n",
              "              style=\"display:none;\">\n",
              "\n",
              "<svg xmlns=\"http://www.w3.org/2000/svg\" height=\"24px\"viewBox=\"0 0 24 24\"\n",
              "     width=\"24px\">\n",
              "    <g>\n",
              "        <path d=\"M19 3H5c-1.1 0-2 .9-2 2v14c0 1.1.9 2 2 2h14c1.1 0 2-.9 2-2V5c0-1.1-.9-2-2-2zM9 17H7v-7h2v7zm4 0h-2V7h2v10zm4 0h-2v-4h2v4z\"/>\n",
              "    </g>\n",
              "</svg>\n",
              "      </button>\n",
              "    </div>\n",
              "\n",
              "<style>\n",
              "  .colab-df-quickchart {\n",
              "    background-color: #E8F0FE;\n",
              "    border: none;\n",
              "    border-radius: 50%;\n",
              "    cursor: pointer;\n",
              "    display: none;\n",
              "    fill: #1967D2;\n",
              "    height: 32px;\n",
              "    padding: 0 0 0 0;\n",
              "    width: 32px;\n",
              "  }\n",
              "\n",
              "  .colab-df-quickchart:hover {\n",
              "    background-color: #E2EBFA;\n",
              "    box-shadow: 0px 1px 2px rgba(60, 64, 67, 0.3), 0px 1px 3px 1px rgba(60, 64, 67, 0.15);\n",
              "    fill: #174EA6;\n",
              "  }\n",
              "\n",
              "  [theme=dark] .colab-df-quickchart {\n",
              "    background-color: #3B4455;\n",
              "    fill: #D2E3FC;\n",
              "  }\n",
              "\n",
              "  [theme=dark] .colab-df-quickchart:hover {\n",
              "    background-color: #434B5C;\n",
              "    box-shadow: 0px 1px 3px 1px rgba(0, 0, 0, 0.15);\n",
              "    filter: drop-shadow(0px 1px 2px rgba(0, 0, 0, 0.3));\n",
              "    fill: #FFFFFF;\n",
              "  }\n",
              "</style>\n",
              "\n",
              "    <script>\n",
              "      async function quickchart(key) {\n",
              "        const containerElement = document.querySelector('#' + key);\n",
              "        const charts = await google.colab.kernel.invokeFunction(\n",
              "            'suggestCharts', [key], {});\n",
              "      }\n",
              "    </script>\n",
              "\n",
              "      <script>\n",
              "\n",
              "function displayQuickchartButton(domScope) {\n",
              "  let quickchartButtonEl =\n",
              "    domScope.querySelector('#df-f9ee4533-667b-4b52-8e72-0e396b5b40cf button.colab-df-quickchart');\n",
              "  quickchartButtonEl.style.display =\n",
              "    google.colab.kernel.accessAllowed ? 'block' : 'none';\n",
              "}\n",
              "\n",
              "        displayQuickchartButton(document);\n",
              "      </script>\n",
              "      <style>\n",
              "    .colab-df-container {\n",
              "      display:flex;\n",
              "      flex-wrap:wrap;\n",
              "      gap: 12px;\n",
              "    }\n",
              "\n",
              "    .colab-df-convert {\n",
              "      background-color: #E8F0FE;\n",
              "      border: none;\n",
              "      border-radius: 50%;\n",
              "      cursor: pointer;\n",
              "      display: none;\n",
              "      fill: #1967D2;\n",
              "      height: 32px;\n",
              "      padding: 0 0 0 0;\n",
              "      width: 32px;\n",
              "    }\n",
              "\n",
              "    .colab-df-convert:hover {\n",
              "      background-color: #E2EBFA;\n",
              "      box-shadow: 0px 1px 2px rgba(60, 64, 67, 0.3), 0px 1px 3px 1px rgba(60, 64, 67, 0.15);\n",
              "      fill: #174EA6;\n",
              "    }\n",
              "\n",
              "    [theme=dark] .colab-df-convert {\n",
              "      background-color: #3B4455;\n",
              "      fill: #D2E3FC;\n",
              "    }\n",
              "\n",
              "    [theme=dark] .colab-df-convert:hover {\n",
              "      background-color: #434B5C;\n",
              "      box-shadow: 0px 1px 3px 1px rgba(0, 0, 0, 0.15);\n",
              "      filter: drop-shadow(0px 1px 2px rgba(0, 0, 0, 0.3));\n",
              "      fill: #FFFFFF;\n",
              "    }\n",
              "  </style>\n",
              "\n",
              "      <script>\n",
              "        const buttonEl =\n",
              "          document.querySelector('#df-97c23550-bc42-4cb8-8ff0-4de264496e17 button.colab-df-convert');\n",
              "        buttonEl.style.display =\n",
              "          google.colab.kernel.accessAllowed ? 'block' : 'none';\n",
              "\n",
              "        async function convertToInteractive(key) {\n",
              "          const element = document.querySelector('#df-97c23550-bc42-4cb8-8ff0-4de264496e17');\n",
              "          const dataTable =\n",
              "            await google.colab.kernel.invokeFunction('convertToInteractive',\n",
              "                                                     [key], {});\n",
              "          if (!dataTable) return;\n",
              "\n",
              "          const docLinkHtml = 'Like what you see? Visit the ' +\n",
              "            '<a target=\"_blank\" href=https://colab.research.google.com/notebooks/data_table.ipynb>data table notebook</a>'\n",
              "            + ' to learn more about interactive tables.';\n",
              "          element.innerHTML = '';\n",
              "          dataTable['output_type'] = 'display_data';\n",
              "          await google.colab.output.renderOutput(dataTable, element);\n",
              "          const docLink = document.createElement('div');\n",
              "          docLink.innerHTML = docLinkHtml;\n",
              "          element.appendChild(docLink);\n",
              "        }\n",
              "      </script>\n",
              "    </div>\n",
              "  </div>\n"
            ]
          },
          "metadata": {},
          "execution_count": 87
        }
      ],
      "source": [
        "data.head()"
      ]
    },
    {
      "cell_type": "markdown",
      "id": "432592b2",
      "metadata": {
        "papermill": {
          "duration": 0.079495,
          "end_time": "2022-05-05T11:27:47.335537",
          "exception": false,
          "start_time": "2022-05-05T11:27:47.256042",
          "status": "completed"
        },
        "tags": [],
        "id": "432592b2"
      },
      "source": [
        "Exploring the dataset"
      ]
    },
    {
      "cell_type": "code",
      "execution_count": 88,
      "id": "5bf3aff8",
      "metadata": {
        "execution": {
          "iopub.execute_input": "2022-05-05T11:27:48.008295Z",
          "iopub.status.busy": "2022-05-05T11:27:48.007692Z",
          "iopub.status.idle": "2022-05-05T11:27:48.195040Z",
          "shell.execute_reply": "2022-05-05T11:27:48.194300Z"
        },
        "papermill": {
          "duration": 0.27811,
          "end_time": "2022-05-05T11:27:48.198493",
          "exception": false,
          "start_time": "2022-05-05T11:27:47.920383",
          "status": "completed"
        },
        "tags": [],
        "id": "5bf3aff8",
        "outputId": "b4169d8f-4675-4230-ff3a-ff89de7983df",
        "colab": {
          "base_uri": "https://localhost:8080/",
          "height": 449
        }
      },
      "outputs": [
        {
          "output_type": "display_data",
          "data": {
            "text/plain": [
              "<Figure size 640x480 with 1 Axes>"
            ],
            "image/png": "[encoded data removed]"
          },
          "metadata": {}
        }
      ],
      "source": [
        "sns.countplot(x = data['label'])\n",
        "plt.show()"
      ]
    },
    {
      "cell_type": "code",
      "execution_count": 89,
      "id": "8f8d5aee",
      "metadata": {
        "execution": {
          "iopub.execute_input": "2022-05-05T11:27:48.406231Z",
          "iopub.status.busy": "2022-05-05T11:27:48.405572Z",
          "iopub.status.idle": "2022-05-05T11:27:48.411519Z",
          "shell.execute_reply": "2022-05-05T11:27:48.410525Z"
        },
        "papermill": {
          "duration": 0.103918,
          "end_time": "2022-05-05T11:27:48.414899",
          "exception": false,
          "start_time": "2022-05-05T11:27:48.310981",
          "status": "completed"
        },
        "tags": [],
        "id": "8f8d5aee",
        "outputId": "09b26f8a-1866-4b46-db1b-af9712935552",
        "colab": {
          "base_uri": "https://localhost:8080/"
        }
      },
      "outputs": [
        {
          "output_type": "execute_result",
          "data": {
            "text/plain": [
              "31962"
            ]
          },
          "metadata": {},
          "execution_count": 89
        }
      ],
      "source": [
        "len(data)"
      ]
    },
    {
      "cell_type": "code",
      "execution_count": 90,
      "id": "7d0c8211",
      "metadata": {
        "execution": {
          "iopub.execute_input": "2022-05-05T11:27:48.593406Z",
          "iopub.status.busy": "2022-05-05T11:27:48.592849Z",
          "iopub.status.idle": "2022-05-05T11:27:49.755033Z",
          "shell.execute_reply": "2022-05-05T11:27:49.754259Z"
        },
        "papermill": {
          "duration": 1.250743,
          "end_time": "2022-05-05T11:27:49.757455",
          "exception": false,
          "start_time": "2022-05-05T11:27:48.506712",
          "status": "completed"
        },
        "tags": [],
        "id": "7d0c8211"
      },
      "outputs": [],
      "source": [
        "# lenght of each tweet\n",
        "length = list()\n",
        "for i in range(len(data)):\n",
        "    length.append(len(data.iloc[i,1]))"
      ]
    },
    {
      "cell_type": "code",
      "execution_count": 91,
      "id": "3966f333",
      "metadata": {
        "execution": {
          "iopub.execute_input": "2022-05-05T11:27:49.926306Z",
          "iopub.status.busy": "2022-05-05T11:27:49.925791Z",
          "iopub.status.idle": "2022-05-05T11:27:49.944329Z",
          "shell.execute_reply": "2022-05-05T11:27:49.943434Z"
        },
        "papermill": {
          "duration": 0.105213,
          "end_time": "2022-05-05T11:27:49.946833",
          "exception": false,
          "start_time": "2022-05-05T11:27:49.841620",
          "status": "completed"
        },
        "tags": [],
        "id": "3966f333"
      },
      "outputs": [],
      "source": [
        "data['length'] = length"
      ]
    },
    {
      "cell_type": "code",
      "execution_count": 92,
      "id": "67ebb31d",
      "metadata": {
        "execution": {
          "iopub.execute_input": "2022-05-05T11:27:50.123939Z",
          "iopub.status.busy": "2022-05-05T11:27:50.123422Z",
          "iopub.status.idle": "2022-05-05T11:27:50.134889Z",
          "shell.execute_reply": "2022-05-05T11:27:50.133751Z"
        },
        "papermill": {
          "duration": 0.09997,
          "end_time": "2022-05-05T11:27:50.137418",
          "exception": false,
          "start_time": "2022-05-05T11:27:50.037448",
          "status": "completed"
        },
        "tags": [],
        "id": "67ebb31d",
        "outputId": "c48c5a23-da30-456f-bb02-91ca46e885c7",
        "colab": {
          "base_uri": "https://localhost:8080/",
          "height": 206
        }
      },
      "outputs": [
        {
          "output_type": "execute_result",
          "data": {
            "text/plain": [
              "   label                                              tweet  length\n",
              "0      0   @user when a father is dysfunctional and is s...     102\n",
              "1      0  @user @user thanks for #lyft credit i can't us...     122\n",
              "2      0                                bihday your majesty      21\n",
              "3      0  #model   i love u take with u all the time in ...      86\n",
              "4      0             factsguide: society now    #motivation      39"
            ],
            "text/html": [
              "\n",
              "\n",
              "  <div id=\"df-c58ba149-e30b-43ee-8dee-cc803df4e83b\">\n",
              "    <div class=\"colab-df-container\">\n",
              "      <div>\n",
              "<style scoped>\n",
              "    .dataframe tbody tr th:only-of-type {\n",
              "        vertical-align: middle;\n",
              "    }\n",
              "\n",
              "    .dataframe tbody tr th {\n",
              "        vertical-align: top;\n",
              "    }\n",
              "\n",
              "    .dataframe thead th {\n",
              "        text-align: right;\n",
              "    }\n",
              "</style>\n",
              "<table border=\"1\" class=\"dataframe\">\n",
              "  <thead>\n",
              "    <tr style=\"text-align: right;\">\n",
              "      <th></th>\n",
              "      <th>label</th>\n",
              "      <th>tweet</th>\n",
              "      <th>length</th>\n",
              "    </tr>\n",
              "  </thead>\n",
              "  <tbody>\n",
              "    <tr>\n",
              "      <th>0</th>\n",
              "      <td>0</td>\n",
              "      <td>@user when a father is dysfunctional and is s...</td>\n",
              "      <td>102</td>\n",
              "    </tr>\n",
              "    <tr>\n",
              "      <th>1</th>\n",
              "      <td>0</td>\n",
              "      <td>@user @user thanks for #lyft credit i can't us...</td>\n",
              "      <td>122</td>\n",
              "    </tr>\n",
              "    <tr>\n",
              "      <th>2</th>\n",
              "      <td>0</td>\n",
              "      <td>bihday your majesty</td>\n",
              "      <td>21</td>\n",
              "    </tr>\n",
              "    <tr>\n",
              "      <th>3</th>\n",
              "      <td>0</td>\n",
              "      <td>#model   i love u take with u all the time in ...</td>\n",
              "      <td>86</td>\n",
              "    </tr>\n",
              "    <tr>\n",
              "      <th>4</th>\n",
              "      <td>0</td>\n",
              "      <td>factsguide: society now    #motivation</td>\n",
              "      <td>39</td>\n",
              "    </tr>\n",
              "  </tbody>\n",
              "</table>\n",
              "</div>\n",
              "      <button class=\"colab-df-convert\" onclick=\"convertToInteractive('df-c58ba149-e30b-43ee-8dee-cc803df4e83b')\"\n",
              "              title=\"Convert this dataframe to an interactive table.\"\n",
              "              style=\"display:none;\">\n",
              "\n",
              "  <svg xmlns=\"http://www.w3.org/2000/svg\" height=\"24px\"viewBox=\"0 0 24 24\"\n",
              "       width=\"24px\">\n",
              "    <path d=\"M0 0h24v24H0V0z\" fill=\"none\"/>\n",
              "    <path d=\"M18.56 5.44l.94 2.06.94-2.06 2.06-.94-2.06-.94-.94-2.06-.94 2.06-2.06.94zm-11 1L8.5 8.5l.94-2.06 2.06-.94-2.06-.94L8.5 2.5l-.94 2.06-2.06.94zm10 10l.94 2.06.94-2.06 2.06-.94-2.06-.94-.94-2.06-.94 2.06-2.06.94z\"/><path d=\"M17.41 7.96l-1.37-1.37c-.4-.4-.92-.59-1.43-.59-.52 0-1.04.2-1.43.59L10.3 9.45l-7.72 7.72c-.78.78-.78 2.05 0 2.83L4 21.41c.39.39.9.59 1.41.59.51 0 1.02-.2 1.41-.59l7.78-7.78 2.81-2.81c.8-.78.8-2.07 0-2.86zM5.41 20L4 18.59l7.72-7.72 1.47 1.35L5.41 20z\"/>\n",
              "  </svg>\n",
              "      </button>\n",
              "\n",
              "\n",
              "\n",
              "    <div id=\"df-aaaec7ab-8aaf-4ac6-b8b0-4776cd25ca30\">\n",
              "      <button class=\"colab-df-quickchart\" onclick=\"quickchart('df-aaaec7ab-8aaf-4ac6-b8b0-4776cd25ca30')\"\n",
              "              title=\"Suggest charts.\"\n",
              "              style=\"display:none;\">\n",
              "\n",
              "<svg xmlns=\"http://www.w3.org/2000/svg\" height=\"24px\"viewBox=\"0 0 24 24\"\n",
              "     width=\"24px\">\n",
              "    <g>\n",
              "        <path d=\"M19 3H5c-1.1 0-2 .9-2 2v14c0 1.1.9 2 2 2h14c1.1 0 2-.9 2-2V5c0-1.1-.9-2-2-2zM9 17H7v-7h2v7zm4 0h-2V7h2v10zm4 0h-2v-4h2v4z\"/>\n",
              "    </g>\n",
              "</svg>\n",
              "      </button>\n",
              "    </div>\n",
              "\n",
              "<style>\n",
              "  .colab-df-quickchart {\n",
              "    background-color: #E8F0FE;\n",
              "    border: none;\n",
              "    border-radius: 50%;\n",
              "    cursor: pointer;\n",
              "    display: none;\n",
              "    fill: #1967D2;\n",
              "    height: 32px;\n",
              "    padding: 0 0 0 0;\n",
              "    width: 32px;\n",
              "  }\n",
              "\n",
              "  .colab-df-quickchart:hover {\n",
              "    background-color: #E2EBFA;\n",
              "    box-shadow: 0px 1px 2px rgba(60, 64, 67, 0.3), 0px 1px 3px 1px rgba(60, 64, 67, 0.15);\n",
              "    fill: #174EA6;\n",
              "  }\n",
              "\n",
              "  [theme=dark] .colab-df-quickchart {\n",
              "    background-color: #3B4455;\n",
              "    fill: #D2E3FC;\n",
              "  }\n",
              "\n",
              "  [theme=dark] .colab-df-quickchart:hover {\n",
              "    background-color: #434B5C;\n",
              "    box-shadow: 0px 1px 3px 1px rgba(0, 0, 0, 0.15);\n",
              "    filter: drop-shadow(0px 1px 2px rgba(0, 0, 0, 0.3));\n",
              "    fill: #FFFFFF;\n",
              "  }\n",
              "</style>\n",
              "\n",
              "    <script>\n",
              "      async function quickchart(key) {\n",
              "        const containerElement = document.querySelector('#' + key);\n",
              "        const charts = await google.colab.kernel.invokeFunction(\n",
              "            'suggestCharts', [key], {});\n",
              "      }\n",
              "    </script>\n",
              "\n",
              "      <script>\n",
              "\n",
              "function displayQuickchartButton(domScope) {\n",
              "  let quickchartButtonEl =\n",
              "    domScope.querySelector('#df-aaaec7ab-8aaf-4ac6-b8b0-4776cd25ca30 button.colab-df-quickchart');\n",
              "  quickchartButtonEl.style.display =\n",
              "    google.colab.kernel.accessAllowed ? 'block' : 'none';\n",
              "}\n",
              "\n",
              "        displayQuickchartButton(document);\n",
              "      </script>\n",
              "      <style>\n",
              "    .colab-df-container {\n",
              "      display:flex;\n",
              "      flex-wrap:wrap;\n",
              "      gap: 12px;\n",
              "    }\n",
              "\n",
              "    .colab-df-convert {\n",
              "      background-color: #E8F0FE;\n",
              "      border: none;\n",
              "      border-radius: 50%;\n",
              "      cursor: pointer;\n",
              "      display: none;\n",
              "      fill: #1967D2;\n",
              "      height: 32px;\n",
              "      padding: 0 0 0 0;\n",
              "      width: 32px;\n",
              "    }\n",
              "\n",
              "    .colab-df-convert:hover {\n",
              "      background-color: #E2EBFA;\n",
              "      box-shadow: 0px 1px 2px rgba(60, 64, 67, 0.3), 0px 1px 3px 1px rgba(60, 64, 67, 0.15);\n",
              "      fill: #174EA6;\n",
              "    }\n",
              "\n",
              "    [theme=dark] .colab-df-convert {\n",
              "      background-color: #3B4455;\n",
              "      fill: #D2E3FC;\n",
              "    }\n",
              "\n",
              "    [theme=dark] .colab-df-convert:hover {\n",
              "      background-color: #434B5C;\n",
              "      box-shadow: 0px 1px 3px 1px rgba(0, 0, 0, 0.15);\n",
              "      filter: drop-shadow(0px 1px 2px rgba(0, 0, 0, 0.3));\n",
              "      fill: #FFFFFF;\n",
              "    }\n",
              "  </style>\n",
              "\n",
              "      <script>\n",
              "        const buttonEl =\n",
              "          document.querySelector('#df-c58ba149-e30b-43ee-8dee-cc803df4e83b button.colab-df-convert');\n",
              "        buttonEl.style.display =\n",
              "          google.colab.kernel.accessAllowed ? 'block' : 'none';\n",
              "\n",
              "        async function convertToInteractive(key) {\n",
              "          const element = document.querySelector('#df-c58ba149-e30b-43ee-8dee-cc803df4e83b');\n",
              "          const dataTable =\n",
              "            await google.colab.kernel.invokeFunction('convertToInteractive',\n",
              "                                                     [key], {});\n",
              "          if (!dataTable) return;\n",
              "\n",
              "          const docLinkHtml = 'Like what you see? Visit the ' +\n",
              "            '<a target=\"_blank\" href=https://colab.research.google.com/notebooks/data_table.ipynb>data table notebook</a>'\n",
              "            + ' to learn more about interactive tables.';\n",
              "          element.innerHTML = '';\n",
              "          dataTable['output_type'] = 'display_data';\n",
              "          await google.colab.output.renderOutput(dataTable, element);\n",
              "          const docLink = document.createElement('div');\n",
              "          docLink.innerHTML = docLinkHtml;\n",
              "          element.appendChild(docLink);\n",
              "        }\n",
              "      </script>\n",
              "    </div>\n",
              "  </div>\n"
            ]
          },
          "metadata": {},
          "execution_count": 92
        }
      ],
      "source": [
        "data.head()"
      ]
    },
    {
      "cell_type": "code",
      "execution_count": 93,
      "id": "4afb1fbf",
      "metadata": {
        "execution": {
          "iopub.execute_input": "2022-05-05T11:27:50.870839Z",
          "iopub.status.busy": "2022-05-05T11:27:50.870295Z",
          "iopub.status.idle": "2022-05-05T11:27:50.895740Z",
          "shell.execute_reply": "2022-05-05T11:27:50.895032Z"
        },
        "papermill": {
          "duration": 0.112445,
          "end_time": "2022-05-05T11:27:50.897748",
          "exception": false,
          "start_time": "2022-05-05T11:27:50.785303",
          "status": "completed"
        },
        "tags": [],
        "id": "4afb1fbf",
        "outputId": "66f07a16-ee54-4e43-f4a9-a6510f66dc29",
        "colab": {
          "base_uri": "https://localhost:8080/",
          "height": 300
        }
      },
      "outputs": [
        {
          "output_type": "execute_result",
          "data": {
            "text/plain": [
              "              label        length\n",
              "count  31962.000000  31962.000000\n",
              "mean       0.070146     84.739628\n",
              "std        0.255397     29.455749\n",
              "min        0.000000     11.000000\n",
              "25%        0.000000     63.000000\n",
              "50%        0.000000     88.000000\n",
              "75%        0.000000    108.000000\n",
              "max        1.000000    274.000000"
            ],
            "text/html": [
              "\n",
              "\n",
              "  <div id=\"df-be3bda7e-b6d7-4899-8f30-be26bb4f03ba\">\n",
              "    <div class=\"colab-df-container\">\n",
              "      <div>\n",
              "<style scoped>\n",
              "    .dataframe tbody tr th:only-of-type {\n",
              "        vertical-align: middle;\n",
              "    }\n",
              "\n",
              "    .dataframe tbody tr th {\n",
              "        vertical-align: top;\n",
              "    }\n",
              "\n",
              "    .dataframe thead th {\n",
              "        text-align: right;\n",
              "    }\n",
              "</style>\n",
              "<table border=\"1\" class=\"dataframe\">\n",
              "  <thead>\n",
              "    <tr style=\"text-align: right;\">\n",
              "      <th></th>\n",
              "      <th>label</th>\n",
              "      <th>length</th>\n",
              "    </tr>\n",
              "  </thead>\n",
              "  <tbody>\n",
              "    <tr>\n",
              "      <th>count</th>\n",
              "      <td>31962.000000</td>\n",
              "      <td>31962.000000</td>\n",
              "    </tr>\n",
              "    <tr>\n",
              "      <th>mean</th>\n",
              "      <td>0.070146</td>\n",
              "      <td>84.739628</td>\n",
              "    </tr>\n",
              "    <tr>\n",
              "      <th>std</th>\n",
              "      <td>0.255397</td>\n",
              "      <td>29.455749</td>\n",
              "    </tr>\n",
              "    <tr>\n",
              "      <th>min</th>\n",
              "      <td>0.000000</td>\n",
              "      <td>11.000000</td>\n",
              "    </tr>\n",
              "    <tr>\n",
              "      <th>25%</th>\n",
              "      <td>0.000000</td>\n",
              "      <td>63.000000</td>\n",
              "    </tr>\n",
              "    <tr>\n",
              "      <th>50%</th>\n",
              "      <td>0.000000</td>\n",
              "      <td>88.000000</td>\n",
              "    </tr>\n",
              "    <tr>\n",
              "      <th>75%</th>\n",
              "      <td>0.000000</td>\n",
              "      <td>108.000000</td>\n",
              "    </tr>\n",
              "    <tr>\n",
              "      <th>max</th>\n",
              "      <td>1.000000</td>\n",
              "      <td>274.000000</td>\n",
              "    </tr>\n",
              "  </tbody>\n",
              "</table>\n",
              "</div>\n",
              "      <button class=\"colab-df-convert\" onclick=\"convertToInteractive('df-be3bda7e-b6d7-4899-8f30-be26bb4f03ba')\"\n",
              "              title=\"Convert this dataframe to an interactive table.\"\n",
              "              style=\"display:none;\">\n",
              "\n",
              "  <svg xmlns=\"http://www.w3.org/2000/svg\" height=\"24px\"viewBox=\"0 0 24 24\"\n",
              "       width=\"24px\">\n",
              "    <path d=\"M0 0h24v24H0V0z\" fill=\"none\"/>\n",
              "    <path d=\"M18.56 5.44l.94 2.06.94-2.06 2.06-.94-2.06-.94-.94-2.06-.94 2.06-2.06.94zm-11 1L8.5 8.5l.94-2.06 2.06-.94-2.06-.94L8.5 2.5l-.94 2.06-2.06.94zm10 10l.94 2.06.94-2.06 2.06-.94-2.06-.94-.94-2.06-.94 2.06-2.06.94z\"/><path d=\"M17.41 7.96l-1.37-1.37c-.4-.4-.92-.59-1.43-.59-.52 0-1.04.2-1.43.59L10.3 9.45l-7.72 7.72c-.78.78-.78 2.05 0 2.83L4 21.41c.39.39.9.59 1.41.59.51 0 1.02-.2 1.41-.59l7.78-7.78 2.81-2.81c.8-.78.8-2.07 0-2.86zM5.41 20L4 18.59l7.72-7.72 1.47 1.35L5.41 20z\"/>\n",
              "  </svg>\n",
              "      </button>\n",
              "\n",
              "\n",
              "\n",
              "    <div id=\"df-9d651bd5-e145-4285-bc16-d31df95bd60f\">\n",
              "      <button class=\"colab-df-quickchart\" onclick=\"quickchart('df-9d651bd5-e145-4285-bc16-d31df95bd60f')\"\n",
              "              title=\"Suggest charts.\"\n",
              "              style=\"display:none;\">\n",
              "\n",
              "<svg xmlns=\"http://www.w3.org/2000/svg\" height=\"24px\"viewBox=\"0 0 24 24\"\n",
              "     width=\"24px\">\n",
              "    <g>\n",
              "        <path d=\"M19 3H5c-1.1 0-2 .9-2 2v14c0 1.1.9 2 2 2h14c1.1 0 2-.9 2-2V5c0-1.1-.9-2-2-2zM9 17H7v-7h2v7zm4 0h-2V7h2v10zm4 0h-2v-4h2v4z\"/>\n",
              "    </g>\n",
              "</svg>\n",
              "      </button>\n",
              "    </div>\n",
              "\n",
              "<style>\n",
              "  .colab-df-quickchart {\n",
              "    background-color: #E8F0FE;\n",
              "    border: none;\n",
              "    border-radius: 50%;\n",
              "    cursor: pointer;\n",
              "    display: none;\n",
              "    fill: #1967D2;\n",
              "    height: 32px;\n",
              "    padding: 0 0 0 0;\n",
              "    width: 32px;\n",
              "  }\n",
              "\n",
              "  .colab-df-quickchart:hover {\n",
              "    background-color: #E2EBFA;\n",
              "    box-shadow: 0px 1px 2px rgba(60, 64, 67, 0.3), 0px 1px 3px 1px rgba(60, 64, 67, 0.15);\n",
              "    fill: #174EA6;\n",
              "  }\n",
              "\n",
              "  [theme=dark] .colab-df-quickchart {\n",
              "    background-color: #3B4455;\n",
              "    fill: #D2E3FC;\n",
              "  }\n",
              "\n",
              "  [theme=dark] .colab-df-quickchart:hover {\n",
              "    background-color: #434B5C;\n",
              "    box-shadow: 0px 1px 3px 1px rgba(0, 0, 0, 0.15);\n",
              "    filter: drop-shadow(0px 1px 2px rgba(0, 0, 0, 0.3));\n",
              "    fill: #FFFFFF;\n",
              "  }\n",
              "</style>\n",
              "\n",
              "    <script>\n",
              "      async function quickchart(key) {\n",
              "        const containerElement = document.querySelector('#' + key);\n",
              "        const charts = await google.colab.kernel.invokeFunction(\n",
              "            'suggestCharts', [key], {});\n",
              "      }\n",
              "    </script>\n",
              "\n",
              "      <script>\n",
              "\n",
              "function displayQuickchartButton(domScope) {\n",
              "  let quickchartButtonEl =\n",
              "    domScope.querySelector('#df-9d651bd5-e145-4285-bc16-d31df95bd60f button.colab-df-quickchart');\n",
              "  quickchartButtonEl.style.display =\n",
              "    google.colab.kernel.accessAllowed ? 'block' : 'none';\n",
              "}\n",
              "\n",
              "        displayQuickchartButton(document);\n",
              "      </script>\n",
              "      <style>\n",
              "    .colab-df-container {\n",
              "      display:flex;\n",
              "      flex-wrap:wrap;\n",
              "      gap: 12px;\n",
              "    }\n",
              "\n",
              "    .colab-df-convert {\n",
              "      background-color: #E8F0FE;\n",
              "      border: none;\n",
              "      border-radius: 50%;\n",
              "      cursor: pointer;\n",
              "      display: none;\n",
              "      fill: #1967D2;\n",
              "      height: 32px;\n",
              "      padding: 0 0 0 0;\n",
              "      width: 32px;\n",
              "    }\n",
              "\n",
              "    .colab-df-convert:hover {\n",
              "      background-color: #E2EBFA;\n",
              "      box-shadow: 0px 1px 2px rgba(60, 64, 67, 0.3), 0px 1px 3px 1px rgba(60, 64, 67, 0.15);\n",
              "      fill: #174EA6;\n",
              "    }\n",
              "\n",
              "    [theme=dark] .colab-df-convert {\n",
              "      background-color: #3B4455;\n",
              "      fill: #D2E3FC;\n",
              "    }\n",
              "\n",
              "    [theme=dark] .colab-df-convert:hover {\n",
              "      background-color: #434B5C;\n",
              "      box-shadow: 0px 1px 3px 1px rgba(0, 0, 0, 0.15);\n",
              "      filter: drop-shadow(0px 1px 2px rgba(0, 0, 0, 0.3));\n",
              "      fill: #FFFFFF;\n",
              "    }\n",
              "  </style>\n",
              "\n",
              "      <script>\n",
              "        const buttonEl =\n",
              "          document.querySelector('#df-be3bda7e-b6d7-4899-8f30-be26bb4f03ba button.colab-df-convert');\n",
              "        buttonEl.style.display =\n",
              "          google.colab.kernel.accessAllowed ? 'block' : 'none';\n",
              "\n",
              "        async function convertToInteractive(key) {\n",
              "          const element = document.querySelector('#df-be3bda7e-b6d7-4899-8f30-be26bb4f03ba');\n",
              "          const dataTable =\n",
              "            await google.colab.kernel.invokeFunction('convertToInteractive',\n",
              "                                                     [key], {});\n",
              "          if (!dataTable) return;\n",
              "\n",
              "          const docLinkHtml = 'Like what you see? Visit the ' +\n",
              "            '<a target=\"_blank\" href=https://colab.research.google.com/notebooks/data_table.ipynb>data table notebook</a>'\n",
              "            + ' to learn more about interactive tables.';\n",
              "          element.innerHTML = '';\n",
              "          dataTable['output_type'] = 'display_data';\n",
              "          await google.colab.output.renderOutput(dataTable, element);\n",
              "          const docLink = document.createElement('div');\n",
              "          docLink.innerHTML = docLinkHtml;\n",
              "          element.appendChild(docLink);\n",
              "        }\n",
              "      </script>\n",
              "    </div>\n",
              "  </div>\n"
            ]
          },
          "metadata": {},
          "execution_count": 93
        }
      ],
      "source": [
        "data.describe()"
      ]
    },
    {
      "cell_type": "markdown",
      "id": "aefb5017",
      "metadata": {
        "papermill": {
          "duration": 0.08372,
          "end_time": "2022-05-05T11:27:51.066313",
          "exception": false,
          "start_time": "2022-05-05T11:27:50.982593",
          "status": "completed"
        },
        "tags": [],
        "id": "aefb5017"
      },
      "source": [
        "Shortest Tweet -"
      ]
    },
    {
      "cell_type": "code",
      "execution_count": 94,
      "id": "48957a3b",
      "metadata": {
        "execution": {
          "iopub.execute_input": "2022-05-05T11:27:51.244303Z",
          "iopub.status.busy": "2022-05-05T11:27:51.243782Z",
          "iopub.status.idle": "2022-05-05T11:27:51.255710Z",
          "shell.execute_reply": "2022-05-05T11:27:51.255026Z"
        },
        "papermill": {
          "duration": 0.103638,
          "end_time": "2022-05-05T11:27:51.258320",
          "exception": false,
          "start_time": "2022-05-05T11:27:51.154682",
          "status": "completed"
        },
        "tags": [],
        "id": "48957a3b",
        "outputId": "7a05a62c-ec25-4044-8072-ea0624b1ba82",
        "colab": {
          "base_uri": "https://localhost:8080/",
          "height": 35
        }
      },
      "outputs": [
        {
          "output_type": "execute_result",
          "data": {
            "text/plain": [
              "'i love you '"
            ],
            "application/vnd.google.colaboratory.intrinsic+json": {
              "type": "string"
            }
          },
          "metadata": {},
          "execution_count": 94
        }
      ],
      "source": [
        "data[data['length'] == min(data['length'])]['tweet'].iloc[0]"
      ]
    },
    {
      "cell_type": "markdown",
      "id": "d385c4fc",
      "metadata": {
        "papermill": {
          "duration": 0.08467,
          "end_time": "2022-05-05T11:27:51.428889",
          "exception": false,
          "start_time": "2022-05-05T11:27:51.344219",
          "status": "completed"
        },
        "tags": [],
        "id": "d385c4fc"
      },
      "source": [
        "Longest Tweet -"
      ]
    },
    {
      "cell_type": "code",
      "execution_count": 95,
      "id": "f70f984b",
      "metadata": {
        "execution": {
          "iopub.execute_input": "2022-05-05T11:27:51.600941Z",
          "iopub.status.busy": "2022-05-05T11:27:51.600418Z",
          "iopub.status.idle": "2022-05-05T11:27:51.613242Z",
          "shell.execute_reply": "2022-05-05T11:27:51.612326Z"
        },
        "papermill": {
          "duration": 0.101865,
          "end_time": "2022-05-05T11:27:51.615511",
          "exception": false,
          "start_time": "2022-05-05T11:27:51.513646",
          "status": "completed"
        },
        "tags": [],
        "id": "f70f984b",
        "outputId": "385eed28-6aaf-47ca-f411-8a378c9e5193",
        "colab": {
          "base_uri": "https://localhost:8080/",
          "height": 122
        }
      },
      "outputs": [
        {
          "output_type": "execute_result",
          "data": {
            "text/plain": [
              "' @user lmfao pathetic #soit   #growup #funny #noonethere #iknowwhoitis ð\\x9f\\x98\\x82ð\\x9f\\x98\\x82ð\\x9f\\x98\\x82ð\\x9f\\x98\\x82ð\\x9f\\x98\\x82ð\\x9f\\x98\\x82ð\\x9f\\x98\\x82ð\\x9f\\x98\\x82ð\\x9f\\x98\\x82ð\\x9f\\x98\\x82ð\\x9f\\x98\\x82ð\\x9f¤\\x97ð\\x9f¤\\x97ð\\x9f¤\\x97ð\\x9f¤\\x97ð\\x9f¤\\x97ð\\x9f¤\\x97ð\\x9f¤\\x97ð\\x9f¤\\x97ð\\x9f¤\\x97ð\\x9f¤\\x97ð\\x9f¤\\x97ð\\x9f¤\\x97ð\\x9f\\x98±ð\\x9f\\x98±ð\\x9f¤\\x97ð\\x9f¤\\x97ð\\x9f\\x98±ð\\x9f¤\\x97ð\\x9f¤\\x97ð\\x9f¤\\x97ð\\x9f¤\\x97ð\\x9f¤\\x97ð\\x9f¤\\x97ð\\x9f¤\\x97ð\\x9f¤\\x97ð\\x9f¤\\x97ð\\x9f¤\\x97ð\\x9f¤\\x97ð\\x9f¤\\x97ð\\x9f¤\\x97ð\\x9f¤\\x97ð\\x9f¤\\x97ð\\x9f\\x98\\x82ð\\x9f\\x98\\x82ð\\x9f\\x98\\x82ð\\x9f\\x98\\x82ð\\x9f\\x98\\x82ð\\x9f\\x98\\x82ð\\x9f\\x98\\x82â\\x80¦'"
            ],
            "application/vnd.google.colaboratory.intrinsic+json": {
              "type": "string"
            }
          },
          "metadata": {},
          "execution_count": 95
        }
      ],
      "source": [
        "data[data['length'] == max(data['length'])]['tweet'].iloc[0]"
      ]
    },
    {
      "cell_type": "markdown",
      "id": "bc7824f9",
      "metadata": {
        "papermill": {
          "duration": 0.086894,
          "end_time": "2022-05-05T11:27:51.789926",
          "exception": false,
          "start_time": "2022-05-05T11:27:51.703032",
          "status": "completed"
        },
        "tags": [],
        "id": "bc7824f9"
      },
      "source": [
        "Average Length Tweet -"
      ]
    },
    {
      "cell_type": "code",
      "execution_count": 96,
      "id": "516f1b0a",
      "metadata": {
        "execution": {
          "iopub.execute_input": "2022-05-05T11:27:51.968317Z",
          "iopub.status.busy": "2022-05-05T11:27:51.967950Z",
          "iopub.status.idle": "2022-05-05T11:27:51.975841Z",
          "shell.execute_reply": "2022-05-05T11:27:51.974756Z"
        },
        "papermill": {
          "duration": 0.099387,
          "end_time": "2022-05-05T11:27:51.978268",
          "exception": false,
          "start_time": "2022-05-05T11:27:51.878881",
          "status": "completed"
        },
        "tags": [],
        "id": "516f1b0a",
        "outputId": "ac70e2fd-2388-473f-b15a-79201960d6a9",
        "colab": {
          "base_uri": "https://localhost:8080/",
          "height": 35
        }
      },
      "outputs": [
        {
          "output_type": "execute_result",
          "data": {
            "text/plain": [
              "'my mom shares the same bihday as @user   bihday snake! see you this weekend ð\\x9f\\x99\\x8cð\\x9f\\x8f¼'"
            ],
            "application/vnd.google.colaboratory.intrinsic+json": {
              "type": "string"
            }
          },
          "metadata": {},
          "execution_count": 96
        }
      ],
      "source": [
        "data[data['length'] == 84]['tweet'].iloc[0]"
      ]
    },
    {
      "cell_type": "code",
      "execution_count": 97,
      "id": "187ae790",
      "metadata": {
        "execution": {
          "iopub.execute_input": "2022-05-05T11:27:52.162375Z",
          "iopub.status.busy": "2022-05-05T11:27:52.161951Z",
          "iopub.status.idle": "2022-05-05T11:27:52.169783Z",
          "shell.execute_reply": "2022-05-05T11:27:52.168987Z"
        },
        "papermill": {
          "duration": 0.100739,
          "end_time": "2022-05-05T11:27:52.172143",
          "exception": false,
          "start_time": "2022-05-05T11:27:52.071404",
          "status": "completed"
        },
        "tags": [],
        "id": "187ae790"
      },
      "outputs": [],
      "source": [
        "positive = data[data['label'] == 0]"
      ]
    },
    {
      "cell_type": "code",
      "execution_count": 98,
      "id": "5b5f06c1",
      "metadata": {
        "execution": {
          "iopub.execute_input": "2022-05-05T11:27:52.345075Z",
          "iopub.status.busy": "2022-05-05T11:27:52.344569Z",
          "iopub.status.idle": "2022-05-05T11:27:52.366943Z",
          "shell.execute_reply": "2022-05-05T11:27:52.365738Z"
        },
        "papermill": {
          "duration": 0.110106,
          "end_time": "2022-05-05T11:27:52.369554",
          "exception": false,
          "start_time": "2022-05-05T11:27:52.259448",
          "status": "completed"
        },
        "tags": [],
        "id": "5b5f06c1",
        "outputId": "71a08808-9aef-4ace-9c37-6d47b7e3a2f1",
        "colab": {
          "base_uri": "https://localhost:8080/",
          "height": 300
        }
      },
      "outputs": [
        {
          "output_type": "execute_result",
          "data": {
            "text/plain": [
              "         label        length\n",
              "count  29720.0  29720.000000\n",
              "mean       0.0     84.328634\n",
              "std        0.0     29.566484\n",
              "min        0.0     11.000000\n",
              "25%        0.0     62.000000\n",
              "50%        0.0     88.000000\n",
              "75%        0.0    107.000000\n",
              "max        0.0    274.000000"
            ],
            "text/html": [
              "\n",
              "\n",
              "  <div id=\"df-4510d4ec-d68a-4bf1-80a4-0a5dc9ecff7c\">\n",
              "    <div class=\"colab-df-container\">\n",
              "      <div>\n",
              "<style scoped>\n",
              "    .dataframe tbody tr th:only-of-type {\n",
              "        vertical-align: middle;\n",
              "    }\n",
              "\n",
              "    .dataframe tbody tr th {\n",
              "        vertical-align: top;\n",
              "    }\n",
              "\n",
              "    .dataframe thead th {\n",
              "        text-align: right;\n",
              "    }\n",
              "</style>\n",
              "<table border=\"1\" class=\"dataframe\">\n",
              "  <thead>\n",
              "    <tr style=\"text-align: right;\">\n",
              "      <th></th>\n",
              "      <th>label</th>\n",
              "      <th>length</th>\n",
              "    </tr>\n",
              "  </thead>\n",
              "  <tbody>\n",
              "    <tr>\n",
              "      <th>count</th>\n",
              "      <td>29720.0</td>\n",
              "      <td>29720.000000</td>\n",
              "    </tr>\n",
              "    <tr>\n",
              "      <th>mean</th>\n",
              "      <td>0.0</td>\n",
              "      <td>84.328634</td>\n",
              "    </tr>\n",
              "    <tr>\n",
              "      <th>std</th>\n",
              "      <td>0.0</td>\n",
              "      <td>29.566484</td>\n",
              "    </tr>\n",
              "    <tr>\n",
              "      <th>min</th>\n",
              "      <td>0.0</td>\n",
              "      <td>11.000000</td>\n",
              "    </tr>\n",
              "    <tr>\n",
              "      <th>25%</th>\n",
              "      <td>0.0</td>\n",
              "      <td>62.000000</td>\n",
              "    </tr>\n",
              "    <tr>\n",
              "      <th>50%</th>\n",
              "      <td>0.0</td>\n",
              "      <td>88.000000</td>\n",
              "    </tr>\n",
              "    <tr>\n",
              "      <th>75%</th>\n",
              "      <td>0.0</td>\n",
              "      <td>107.000000</td>\n",
              "    </tr>\n",
              "    <tr>\n",
              "      <th>max</th>\n",
              "      <td>0.0</td>\n",
              "      <td>274.000000</td>\n",
              "    </tr>\n",
              "  </tbody>\n",
              "</table>\n",
              "</div>\n",
              "      <button class=\"colab-df-convert\" onclick=\"convertToInteractive('df-4510d4ec-d68a-4bf1-80a4-0a5dc9ecff7c')\"\n",
              "              title=\"Convert this dataframe to an interactive table.\"\n",
              "              style=\"display:none;\">\n",
              "\n",
              "  <svg xmlns=\"http://www.w3.org/2000/svg\" height=\"24px\"viewBox=\"0 0 24 24\"\n",
              "       width=\"24px\">\n",
              "    <path d=\"M0 0h24v24H0V0z\" fill=\"none\"/>\n",
              "    <path d=\"M18.56 5.44l.94 2.06.94-2.06 2.06-.94-2.06-.94-.94-2.06-.94 2.06-2.06.94zm-11 1L8.5 8.5l.94-2.06 2.06-.94-2.06-.94L8.5 2.5l-.94 2.06-2.06.94zm10 10l.94 2.06.94-2.06 2.06-.94-2.06-.94-.94-2.06-.94 2.06-2.06.94z\"/><path d=\"M17.41 7.96l-1.37-1.37c-.4-.4-.92-.59-1.43-.59-.52 0-1.04.2-1.43.59L10.3 9.45l-7.72 7.72c-.78.78-.78 2.05 0 2.83L4 21.41c.39.39.9.59 1.41.59.51 0 1.02-.2 1.41-.59l7.78-7.78 2.81-2.81c.8-.78.8-2.07 0-2.86zM5.41 20L4 18.59l7.72-7.72 1.47 1.35L5.41 20z\"/>\n",
              "  </svg>\n",
              "      </button>\n",
              "\n",
              "\n",
              "\n",
              "    <div id=\"df-94413e20-db17-4f7f-aa3f-19b451fdc3a7\">\n",
              "      <button class=\"colab-df-quickchart\" onclick=\"quickchart('df-94413e20-db17-4f7f-aa3f-19b451fdc3a7')\"\n",
              "              title=\"Suggest charts.\"\n",
              "              style=\"display:none;\">\n",
              "\n",
              "<svg xmlns=\"http://www.w3.org/2000/svg\" height=\"24px\"viewBox=\"0 0 24 24\"\n",
              "     width=\"24px\">\n",
              "    <g>\n",
              "        <path d=\"M19 3H5c-1.1 0-2 .9-2 2v14c0 1.1.9 2 2 2h14c1.1 0 2-.9 2-2V5c0-1.1-.9-2-2-2zM9 17H7v-7h2v7zm4 0h-2V7h2v10zm4 0h-2v-4h2v4z\"/>\n",
              "    </g>\n",
              "</svg>\n",
              "      </button>\n",
              "    </div>\n",
              "\n",
              "<style>\n",
              "  .colab-df-quickchart {\n",
              "    background-color: #E8F0FE;\n",
              "    border: none;\n",
              "    border-radius: 50%;\n",
              "    cursor: pointer;\n",
              "    display: none;\n",
              "    fill: #1967D2;\n",
              "    height: 32px;\n",
              "    padding: 0 0 0 0;\n",
              "    width: 32px;\n",
              "  }\n",
              "\n",
              "  .colab-df-quickchart:hover {\n",
              "    background-color: #E2EBFA;\n",
              "    box-shadow: 0px 1px 2px rgba(60, 64, 67, 0.3), 0px 1px 3px 1px rgba(60, 64, 67, 0.15);\n",
              "    fill: #174EA6;\n",
              "  }\n",
              "\n",
              "  [theme=dark] .colab-df-quickchart {\n",
              "    background-color: #3B4455;\n",
              "    fill: #D2E3FC;\n",
              "  }\n",
              "\n",
              "  [theme=dark] .colab-df-quickchart:hover {\n",
              "    background-color: #434B5C;\n",
              "    box-shadow: 0px 1px 3px 1px rgba(0, 0, 0, 0.15);\n",
              "    filter: drop-shadow(0px 1px 2px rgba(0, 0, 0, 0.3));\n",
              "    fill: #FFFFFF;\n",
              "  }\n",
              "</style>\n",
              "\n",
              "    <script>\n",
              "      async function quickchart(key) {\n",
              "        const containerElement = document.querySelector('#' + key);\n",
              "        const charts = await google.colab.kernel.invokeFunction(\n",
              "            'suggestCharts', [key], {});\n",
              "      }\n",
              "    </script>\n",
              "\n",
              "      <script>\n",
              "\n",
              "function displayQuickchartButton(domScope) {\n",
              "  let quickchartButtonEl =\n",
              "    domScope.querySelector('#df-94413e20-db17-4f7f-aa3f-19b451fdc3a7 button.colab-df-quickchart');\n",
              "  quickchartButtonEl.style.display =\n",
              "    google.colab.kernel.accessAllowed ? 'block' : 'none';\n",
              "}\n",
              "\n",
              "        displayQuickchartButton(document);\n",
              "      </script>\n",
              "      <style>\n",
              "    .colab-df-container {\n",
              "      display:flex;\n",
              "      flex-wrap:wrap;\n",
              "      gap: 12px;\n",
              "    }\n",
              "\n",
              "    .colab-df-convert {\n",
              "      background-color: #E8F0FE;\n",
              "      border: none;\n",
              "      border-radius: 50%;\n",
              "      cursor: pointer;\n",
              "      display: none;\n",
              "      fill: #1967D2;\n",
              "      height: 32px;\n",
              "      padding: 0 0 0 0;\n",
              "      width: 32px;\n",
              "    }\n",
              "\n",
              "    .colab-df-convert:hover {\n",
              "      background-color: #E2EBFA;\n",
              "      box-shadow: 0px 1px 2px rgba(60, 64, 67, 0.3), 0px 1px 3px 1px rgba(60, 64, 67, 0.15);\n",
              "      fill: #174EA6;\n",
              "    }\n",
              "\n",
              "    [theme=dark] .colab-df-convert {\n",
              "      background-color: #3B4455;\n",
              "      fill: #D2E3FC;\n",
              "    }\n",
              "\n",
              "    [theme=dark] .colab-df-convert:hover {\n",
              "      background-color: #434B5C;\n",
              "      box-shadow: 0px 1px 3px 1px rgba(0, 0, 0, 0.15);\n",
              "      filter: drop-shadow(0px 1px 2px rgba(0, 0, 0, 0.3));\n",
              "      fill: #FFFFFF;\n",
              "    }\n",
              "  </style>\n",
              "\n",
              "      <script>\n",
              "        const buttonEl =\n",
              "          document.querySelector('#df-4510d4ec-d68a-4bf1-80a4-0a5dc9ecff7c button.colab-df-convert');\n",
              "        buttonEl.style.display =\n",
              "          google.colab.kernel.accessAllowed ? 'block' : 'none';\n",
              "\n",
              "        async function convertToInteractive(key) {\n",
              "          const element = document.querySelector('#df-4510d4ec-d68a-4bf1-80a4-0a5dc9ecff7c');\n",
              "          const dataTable =\n",
              "            await google.colab.kernel.invokeFunction('convertToInteractive',\n",
              "                                                     [key], {});\n",
              "          if (!dataTable) return;\n",
              "\n",
              "          const docLinkHtml = 'Like what you see? Visit the ' +\n",
              "            '<a target=\"_blank\" href=https://colab.research.google.com/notebooks/data_table.ipynb>data table notebook</a>'\n",
              "            + ' to learn more about interactive tables.';\n",
              "          element.innerHTML = '';\n",
              "          dataTable['output_type'] = 'display_data';\n",
              "          await google.colab.output.renderOutput(dataTable, element);\n",
              "          const docLink = document.createElement('div');\n",
              "          docLink.innerHTML = docLinkHtml;\n",
              "          element.appendChild(docLink);\n",
              "        }\n",
              "      </script>\n",
              "    </div>\n",
              "  </div>\n"
            ]
          },
          "metadata": {},
          "execution_count": 98
        }
      ],
      "source": [
        "positive.describe()"
      ]
    },
    {
      "cell_type": "code",
      "execution_count": 99,
      "id": "c8a4972c",
      "metadata": {
        "execution": {
          "iopub.execute_input": "2022-05-05T11:27:52.551905Z",
          "iopub.status.busy": "2022-05-05T11:27:52.551396Z",
          "iopub.status.idle": "2022-05-05T11:27:52.557007Z",
          "shell.execute_reply": "2022-05-05T11:27:52.556199Z"
        },
        "papermill": {
          "duration": 0.10013,
          "end_time": "2022-05-05T11:27:52.559745",
          "exception": false,
          "start_time": "2022-05-05T11:27:52.459615",
          "status": "completed"
        },
        "tags": [],
        "id": "c8a4972c"
      },
      "outputs": [],
      "source": [
        "negative = data[data['label'] == 1]"
      ]
    },
    {
      "cell_type": "code",
      "execution_count": 100,
      "id": "3b11a803",
      "metadata": {
        "execution": {
          "iopub.execute_input": "2022-05-05T11:27:52.734885Z",
          "iopub.status.busy": "2022-05-05T11:27:52.734258Z",
          "iopub.status.idle": "2022-05-05T11:27:52.748853Z",
          "shell.execute_reply": "2022-05-05T11:27:52.747518Z"
        },
        "papermill": {
          "duration": 0.105967,
          "end_time": "2022-05-05T11:27:52.751525",
          "exception": false,
          "start_time": "2022-05-05T11:27:52.645558",
          "status": "completed"
        },
        "tags": [],
        "id": "3b11a803",
        "outputId": "74057aec-5a48-4202-bd44-a83ed78c36f2",
        "colab": {
          "base_uri": "https://localhost:8080/",
          "height": 424
        }
      },
      "outputs": [
        {
          "output_type": "execute_result",
          "data": {
            "text/plain": [
              "       label                                              tweet  length\n",
              "13         1  @user #cnn calls #michigan middle school 'buil...      74\n",
              "14         1  no comment!  in #australia   #opkillingbay #se...     101\n",
              "17         1                             retweet if you agree!       22\n",
              "23         1    @user @user lumpy says i am a . prove it lumpy.      47\n",
              "34         1  it's unbelievable that in the 21st century we'...     104\n",
              "...      ...                                                ...     ...\n",
              "31934      1  lady banned from kentucky mall. @user  #jcpenn...      59\n",
              "31946      1  @user omfg i'm offended! i'm a  mailbox and i'...      82\n",
              "31947      1  @user @user you don't have the balls to hashta...     112\n",
              "31948      1   makes you ask yourself, who am i? then am i a...      87\n",
              "31960      1  @user #sikh #temple vandalised in in #calgary,...      67\n",
              "\n",
              "[2242 rows x 3 columns]"
            ],
            "text/html": [
              "\n",
              "\n",
              "  <div id=\"df-43f27dff-5e2f-4fdf-b997-13a2247e287d\">\n",
              "    <div class=\"colab-df-container\">\n",
              "      <div>\n",
              "<style scoped>\n",
              "    .dataframe tbody tr th:only-of-type {\n",
              "        vertical-align: middle;\n",
              "    }\n",
              "\n",
              "    .dataframe tbody tr th {\n",
              "        vertical-align: top;\n",
              "    }\n",
              "\n",
              "    .dataframe thead th {\n",
              "        text-align: right;\n",
              "    }\n",
              "</style>\n",
              "<table border=\"1\" class=\"dataframe\">\n",
              "  <thead>\n",
              "    <tr style=\"text-align: right;\">\n",
              "      <th></th>\n",
              "      <th>label</th>\n",
              "      <th>tweet</th>\n",
              "      <th>length</th>\n",
              "    </tr>\n",
              "  </thead>\n",
              "  <tbody>\n",
              "    <tr>\n",
              "      <th>13</th>\n",
              "      <td>1</td>\n",
              "      <td>@user #cnn calls #michigan middle school 'buil...</td>\n",
              "      <td>74</td>\n",
              "    </tr>\n",
              "    <tr>\n",
              "      <th>14</th>\n",
              "      <td>1</td>\n",
              "      <td>no comment!  in #australia   #opkillingbay #se...</td>\n",
              "      <td>101</td>\n",
              "    </tr>\n",
              "    <tr>\n",
              "      <th>17</th>\n",
              "      <td>1</td>\n",
              "      <td>retweet if you agree!</td>\n",
              "      <td>22</td>\n",
              "    </tr>\n",
              "    <tr>\n",
              "      <th>23</th>\n",
              "      <td>1</td>\n",
              "      <td>@user @user lumpy says i am a . prove it lumpy.</td>\n",
              "      <td>47</td>\n",
              "    </tr>\n",
              "    <tr>\n",
              "      <th>34</th>\n",
              "      <td>1</td>\n",
              "      <td>it's unbelievable that in the 21st century we'...</td>\n",
              "      <td>104</td>\n",
              "    </tr>\n",
              "    <tr>\n",
              "      <th>...</th>\n",
              "      <td>...</td>\n",
              "      <td>...</td>\n",
              "      <td>...</td>\n",
              "    </tr>\n",
              "    <tr>\n",
              "      <th>31934</th>\n",
              "      <td>1</td>\n",
              "      <td>lady banned from kentucky mall. @user  #jcpenn...</td>\n",
              "      <td>59</td>\n",
              "    </tr>\n",
              "    <tr>\n",
              "      <th>31946</th>\n",
              "      <td>1</td>\n",
              "      <td>@user omfg i'm offended! i'm a  mailbox and i'...</td>\n",
              "      <td>82</td>\n",
              "    </tr>\n",
              "    <tr>\n",
              "      <th>31947</th>\n",
              "      <td>1</td>\n",
              "      <td>@user @user you don't have the balls to hashta...</td>\n",
              "      <td>112</td>\n",
              "    </tr>\n",
              "    <tr>\n",
              "      <th>31948</th>\n",
              "      <td>1</td>\n",
              "      <td>makes you ask yourself, who am i? then am i a...</td>\n",
              "      <td>87</td>\n",
              "    </tr>\n",
              "    <tr>\n",
              "      <th>31960</th>\n",
              "      <td>1</td>\n",
              "      <td>@user #sikh #temple vandalised in in #calgary,...</td>\n",
              "      <td>67</td>\n",
              "    </tr>\n",
              "  </tbody>\n",
              "</table>\n",
              "<p>2242 rows × 3 columns</p>\n",
              "</div>\n",
              "      <button class=\"colab-df-convert\" onclick=\"convertToInteractive('df-43f27dff-5e2f-4fdf-b997-13a2247e287d')\"\n",
              "              title=\"Convert this dataframe to an interactive table.\"\n",
              "              style=\"display:none;\">\n",
              "\n",
              "  <svg xmlns=\"http://www.w3.org/2000/svg\" height=\"24px\"viewBox=\"0 0 24 24\"\n",
              "       width=\"24px\">\n",
              "    <path d=\"M0 0h24v24H0V0z\" fill=\"none\"/>\n",
              "    <path d=\"M18.56 5.44l.94 2.06.94-2.06 2.06-.94-2.06-.94-.94-2.06-.94 2.06-2.06.94zm-11 1L8.5 8.5l.94-2.06 2.06-.94-2.06-.94L8.5 2.5l-.94 2.06-2.06.94zm10 10l.94 2.06.94-2.06 2.06-.94-2.06-.94-.94-2.06-.94 2.06-2.06.94z\"/><path d=\"M17.41 7.96l-1.37-1.37c-.4-.4-.92-.59-1.43-.59-.52 0-1.04.2-1.43.59L10.3 9.45l-7.72 7.72c-.78.78-.78 2.05 0 2.83L4 21.41c.39.39.9.59 1.41.59.51 0 1.02-.2 1.41-.59l7.78-7.78 2.81-2.81c.8-.78.8-2.07 0-2.86zM5.41 20L4 18.59l7.72-7.72 1.47 1.35L5.41 20z\"/>\n",
              "  </svg>\n",
              "      </button>\n",
              "\n",
              "\n",
              "\n",
              "    <div id=\"df-0305c21e-6869-46c4-b652-66eded446767\">\n",
              "      <button class=\"colab-df-quickchart\" onclick=\"quickchart('df-0305c21e-6869-46c4-b652-66eded446767')\"\n",
              "              title=\"Suggest charts.\"\n",
              "              style=\"display:none;\">\n",
              "\n",
              "<svg xmlns=\"http://www.w3.org/2000/svg\" height=\"24px\"viewBox=\"0 0 24 24\"\n",
              "     width=\"24px\">\n",
              "    <g>\n",
              "        <path d=\"M19 3H5c-1.1 0-2 .9-2 2v14c0 1.1.9 2 2 2h14c1.1 0 2-.9 2-2V5c0-1.1-.9-2-2-2zM9 17H7v-7h2v7zm4 0h-2V7h2v10zm4 0h-2v-4h2v4z\"/>\n",
              "    </g>\n",
              "</svg>\n",
              "      </button>\n",
              "    </div>\n",
              "\n",
              "<style>\n",
              "  .colab-df-quickchart {\n",
              "    background-color: #E8F0FE;\n",
              "    border: none;\n",
              "    border-radius: 50%;\n",
              "    cursor: pointer;\n",
              "    display: none;\n",
              "    fill: #1967D2;\n",
              "    height: 32px;\n",
              "    padding: 0 0 0 0;\n",
              "    width: 32px;\n",
              "  }\n",
              "\n",
              "  .colab-df-quickchart:hover {\n",
              "    background-color: #E2EBFA;\n",
              "    box-shadow: 0px 1px 2px rgba(60, 64, 67, 0.3), 0px 1px 3px 1px rgba(60, 64, 67, 0.15);\n",
              "    fill: #174EA6;\n",
              "  }\n",
              "\n",
              "  [theme=dark] .colab-df-quickchart {\n",
              "    background-color: #3B4455;\n",
              "    fill: #D2E3FC;\n",
              "  }\n",
              "\n",
              "  [theme=dark] .colab-df-quickchart:hover {\n",
              "    background-color: #434B5C;\n",
              "    box-shadow: 0px 1px 3px 1px rgba(0, 0, 0, 0.15);\n",
              "    filter: drop-shadow(0px 1px 2px rgba(0, 0, 0, 0.3));\n",
              "    fill: #FFFFFF;\n",
              "  }\n",
              "</style>\n",
              "\n",
              "    <script>\n",
              "      async function quickchart(key) {\n",
              "        const containerElement = document.querySelector('#' + key);\n",
              "        const charts = await google.colab.kernel.invokeFunction(\n",
              "            'suggestCharts', [key], {});\n",
              "      }\n",
              "    </script>\n",
              "\n",
              "      <script>\n",
              "\n",
              "function displayQuickchartButton(domScope) {\n",
              "  let quickchartButtonEl =\n",
              "    domScope.querySelector('#df-0305c21e-6869-46c4-b652-66eded446767 button.colab-df-quickchart');\n",
              "  quickchartButtonEl.style.display =\n",
              "    google.colab.kernel.accessAllowed ? 'block' : 'none';\n",
              "}\n",
              "\n",
              "        displayQuickchartButton(document);\n",
              "      </script>\n",
              "      <style>\n",
              "    .colab-df-container {\n",
              "      display:flex;\n",
              "      flex-wrap:wrap;\n",
              "      gap: 12px;\n",
              "    }\n",
              "\n",
              "    .colab-df-convert {\n",
              "      background-color: #E8F0FE;\n",
              "      border: none;\n",
              "      border-radius: 50%;\n",
              "      cursor: pointer;\n",
              "      display: none;\n",
              "      fill: #1967D2;\n",
              "      height: 32px;\n",
              "      padding: 0 0 0 0;\n",
              "      width: 32px;\n",
              "    }\n",
              "\n",
              "    .colab-df-convert:hover {\n",
              "      background-color: #E2EBFA;\n",
              "      box-shadow: 0px 1px 2px rgba(60, 64, 67, 0.3), 0px 1px 3px 1px rgba(60, 64, 67, 0.15);\n",
              "      fill: #174EA6;\n",
              "    }\n",
              "\n",
              "    [theme=dark] .colab-df-convert {\n",
              "      background-color: #3B4455;\n",
              "      fill: #D2E3FC;\n",
              "    }\n",
              "\n",
              "    [theme=dark] .colab-df-convert:hover {\n",
              "      background-color: #434B5C;\n",
              "      box-shadow: 0px 1px 3px 1px rgba(0, 0, 0, 0.15);\n",
              "      filter: drop-shadow(0px 1px 2px rgba(0, 0, 0, 0.3));\n",
              "      fill: #FFFFFF;\n",
              "    }\n",
              "  </style>\n",
              "\n",
              "      <script>\n",
              "        const buttonEl =\n",
              "          document.querySelector('#df-43f27dff-5e2f-4fdf-b997-13a2247e287d button.colab-df-convert');\n",
              "        buttonEl.style.display =\n",
              "          google.colab.kernel.accessAllowed ? 'block' : 'none';\n",
              "\n",
              "        async function convertToInteractive(key) {\n",
              "          const element = document.querySelector('#df-43f27dff-5e2f-4fdf-b997-13a2247e287d');\n",
              "          const dataTable =\n",
              "            await google.colab.kernel.invokeFunction('convertToInteractive',\n",
              "                                                     [key], {});\n",
              "          if (!dataTable) return;\n",
              "\n",
              "          const docLinkHtml = 'Like what you see? Visit the ' +\n",
              "            '<a target=\"_blank\" href=https://colab.research.google.com/notebooks/data_table.ipynb>data table notebook</a>'\n",
              "            + ' to learn more about interactive tables.';\n",
              "          element.innerHTML = '';\n",
              "          dataTable['output_type'] = 'display_data';\n",
              "          await google.colab.output.renderOutput(dataTable, element);\n",
              "          const docLink = document.createElement('div');\n",
              "          docLink.innerHTML = docLinkHtml;\n",
              "          element.appendChild(docLink);\n",
              "        }\n",
              "      </script>\n",
              "    </div>\n",
              "  </div>\n"
            ]
          },
          "metadata": {},
          "execution_count": 100
        }
      ],
      "source": [
        "negative"
      ]
    },
    {
      "cell_type": "code",
      "execution_count": 101,
      "id": "08fe2d6f",
      "metadata": {
        "execution": {
          "iopub.execute_input": "2022-05-05T11:27:52.934503Z",
          "iopub.status.busy": "2022-05-05T11:27:52.934164Z",
          "iopub.status.idle": "2022-05-05T11:27:52.956280Z",
          "shell.execute_reply": "2022-05-05T11:27:52.955221Z"
        },
        "papermill": {
          "duration": 0.117689,
          "end_time": "2022-05-05T11:27:52.958943",
          "exception": false,
          "start_time": "2022-05-05T11:27:52.841254",
          "status": "completed"
        },
        "tags": [],
        "id": "08fe2d6f",
        "outputId": "4e5ac343-ef7d-4dfc-c2c2-5b362cfd6f14",
        "colab": {
          "base_uri": "https://localhost:8080/",
          "height": 300
        }
      },
      "outputs": [
        {
          "output_type": "execute_result",
          "data": {
            "text/plain": [
              "        label       length\n",
              "count  2242.0  2242.000000\n",
              "mean      1.0    90.187779\n",
              "std       0.0    27.375502\n",
              "min       1.0    12.000000\n",
              "25%       1.0    69.000000\n",
              "50%       1.0    96.000000\n",
              "75%       1.0   111.000000\n",
              "max       1.0   152.000000"
            ],
            "text/html": [
              "\n",
              "\n",
              "  <div id=\"df-e75d4b8a-222a-4fc1-9e5d-9e31834af032\">\n",
              "    <div class=\"colab-df-container\">\n",
              "      <div>\n",
              "<style scoped>\n",
              "    .dataframe tbody tr th:only-of-type {\n",
              "        vertical-align: middle;\n",
              "    }\n",
              "\n",
              "    .dataframe tbody tr th {\n",
              "        vertical-align: top;\n",
              "    }\n",
              "\n",
              "    .dataframe thead th {\n",
              "        text-align: right;\n",
              "    }\n",
              "</style>\n",
              "<table border=\"1\" class=\"dataframe\">\n",
              "  <thead>\n",
              "    <tr style=\"text-align: right;\">\n",
              "      <th></th>\n",
              "      <th>label</th>\n",
              "      <th>length</th>\n",
              "    </tr>\n",
              "  </thead>\n",
              "  <tbody>\n",
              "    <tr>\n",
              "      <th>count</th>\n",
              "      <td>2242.0</td>\n",
              "      <td>2242.000000</td>\n",
              "    </tr>\n",
              "    <tr>\n",
              "      <th>mean</th>\n",
              "      <td>1.0</td>\n",
              "      <td>90.187779</td>\n",
              "    </tr>\n",
              "    <tr>\n",
              "      <th>std</th>\n",
              "      <td>0.0</td>\n",
              "      <td>27.375502</td>\n",
              "    </tr>\n",
              "    <tr>\n",
              "      <th>min</th>\n",
              "      <td>1.0</td>\n",
              "      <td>12.000000</td>\n",
              "    </tr>\n",
              "    <tr>\n",
              "      <th>25%</th>\n",
              "      <td>1.0</td>\n",
              "      <td>69.000000</td>\n",
              "    </tr>\n",
              "    <tr>\n",
              "      <th>50%</th>\n",
              "      <td>1.0</td>\n",
              "      <td>96.000000</td>\n",
              "    </tr>\n",
              "    <tr>\n",
              "      <th>75%</th>\n",
              "      <td>1.0</td>\n",
              "      <td>111.000000</td>\n",
              "    </tr>\n",
              "    <tr>\n",
              "      <th>max</th>\n",
              "      <td>1.0</td>\n",
              "      <td>152.000000</td>\n",
              "    </tr>\n",
              "  </tbody>\n",
              "</table>\n",
              "</div>\n",
              "      <button class=\"colab-df-convert\" onclick=\"convertToInteractive('df-e75d4b8a-222a-4fc1-9e5d-9e31834af032')\"\n",
              "              title=\"Convert this dataframe to an interactive table.\"\n",
              "              style=\"display:none;\">\n",
              "\n",
              "  <svg xmlns=\"http://www.w3.org/2000/svg\" height=\"24px\"viewBox=\"0 0 24 24\"\n",
              "       width=\"24px\">\n",
              "    <path d=\"M0 0h24v24H0V0z\" fill=\"none\"/>\n",
              "    <path d=\"M18.56 5.44l.94 2.06.94-2.06 2.06-.94-2.06-.94-.94-2.06-.94 2.06-2.06.94zm-11 1L8.5 8.5l.94-2.06 2.06-.94-2.06-.94L8.5 2.5l-.94 2.06-2.06.94zm10 10l.94 2.06.94-2.06 2.06-.94-2.06-.94-.94-2.06-.94 2.06-2.06.94z\"/><path d=\"M17.41 7.96l-1.37-1.37c-.4-.4-.92-.59-1.43-.59-.52 0-1.04.2-1.43.59L10.3 9.45l-7.72 7.72c-.78.78-.78 2.05 0 2.83L4 21.41c.39.39.9.59 1.41.59.51 0 1.02-.2 1.41-.59l7.78-7.78 2.81-2.81c.8-.78.8-2.07 0-2.86zM5.41 20L4 18.59l7.72-7.72 1.47 1.35L5.41 20z\"/>\n",
              "  </svg>\n",
              "      </button>\n",
              "\n",
              "\n",
              "\n",
              "    <div id=\"df-d95e4b65-2e5a-4d9b-8dbc-3f5d7b8abc4c\">\n",
              "      <button class=\"colab-df-quickchart\" onclick=\"quickchart('df-d95e4b65-2e5a-4d9b-8dbc-3f5d7b8abc4c')\"\n",
              "              title=\"Suggest charts.\"\n",
              "              style=\"display:none;\">\n",
              "\n",
              "<svg xmlns=\"http://www.w3.org/2000/svg\" height=\"24px\"viewBox=\"0 0 24 24\"\n",
              "     width=\"24px\">\n",
              "    <g>\n",
              "        <path d=\"M19 3H5c-1.1 0-2 .9-2 2v14c0 1.1.9 2 2 2h14c1.1 0 2-.9 2-2V5c0-1.1-.9-2-2-2zM9 17H7v-7h2v7zm4 0h-2V7h2v10zm4 0h-2v-4h2v4z\"/>\n",
              "    </g>\n",
              "</svg>\n",
              "      </button>\n",
              "    </div>\n",
              "\n",
              "<style>\n",
              "  .colab-df-quickchart {\n",
              "    background-color: #E8F0FE;\n",
              "    border: none;\n",
              "    border-radius: 50%;\n",
              "    cursor: pointer;\n",
              "    display: none;\n",
              "    fill: #1967D2;\n",
              "    height: 32px;\n",
              "    padding: 0 0 0 0;\n",
              "    width: 32px;\n",
              "  }\n",
              "\n",
              "  .colab-df-quickchart:hover {\n",
              "    background-color: #E2EBFA;\n",
              "    box-shadow: 0px 1px 2px rgba(60, 64, 67, 0.3), 0px 1px 3px 1px rgba(60, 64, 67, 0.15);\n",
              "    fill: #174EA6;\n",
              "  }\n",
              "\n",
              "  [theme=dark] .colab-df-quickchart {\n",
              "    background-color: #3B4455;\n",
              "    fill: #D2E3FC;\n",
              "  }\n",
              "\n",
              "  [theme=dark] .colab-df-quickchart:hover {\n",
              "    background-color: #434B5C;\n",
              "    box-shadow: 0px 1px 3px 1px rgba(0, 0, 0, 0.15);\n",
              "    filter: drop-shadow(0px 1px 2px rgba(0, 0, 0, 0.3));\n",
              "    fill: #FFFFFF;\n",
              "  }\n",
              "</style>\n",
              "\n",
              "    <script>\n",
              "      async function quickchart(key) {\n",
              "        const containerElement = document.querySelector('#' + key);\n",
              "        const charts = await google.colab.kernel.invokeFunction(\n",
              "            'suggestCharts', [key], {});\n",
              "      }\n",
              "    </script>\n",
              "\n",
              "      <script>\n",
              "\n",
              "function displayQuickchartButton(domScope) {\n",
              "  let quickchartButtonEl =\n",
              "    domScope.querySelector('#df-d95e4b65-2e5a-4d9b-8dbc-3f5d7b8abc4c button.colab-df-quickchart');\n",
              "  quickchartButtonEl.style.display =\n",
              "    google.colab.kernel.accessAllowed ? 'block' : 'none';\n",
              "}\n",
              "\n",
              "        displayQuickchartButton(document);\n",
              "      </script>\n",
              "      <style>\n",
              "    .colab-df-container {\n",
              "      display:flex;\n",
              "      flex-wrap:wrap;\n",
              "      gap: 12px;\n",
              "    }\n",
              "\n",
              "    .colab-df-convert {\n",
              "      background-color: #E8F0FE;\n",
              "      border: none;\n",
              "      border-radius: 50%;\n",
              "      cursor: pointer;\n",
              "      display: none;\n",
              "      fill: #1967D2;\n",
              "      height: 32px;\n",
              "      padding: 0 0 0 0;\n",
              "      width: 32px;\n",
              "    }\n",
              "\n",
              "    .colab-df-convert:hover {\n",
              "      background-color: #E2EBFA;\n",
              "      box-shadow: 0px 1px 2px rgba(60, 64, 67, 0.3), 0px 1px 3px 1px rgba(60, 64, 67, 0.15);\n",
              "      fill: #174EA6;\n",
              "    }\n",
              "\n",
              "    [theme=dark] .colab-df-convert {\n",
              "      background-color: #3B4455;\n",
              "      fill: #D2E3FC;\n",
              "    }\n",
              "\n",
              "    [theme=dark] .colab-df-convert:hover {\n",
              "      background-color: #434B5C;\n",
              "      box-shadow: 0px 1px 3px 1px rgba(0, 0, 0, 0.15);\n",
              "      filter: drop-shadow(0px 1px 2px rgba(0, 0, 0, 0.3));\n",
              "      fill: #FFFFFF;\n",
              "    }\n",
              "  </style>\n",
              "\n",
              "      <script>\n",
              "        const buttonEl =\n",
              "          document.querySelector('#df-e75d4b8a-222a-4fc1-9e5d-9e31834af032 button.colab-df-convert');\n",
              "        buttonEl.style.display =\n",
              "          google.colab.kernel.accessAllowed ? 'block' : 'none';\n",
              "\n",
              "        async function convertToInteractive(key) {\n",
              "          const element = document.querySelector('#df-e75d4b8a-222a-4fc1-9e5d-9e31834af032');\n",
              "          const dataTable =\n",
              "            await google.colab.kernel.invokeFunction('convertToInteractive',\n",
              "                                                     [key], {});\n",
              "          if (!dataTable) return;\n",
              "\n",
              "          const docLinkHtml = 'Like what you see? Visit the ' +\n",
              "            '<a target=\"_blank\" href=https://colab.research.google.com/notebooks/data_table.ipynb>data table notebook</a>'\n",
              "            + ' to learn more about interactive tables.';\n",
              "          element.innerHTML = '';\n",
              "          dataTable['output_type'] = 'display_data';\n",
              "          await google.colab.output.renderOutput(dataTable, element);\n",
              "          const docLink = document.createElement('div');\n",
              "          docLink.innerHTML = docLinkHtml;\n",
              "          element.appendChild(docLink);\n",
              "        }\n",
              "      </script>\n",
              "    </div>\n",
              "  </div>\n"
            ]
          },
          "metadata": {},
          "execution_count": 101
        }
      ],
      "source": [
        "negative.describe()"
      ]
    },
    {
      "cell_type": "code",
      "execution_count": 102,
      "id": "0011cb21",
      "metadata": {
        "execution": {
          "iopub.execute_input": "2022-05-05T11:27:53.148076Z",
          "iopub.status.busy": "2022-05-05T11:27:53.147715Z",
          "iopub.status.idle": "2022-05-05T11:27:53.211616Z",
          "shell.execute_reply": "2022-05-05T11:27:53.210225Z"
        },
        "papermill": {
          "duration": 0.162557,
          "end_time": "2022-05-05T11:27:53.214421",
          "exception": false,
          "start_time": "2022-05-05T11:27:53.051864",
          "status": "completed"
        },
        "tags": [],
        "id": "0011cb21"
      },
      "outputs": [],
      "source": [
        "from wordcloud import WordCloud"
      ]
    },
    {
      "cell_type": "code",
      "execution_count": 103,
      "id": "4c45210d",
      "metadata": {
        "execution": {
          "iopub.execute_input": "2022-05-05T11:27:53.395239Z",
          "iopub.status.busy": "2022-05-05T11:27:53.394462Z",
          "iopub.status.idle": "2022-05-05T11:27:53.400470Z",
          "shell.execute_reply": "2022-05-05T11:27:53.399678Z"
        },
        "papermill": {
          "duration": 0.099165,
          "end_time": "2022-05-05T11:27:53.402875",
          "exception": false,
          "start_time": "2022-05-05T11:27:53.303710",
          "status": "completed"
        },
        "tags": [],
        "id": "4c45210d"
      },
      "outputs": [],
      "source": [
        "sentences = data['tweet'].tolist()"
      ]
    },
    {
      "cell_type": "code",
      "execution_count": 104,
      "id": "942a6914",
      "metadata": {
        "execution": {
          "iopub.execute_input": "2022-05-05T11:27:53.587382Z",
          "iopub.status.busy": "2022-05-05T11:27:53.586986Z",
          "iopub.status.idle": "2022-05-05T11:27:53.597581Z",
          "shell.execute_reply": "2022-05-05T11:27:53.595606Z"
        },
        "papermill": {
          "duration": 0.104648,
          "end_time": "2022-05-05T11:27:53.600660",
          "exception": false,
          "start_time": "2022-05-05T11:27:53.496012",
          "status": "completed"
        },
        "tags": [],
        "id": "942a6914"
      },
      "outputs": [],
      "source": [
        "combined_sentences = \" \".join(sentences)"
      ]
    },
    {
      "cell_type": "code",
      "execution_count": 105,
      "id": "2a2f8cdc",
      "metadata": {
        "execution": {
          "iopub.execute_input": "2022-05-05T11:27:53.788185Z",
          "iopub.status.busy": "2022-05-05T11:27:53.787090Z",
          "iopub.status.idle": "2022-05-05T11:27:57.607135Z",
          "shell.execute_reply": "2022-05-05T11:27:57.605900Z"
        },
        "papermill": {
          "duration": 3.921241,
          "end_time": "2022-05-05T11:27:57.612427",
          "exception": false,
          "start_time": "2022-05-05T11:27:53.691186",
          "status": "completed"
        },
        "tags": [],
        "id": "2a2f8cdc",
        "outputId": "9a0be590-0acf-455b-8c12-4538225a1a58",
        "colab": {
          "base_uri": "https://localhost:8080/",
          "height": 313
        }
      },
      "outputs": [
        {
          "output_type": "display_data",
          "data": {
            "text/plain": [
              "<Figure size 640x480 with 1 Axes>"
            ],
            "image/png": "[encoded data removed]"
          },
          "metadata": {}
        }
      ],
      "source": [
        "plt.imshow(WordCloud().generate(combined_sentences))\n",
        "plt.show()"
      ]
    },
    {
      "cell_type": "code",
      "execution_count": 106,
      "id": "047208d0",
      "metadata": {
        "execution": {
          "iopub.execute_input": "2022-05-05T11:27:57.819694Z",
          "iopub.status.busy": "2022-05-05T11:27:57.819024Z",
          "iopub.status.idle": "2022-05-05T11:27:57.824649Z",
          "shell.execute_reply": "2022-05-05T11:27:57.823502Z"
        },
        "papermill": {
          "duration": 0.10733,
          "end_time": "2022-05-05T11:27:57.826670",
          "exception": false,
          "start_time": "2022-05-05T11:27:57.719340",
          "status": "completed"
        },
        "tags": [],
        "id": "047208d0"
      },
      "outputs": [],
      "source": [
        "negative_sentences = negative['tweet'].tolist()"
      ]
    },
    {
      "cell_type": "code",
      "execution_count": 107,
      "id": "0f245b0c",
      "metadata": {
        "execution": {
          "iopub.execute_input": "2022-05-05T11:27:58.018570Z",
          "iopub.status.busy": "2022-05-05T11:27:58.016386Z",
          "iopub.status.idle": "2022-05-05T11:27:58.023505Z",
          "shell.execute_reply": "2022-05-05T11:27:58.022296Z"
        },
        "papermill": {
          "duration": 0.106134,
          "end_time": "2022-05-05T11:27:58.026345",
          "exception": false,
          "start_time": "2022-05-05T11:27:57.920211",
          "status": "completed"
        },
        "tags": [],
        "id": "0f245b0c"
      },
      "outputs": [],
      "source": [
        "combined_negative_sentences = \" \".join(negative_sentences)"
      ]
    },
    {
      "cell_type": "code",
      "execution_count": 108,
      "id": "bbef4ee6",
      "metadata": {
        "execution": {
          "iopub.execute_input": "2022-05-05T11:27:58.222967Z",
          "iopub.status.busy": "2022-05-05T11:27:58.222320Z",
          "iopub.status.idle": "2022-05-05T11:27:58.902088Z",
          "shell.execute_reply": "2022-05-05T11:27:58.901238Z"
        },
        "papermill": {
          "duration": 0.783377,
          "end_time": "2022-05-05T11:27:58.905070",
          "exception": false,
          "start_time": "2022-05-05T11:27:58.121693",
          "status": "completed"
        },
        "tags": [],
        "id": "bbef4ee6",
        "outputId": "b240f9ef-e2e5-4326-d6ab-a764089c8633",
        "colab": {
          "base_uri": "https://localhost:8080/",
          "height": 313
        }
      },
      "outputs": [
        {
          "output_type": "display_data",
          "data": {
            "text/plain": [
              "<Figure size 640x480 with 1 Axes>"
            ],
            "image/png": "[encoded data removed]"
          },
          "metadata": {}
        }
      ],
      "source": [
        "plt.imshow(WordCloud().generate(combined_negative_sentences))\n",
        "plt.show()"
      ]
    },
    {
      "cell_type": "markdown",
      "id": "245fb6da",
      "metadata": {
        "papermill": {
          "duration": 0.100726,
          "end_time": "2022-05-05T11:28:04.352944",
          "exception": false,
          "start_time": "2022-05-05T11:28:04.252218",
          "status": "completed"
        },
        "tags": [],
        "id": "245fb6da"
      },
      "source": [
        "Creating a pipeline which removes punctuation, stopwords and peforms tokenization"
      ]
    },
    {
      "cell_type": "code",
      "source": [
        "st = stopwords.words('english')\n",
        "st.append(\"and\")"
      ],
      "metadata": {
        "id": "2KvKegA-RJrK"
      },
      "id": "2KvKegA-RJrK",
      "execution_count": 109,
      "outputs": []
    },
    {
      "cell_type": "code",
      "source": [],
      "metadata": {
        "id": "BQ5nCV4GRm0w"
      },
      "id": "BQ5nCV4GRm0w",
      "execution_count": 109,
      "outputs": []
    },
    {
      "cell_type": "code",
      "execution_count": 110,
      "id": "0b2567c2",
      "metadata": {
        "execution": {
          "iopub.execute_input": "2022-05-05T11:28:04.559234Z",
          "iopub.status.busy": "2022-05-05T11:28:04.558586Z",
          "iopub.status.idle": "2022-05-05T11:28:04.564993Z",
          "shell.execute_reply": "2022-05-05T11:28:04.564217Z"
        },
        "papermill": {
          "duration": 0.110538,
          "end_time": "2022-05-05T11:28:04.567563",
          "exception": false,
          "start_time": "2022-05-05T11:28:04.457025",
          "status": "completed"
        },
        "tags": [],
        "id": "0b2567c2"
      },
      "outputs": [],
      "source": [
        "def message_cleaning(message):\n",
        "    test_punc_removed = [char for char in message if char not in string.punctuation]\n",
        "    test_punc_removed = ''.join(test_punc_removed)\n",
        "    test_punc_st_removed = []\n",
        "    for char in test_punc_removed.split():\n",
        "        if char.lower() not in st:\n",
        "            test_punc_st_removed.append(char)\n",
        "    test_punc_st_removed = \" \".join(test_punc_st_removed)\n",
        "    return test_punc_st_removed"
      ]
    },
    {
      "cell_type": "code",
      "execution_count": 111,
      "id": "ee8a0424",
      "metadata": {
        "execution": {
          "iopub.execute_input": "2022-05-05T11:28:04.771854Z",
          "iopub.status.busy": "2022-05-05T11:28:04.771027Z",
          "iopub.status.idle": "2022-05-05T11:28:04.777709Z",
          "shell.execute_reply": "2022-05-05T11:28:04.776896Z"
        },
        "papermill": {
          "duration": 0.111772,
          "end_time": "2022-05-05T11:28:04.780203",
          "exception": false,
          "start_time": "2022-05-05T11:28:04.668431",
          "status": "completed"
        },
        "tags": [],
        "id": "ee8a0424",
        "outputId": "4b0b13f4-06a4-42ed-e481-6815f4a2e188",
        "colab": {
          "base_uri": "https://localhost:8080/",
          "height": 35
        }
      },
      "outputs": [
        {
          "output_type": "execute_result",
          "data": {
            "text/plain": [
              "'Goblin Ninja win'"
            ],
            "application/vnd.google.colaboratory.intrinsic+json": {
              "type": "string"
            }
          },
          "metadata": {},
          "execution_count": 111
        }
      ],
      "source": [
        "message_cleaning(\"Goblin and Ninja fOR thE win!!\")"
      ]
    },
    {
      "cell_type": "code",
      "execution_count": 112,
      "id": "4a000ea0",
      "metadata": {
        "execution": {
          "iopub.execute_input": "2022-05-05T11:28:04.981441Z",
          "iopub.status.busy": "2022-05-05T11:28:04.980856Z",
          "iopub.status.idle": "2022-05-05T11:28:06.326283Z",
          "shell.execute_reply": "2022-05-05T11:28:06.324574Z"
        },
        "papermill": {
          "duration": 1.447763,
          "end_time": "2022-05-05T11:28:06.329019",
          "exception": false,
          "start_time": "2022-05-05T11:28:04.881256",
          "status": "completed"
        },
        "tags": [],
        "id": "4a000ea0"
      },
      "outputs": [],
      "source": [
        "data_clean = data['tweet'].apply(message_cleaning)"
      ]
    },
    {
      "cell_type": "code",
      "execution_count": 113,
      "id": "75219430",
      "metadata": {
        "execution": {
          "iopub.execute_input": "2022-05-05T11:28:06.535618Z",
          "iopub.status.busy": "2022-05-05T11:28:06.535252Z",
          "iopub.status.idle": "2022-05-05T11:28:06.541905Z",
          "shell.execute_reply": "2022-05-05T11:28:06.541208Z"
        },
        "papermill": {
          "duration": 0.112186,
          "end_time": "2022-05-05T11:28:06.544265",
          "exception": false,
          "start_time": "2022-05-05T11:28:06.432079",
          "status": "completed"
        },
        "tags": [],
        "id": "75219430",
        "outputId": "fcbf909b-afb2-464e-d65a-4808082b435a",
        "colab": {
          "base_uri": "https://localhost:8080/",
          "height": 35
        }
      },
      "outputs": [
        {
          "output_type": "execute_result",
          "data": {
            "text/plain": [
              "'[2/2] huge fan fare and big talking before they leave. chaos and pay disputes when they get there. #allshowandnogo  '"
            ],
            "application/vnd.google.colaboratory.intrinsic+json": {
              "type": "string"
            }
          },
          "metadata": {},
          "execution_count": 113
        }
      ],
      "source": [
        "data['tweet'][5]"
      ]
    },
    {
      "cell_type": "code",
      "execution_count": 114,
      "id": "00836b51",
      "metadata": {
        "execution": {
          "iopub.execute_input": "2022-05-05T11:28:06.755176Z",
          "iopub.status.busy": "2022-05-05T11:28:06.754179Z",
          "iopub.status.idle": "2022-05-05T11:28:06.761066Z",
          "shell.execute_reply": "2022-05-05T11:28:06.760178Z"
        },
        "papermill": {
          "duration": 0.115041,
          "end_time": "2022-05-05T11:28:06.763392",
          "exception": false,
          "start_time": "2022-05-05T11:28:06.648351",
          "status": "completed"
        },
        "tags": [],
        "id": "00836b51",
        "outputId": "bd98cfdc-5148-40ae-fdc1-5dc66b775574",
        "colab": {
          "base_uri": "https://localhost:8080/",
          "height": 35
        }
      },
      "outputs": [
        {
          "output_type": "execute_result",
          "data": {
            "text/plain": [
              "'22 huge fan fare big talking leave chaos pay disputes get allshowandnogo'"
            ],
            "application/vnd.google.colaboratory.intrinsic+json": {
              "type": "string"
            }
          },
          "metadata": {},
          "execution_count": 114
        }
      ],
      "source": [
        "data_clean[5]"
      ]
    },
    {
      "cell_type": "code",
      "execution_count": 115,
      "id": "007873f0",
      "metadata": {
        "execution": {
          "iopub.execute_input": "2022-05-05T11:28:06.967259Z",
          "iopub.status.busy": "2022-05-05T11:28:06.966923Z",
          "iopub.status.idle": "2022-05-05T11:28:06.971885Z",
          "shell.execute_reply": "2022-05-05T11:28:06.971074Z"
        },
        "papermill": {
          "duration": 0.106882,
          "end_time": "2022-05-05T11:28:06.974253",
          "exception": false,
          "start_time": "2022-05-05T11:28:06.867371",
          "status": "completed"
        },
        "tags": [],
        "id": "007873f0"
      },
      "outputs": [],
      "source": [
        "l_data = data_clean.tolist()"
      ]
    },
    {
      "cell_type": "code",
      "execution_count": 116,
      "id": "8d946ac0",
      "metadata": {
        "execution": {
          "iopub.execute_input": "2022-05-05T11:28:07.199145Z",
          "iopub.status.busy": "2022-05-05T11:28:07.198205Z",
          "iopub.status.idle": "2022-05-05T11:28:08.947717Z",
          "shell.execute_reply": "2022-05-05T11:28:08.946339Z"
        },
        "papermill": {
          "duration": 1.866264,
          "end_time": "2022-05-05T11:28:08.950565",
          "exception": false,
          "start_time": "2022-05-05T11:28:07.084301",
          "status": "completed"
        },
        "tags": [],
        "id": "8d946ac0"
      },
      "outputs": [],
      "source": [
        "tweets_tfidfvectorizer = TfidfVectorizer(max_features=5000, stop_words='english').fit_transform(l_data).toarray()"
      ]
    },
    {
      "cell_type": "code",
      "execution_count": 117,
      "id": "98927b30",
      "metadata": {
        "execution": {
          "iopub.execute_input": "2022-05-05T11:28:09.177001Z",
          "iopub.status.busy": "2022-05-05T11:28:09.176679Z",
          "iopub.status.idle": "2022-05-05T11:28:09.183451Z",
          "shell.execute_reply": "2022-05-05T11:28:09.182239Z"
        },
        "papermill": {
          "duration": 0.127849,
          "end_time": "2022-05-05T11:28:09.186636",
          "exception": false,
          "start_time": "2022-05-05T11:28:09.058787",
          "status": "completed"
        },
        "tags": [],
        "id": "98927b30",
        "outputId": "365f22b4-7aa0-4dee-d6a4-5f53f850c623",
        "colab": {
          "base_uri": "https://localhost:8080/"
        }
      },
      "outputs": [
        {
          "output_type": "execute_result",
          "data": {
            "text/plain": [
              "(31962, 5000)"
            ]
          },
          "metadata": {},
          "execution_count": 117
        }
      ],
      "source": [
        "tweets_tfidfvectorizer.shape"
      ]
    },
    {
      "cell_type": "code",
      "execution_count": 118,
      "id": "f162ab43",
      "metadata": {
        "execution": {
          "iopub.execute_input": "2022-05-05T11:28:09.403168Z",
          "iopub.status.busy": "2022-05-05T11:28:09.402437Z",
          "iopub.status.idle": "2022-05-05T11:28:09.407833Z",
          "shell.execute_reply": "2022-05-05T11:28:09.406855Z"
        },
        "papermill": {
          "duration": 0.117395,
          "end_time": "2022-05-05T11:28:09.409970",
          "exception": false,
          "start_time": "2022-05-05T11:28:09.292575",
          "status": "completed"
        },
        "tags": [],
        "id": "f162ab43"
      },
      "outputs": [],
      "source": [
        "X = tweets_tfidfvectorizer\n",
        "y = data['label']"
      ]
    },
    {
      "cell_type": "markdown",
      "id": "72873a38",
      "metadata": {
        "papermill": {
          "duration": 0.106673,
          "end_time": "2022-05-05T11:28:09.621713",
          "exception": false,
          "start_time": "2022-05-05T11:28:09.515040",
          "status": "completed"
        },
        "tags": [],
        "id": "72873a38"
      },
      "source": [
        "Using Naive Bayes to classify"
      ]
    },
    {
      "cell_type": "code",
      "execution_count": 119,
      "id": "1d3b2a3e",
      "metadata": {
        "execution": {
          "iopub.execute_input": "2022-05-05T11:28:09.830523Z",
          "iopub.status.busy": "2022-05-05T11:28:09.830173Z",
          "iopub.status.idle": "2022-05-05T11:28:09.836800Z",
          "shell.execute_reply": "2022-05-05T11:28:09.835977Z"
        },
        "papermill": {
          "duration": 0.114096,
          "end_time": "2022-05-05T11:28:09.840159",
          "exception": false,
          "start_time": "2022-05-05T11:28:09.726063",
          "status": "completed"
        },
        "tags": [],
        "id": "1d3b2a3e",
        "outputId": "f978984d-baea-480f-8be3-8dfc4fe105a0",
        "colab": {
          "base_uri": "https://localhost:8080/"
        }
      },
      "outputs": [
        {
          "output_type": "execute_result",
          "data": {
            "text/plain": [
              "(31962, 5000)"
            ]
          },
          "metadata": {},
          "execution_count": 119
        }
      ],
      "source": [
        "X.shape"
      ]
    },
    {
      "cell_type": "code",
      "execution_count": 120,
      "id": "6c2183b7",
      "metadata": {
        "execution": {
          "iopub.execute_input": "2022-05-05T11:28:10.048960Z",
          "iopub.status.busy": "2022-05-05T11:28:10.048361Z",
          "iopub.status.idle": "2022-05-05T11:28:10.054692Z",
          "shell.execute_reply": "2022-05-05T11:28:10.053855Z"
        },
        "papermill": {
          "duration": 0.112503,
          "end_time": "2022-05-05T11:28:10.057005",
          "exception": false,
          "start_time": "2022-05-05T11:28:09.944502",
          "status": "completed"
        },
        "tags": [],
        "id": "6c2183b7",
        "outputId": "db843914-7299-4635-da51-515d569b6ab3",
        "colab": {
          "base_uri": "https://localhost:8080/"
        }
      },
      "outputs": [
        {
          "output_type": "execute_result",
          "data": {
            "text/plain": [
              "(31962,)"
            ]
          },
          "metadata": {},
          "execution_count": 120
        }
      ],
      "source": [
        "y.shape"
      ]
    },
    {
      "cell_type": "code",
      "execution_count": 121,
      "id": "408fd3c2",
      "metadata": {
        "execution": {
          "iopub.execute_input": "2022-05-05T11:28:10.289048Z",
          "iopub.status.busy": "2022-05-05T11:28:10.288213Z",
          "iopub.status.idle": "2022-05-05T11:28:10.292859Z",
          "shell.execute_reply": "2022-05-05T11:28:10.292051Z"
        },
        "papermill": {
          "duration": 0.134169,
          "end_time": "2022-05-05T11:28:10.297146",
          "exception": false,
          "start_time": "2022-05-05T11:28:10.162977",
          "status": "completed"
        },
        "tags": [],
        "id": "408fd3c2"
      },
      "outputs": [],
      "source": [
        "from sklearn.model_selection import train_test_split"
      ]
    },
    {
      "cell_type": "code",
      "execution_count": 122,
      "id": "a44c4332",
      "metadata": {
        "execution": {
          "iopub.execute_input": "2022-05-05T11:28:10.526901Z",
          "iopub.status.busy": "2022-05-05T11:28:10.526304Z",
          "iopub.status.idle": "2022-05-05T11:28:21.690368Z",
          "shell.execute_reply": "2022-05-05T11:28:21.689351Z"
        },
        "papermill": {
          "duration": 11.269036,
          "end_time": "2022-05-05T11:28:21.693046",
          "exception": false,
          "start_time": "2022-05-05T11:28:10.424010",
          "status": "completed"
        },
        "tags": [],
        "id": "a44c4332"
      },
      "outputs": [],
      "source": [
        "X_train, X_test, y_train, y_test = train_test_split(X, y, test_size = 0.3, random_state = 42)"
      ]
    },
    {
      "cell_type": "code",
      "execution_count": 123,
      "id": "6435d103",
      "metadata": {
        "execution": {
          "iopub.execute_input": "2022-05-05T11:28:21.909461Z",
          "iopub.status.busy": "2022-05-05T11:28:21.908755Z",
          "iopub.status.idle": "2022-05-05T11:28:21.917189Z",
          "shell.execute_reply": "2022-05-05T11:28:21.916350Z"
        },
        "papermill": {
          "duration": 0.117432,
          "end_time": "2022-05-05T11:28:21.920991",
          "exception": false,
          "start_time": "2022-05-05T11:28:21.803559",
          "status": "completed"
        },
        "tags": [],
        "id": "6435d103"
      },
      "outputs": [],
      "source": [
        "from sklearn.naive_bayes import MultinomialNB #for discrete values"
      ]
    },
    {
      "cell_type": "code",
      "execution_count": 124,
      "id": "c6bde99f",
      "metadata": {
        "execution": {
          "iopub.execute_input": "2022-05-05T11:28:22.140960Z",
          "iopub.status.busy": "2022-05-05T11:28:22.139879Z",
          "iopub.status.idle": "2022-05-05T11:28:22.145019Z",
          "shell.execute_reply": "2022-05-05T11:28:22.144119Z"
        },
        "papermill": {
          "duration": 0.119728,
          "end_time": "2022-05-05T11:28:22.147935",
          "exception": false,
          "start_time": "2022-05-05T11:28:22.028207",
          "status": "completed"
        },
        "tags": [],
        "id": "c6bde99f"
      },
      "outputs": [],
      "source": [
        "NB_classifier = MultinomialNB()"
      ]
    },
    {
      "cell_type": "code",
      "execution_count": 125,
      "id": "3503937f",
      "metadata": {
        "execution": {
          "iopub.execute_input": "2022-05-05T11:28:22.363134Z",
          "iopub.status.busy": "2022-05-05T11:28:22.362743Z",
          "iopub.status.idle": "2022-05-05T11:28:50.306075Z",
          "shell.execute_reply": "2022-05-05T11:28:50.304071Z"
        },
        "papermill": {
          "duration": 28.052933,
          "end_time": "2022-05-05T11:28:50.309369",
          "exception": false,
          "start_time": "2022-05-05T11:28:22.256436",
          "status": "completed"
        },
        "tags": [],
        "id": "3503937f",
        "outputId": "ae6b163b-91cd-499d-c5b6-19f3ec9ddada",
        "colab": {
          "base_uri": "https://localhost:8080/",
          "height": 75
        }
      },
      "outputs": [
        {
          "output_type": "execute_result",
          "data": {
            "text/plain": [
              "MultinomialNB()"
            ],
            "text/html": [
              "<style>#sk-container-id-1 {color: black;background-color: white;}#sk-container-id-1 pre{padding: 0;}#sk-container-id-1 div.sk-toggleable {background-color: white;}#sk-container-id-1 label.sk-toggleable__label {cursor: pointer;display: block;width: 100%;margin-bottom: 0;padding: 0.3em;box-sizing: border-box;text-align: center;}#sk-container-id-1 label.sk-toggleable__label-arrow:before {content: \"▸\";float: left;margin-right: 0.25em;color: #696969;}#sk-container-id-1 label.sk-toggleable__label-arrow:hover:before {color: black;}#sk-container-id-1 div.sk-estimator:hover label.sk-toggleable__label-arrow:before {color: black;}#sk-container-id-1 div.sk-toggleable__content {max-height: 0;max-width: 0;overflow: hidden;text-align: left;background-color: #f0f8ff;}#sk-container-id-1 div.sk-toggleable__content pre {margin: 0.2em;color: black;border-radius: 0.25em;background-color: #f0f8ff;}#sk-container-id-1 input.sk-toggleable__control:checked~div.sk-toggleable__content {max-height: 200px;max-width: 100%;overflow: auto;}#sk-container-id-1 input.sk-toggleable__control:checked~label.sk-toggleable__label-arrow:before {content: \"▾\";}#sk-container-id-1 div.sk-estimator input.sk-toggleable__control:checked~label.sk-toggleable__label {background-color: #d4ebff;}#sk-container-id-1 div.sk-label input.sk-toggleable__control:checked~label.sk-toggleable__label {background-color: #d4ebff;}#sk-container-id-1 input.sk-hidden--visually {border: 0;clip: rect(1px 1px 1px 1px);clip: rect(1px, 1px, 1px, 1px);height: 1px;margin: -1px;overflow: hidden;padding: 0;position: absolute;width: 1px;}#sk-container-id-1 div.sk-estimator {font-family: monospace;background-color: #f0f8ff;border: 1px dotted black;border-radius: 0.25em;box-sizing: border-box;margin-bottom: 0.5em;}#sk-container-id-1 div.sk-estimator:hover {background-color: #d4ebff;}#sk-container-id-1 div.sk-parallel-item::after {content: \"\";width: 100%;border-bottom: 1px solid gray;flex-grow: 1;}#sk-container-id-1 div.sk-label:hover label.sk-toggleable__label {background-color: #d4ebff;}#sk-container-id-1 div.sk-serial::before {content: \"\";position: absolute;border-left: 1px solid gray;box-sizing: border-box;top: 0;bottom: 0;left: 50%;z-index: 0;}#sk-container-id-1 div.sk-serial {display: flex;flex-direction: column;align-items: center;background-color: white;padding-right: 0.2em;padding-left: 0.2em;position: relative;}#sk-container-id-1 div.sk-item {position: relative;z-index: 1;}#sk-container-id-1 div.sk-parallel {display: flex;align-items: stretch;justify-content: center;background-color: white;position: relative;}#sk-container-id-1 div.sk-item::before, #sk-container-id-1 div.sk-parallel-item::before {content: \"\";position: absolute;border-left: 1px solid gray;box-sizing: border-box;top: 0;bottom: 0;left: 50%;z-index: -1;}#sk-container-id-1 div.sk-parallel-item {display: flex;flex-direction: column;z-index: 1;position: relative;background-color: white;}#sk-container-id-1 div.sk-parallel-item:first-child::after {align-self: flex-end;width: 50%;}#sk-container-id-1 div.sk-parallel-item:last-child::after {align-self: flex-start;width: 50%;}#sk-container-id-1 div.sk-parallel-item:only-child::after {width: 0;}#sk-container-id-1 div.sk-dashed-wrapped {border: 1px dashed gray;margin: 0 0.4em 0.5em 0.4em;box-sizing: border-box;padding-bottom: 0.4em;background-color: white;}#sk-container-id-1 div.sk-label label {font-family: monospace;font-weight: bold;display: inline-block;line-height: 1.2em;}#sk-container-id-1 div.sk-label-container {text-align: center;}#sk-container-id-1 div.sk-container {/* jupyter's `normalize.less` sets `[hidden] { display: none; }` but bootstrap.min.css set `[hidden] { display: none !important; }` so we also need the `!important` here to be able to override the default hidden behavior on the sphinx rendered scikit-learn.org. See: https://github.com/scikit-learn/scikit-learn/issues/21755 */display: inline-block !important;position: relative;}#sk-container-id-1 div.sk-text-repr-fallback {display: none;}</style><div id=\"sk-container-id-1\" class=\"sk-top-container\"><div class=\"sk-text-repr-fallback\"><pre>MultinomialNB()</pre><b>In a Jupyter environment, please rerun this cell to show the HTML representation or trust the notebook. <br />On GitHub, the HTML representation is unable to render, please try loading this page with nbviewer.org.</b></div><div class=\"sk-container\" hidden><div class=\"sk-item\"><div class=\"sk-estimator sk-toggleable\"><input class=\"sk-toggleable__control sk-hidden--visually\" id=\"sk-estimator-id-1\" type=\"checkbox\" checked><label for=\"sk-estimator-id-1\" class=\"sk-toggleable__label sk-toggleable__label-arrow\">MultinomialNB</label><div class=\"sk-toggleable__content\"><pre>MultinomialNB()</pre></div></div></div></div></div>"
            ]
          },
          "metadata": {},
          "execution_count": 125
        }
      ],
      "source": [
        "NB_classifier.fit(X_train, y_train)"
      ]
    },
    {
      "cell_type": "code",
      "execution_count": 126,
      "id": "b0e4ac1b",
      "metadata": {
        "execution": {
          "iopub.execute_input": "2022-05-05T11:28:50.531941Z",
          "iopub.status.busy": "2022-05-05T11:28:50.531180Z",
          "iopub.status.idle": "2022-05-05T11:28:53.654726Z",
          "shell.execute_reply": "2022-05-05T11:28:53.653418Z"
        },
        "papermill": {
          "duration": 3.237019,
          "end_time": "2022-05-05T11:28:53.658965",
          "exception": false,
          "start_time": "2022-05-05T11:28:50.421946",
          "status": "completed"
        },
        "tags": [],
        "id": "b0e4ac1b"
      },
      "outputs": [],
      "source": [
        "y_pred = NB_classifier.predict(X_test)"
      ]
    },
    {
      "cell_type": "code",
      "execution_count": 127,
      "id": "d4b118d5",
      "metadata": {
        "execution": {
          "iopub.execute_input": "2022-05-05T11:28:53.889025Z",
          "iopub.status.busy": "2022-05-05T11:28:53.888632Z",
          "iopub.status.idle": "2022-05-05T11:28:53.894276Z",
          "shell.execute_reply": "2022-05-05T11:28:53.893288Z"
        },
        "papermill": {
          "duration": 0.130454,
          "end_time": "2022-05-05T11:28:53.897668",
          "exception": false,
          "start_time": "2022-05-05T11:28:53.767214",
          "status": "completed"
        },
        "tags": [],
        "id": "d4b118d5"
      },
      "outputs": [],
      "source": [
        "from sklearn.metrics import confusion_matrix, classification_report, accuracy_score"
      ]
    },
    {
      "cell_type": "code",
      "execution_count": 128,
      "id": "4fd5d4bd",
      "metadata": {
        "execution": {
          "iopub.execute_input": "2022-05-05T11:28:54.143205Z",
          "iopub.status.busy": "2022-05-05T11:28:54.142244Z",
          "iopub.status.idle": "2022-05-05T11:28:54.154391Z",
          "shell.execute_reply": "2022-05-05T11:28:54.152706Z"
        },
        "papermill": {
          "duration": 0.140719,
          "end_time": "2022-05-05T11:28:54.157907",
          "exception": false,
          "start_time": "2022-05-05T11:28:54.017188",
          "status": "completed"
        },
        "tags": [],
        "id": "4fd5d4bd",
        "outputId": "1612218a-a07c-4ceb-be4d-dd36a9a57f40",
        "colab": {
          "base_uri": "https://localhost:8080/"
        }
      },
      "outputs": [
        {
          "output_type": "execute_result",
          "data": {
            "text/plain": [
              "array([[8889,   16],\n",
              "       [ 463,  221]])"
            ]
          },
          "metadata": {},
          "execution_count": 128
        }
      ],
      "source": [
        "cm = confusion_matrix(y_test, y_pred)\n",
        "cm"
      ]
    },
    {
      "cell_type": "code",
      "execution_count": 129,
      "id": "07414e84",
      "metadata": {
        "execution": {
          "iopub.execute_input": "2022-05-05T11:28:54.434324Z",
          "iopub.status.busy": "2022-05-05T11:28:54.433872Z",
          "iopub.status.idle": "2022-05-05T11:28:54.816334Z",
          "shell.execute_reply": "2022-05-05T11:28:54.814318Z"
        },
        "papermill": {
          "duration": 0.526237,
          "end_time": "2022-05-05T11:28:54.819749",
          "exception": false,
          "start_time": "2022-05-05T11:28:54.293512",
          "status": "completed"
        },
        "tags": [],
        "id": "07414e84",
        "outputId": "bfde08e9-65ad-4b8b-fd83-b14e1fed4864",
        "colab": {
          "base_uri": "https://localhost:8080/",
          "height": 447
        }
      },
      "outputs": [
        {
          "output_type": "execute_result",
          "data": {
            "text/plain": [
              "<Axes: >"
            ]
          },
          "metadata": {},
          "execution_count": 129
        },
        {
          "output_type": "display_data",
          "data": {
            "text/plain": [
              "<Figure size 640x480 with 2 Axes>"
            ],
            "image/png": "[encoded data removed]"
          },
          "metadata": {}
        }
      ],
      "source": [
        "sns.heatmap(cm, annot = True)"
      ]
    },
    {
      "cell_type": "code",
      "execution_count": 130,
      "id": "bf30ed58",
      "metadata": {
        "execution": {
          "iopub.execute_input": "2022-05-05T11:28:55.067339Z",
          "iopub.status.busy": "2022-05-05T11:28:55.066762Z",
          "iopub.status.idle": "2022-05-05T11:28:55.079537Z",
          "shell.execute_reply": "2022-05-05T11:28:55.077589Z"
        },
        "papermill": {
          "duration": 0.141916,
          "end_time": "2022-05-05T11:28:55.082972",
          "exception": false,
          "start_time": "2022-05-05T11:28:54.941056",
          "status": "completed"
        },
        "tags": [],
        "id": "bf30ed58",
        "outputId": "71899aca-8949-4e01-dcf0-927ce3a1207c",
        "colab": {
          "base_uri": "https://localhost:8080/"
        }
      },
      "outputs": [
        {
          "output_type": "execute_result",
          "data": {
            "text/plain": [
              "0.9500469287725519"
            ]
          },
          "metadata": {},
          "execution_count": 130
        }
      ],
      "source": [
        "ac = accuracy_score(y_test, y_pred)\n",
        "ac"
      ]
    },
    {
      "cell_type": "code",
      "execution_count": 131,
      "id": "065aed1c",
      "metadata": {
        "execution": {
          "iopub.execute_input": "2022-05-05T11:28:55.341430Z",
          "iopub.status.busy": "2022-05-05T11:28:55.340743Z",
          "iopub.status.idle": "2022-05-05T11:28:55.368014Z",
          "shell.execute_reply": "2022-05-05T11:28:55.365172Z"
        },
        "papermill": {
          "duration": 0.168099,
          "end_time": "2022-05-05T11:28:55.373372",
          "exception": false,
          "start_time": "2022-05-05T11:28:55.205273",
          "status": "completed"
        },
        "tags": [],
        "id": "065aed1c",
        "outputId": "87171e5a-cb45-4e92-ed56-d76218f993e9",
        "colab": {
          "base_uri": "https://localhost:8080/"
        }
      },
      "outputs": [
        {
          "output_type": "stream",
          "name": "stdout",
          "text": [
            "              precision    recall  f1-score   support\n",
            "\n",
            "           0       0.95      1.00      0.97      8905\n",
            "           1       0.93      0.32      0.48       684\n",
            "\n",
            "    accuracy                           0.95      9589\n",
            "   macro avg       0.94      0.66      0.73      9589\n",
            "weighted avg       0.95      0.95      0.94      9589\n",
            "\n"
          ]
        }
      ],
      "source": [
        "print(classification_report(y_test, y_pred))"
      ]
    },
    {
      "cell_type": "code",
      "source": [],
      "metadata": {
        "id": "BlOlomuPIeTx"
      },
      "id": "BlOlomuPIeTx",
      "execution_count": 131,
      "outputs": []
    }
  ],
  "metadata": {
    "kernelspec": {
      "display_name": "Python 3",
      "language": "python",
      "name": "python3"
    },
    "language_info": {
      "codemirror_mode": {
        "name": "ipython",
        "version": 3
      },
      "file_extension": ".py",
      "mimetype": "text/x-python",
      "name": "python",
      "nbconvert_exporter": "python",
      "pygments_lexer": "ipython3",
      "version": "3.7.12"
    },
    "papermill": {
      "default_parameters": {},
      "duration": 88.449325,
      "end_time": "2022-05-05T11:28:57.134478",
      "environment_variables": {},
      "exception": null,
      "input_path": "__notebook__.ipynb",
      "output_path": "__notebook__.ipynb",
      "parameters": {},
      "start_time": "2022-05-05T11:27:28.685153",
      "version": "2.3.4"
    },
    "colab": {
      "provenance": []
    }
  },
  "nbformat": 4,
  "nbformat_minor": 5
}