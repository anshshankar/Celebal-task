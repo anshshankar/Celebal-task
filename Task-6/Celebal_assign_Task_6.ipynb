{
  "cells": [
    {
      "cell_type": "markdown",
      "id": "d6c56288",
      "metadata": {
        "papermill": {
          "duration": 0.078661,
          "end_time": "2022-03-21T18:05:10.476624",
          "exception": false,
          "start_time": "2022-03-21T18:05:10.397963",
          "status": "completed"
        },
        "tags": [],
        "id": "d6c56288"
      },
      "source": [
        "<a id=\"section-one\"></a>\n",
        "# Exploratory Data Analysis\n",
        "Here I will explore the dataset, explore each feature of the customers, perform descriptive analysis, and visualize the relationship between the variables.\\\n",
        "The Data is Stored in an Excel file with two excel sheets, one for the data description, and the order contains the customer data."
      ]
    },
    {
      "cell_type": "code",
      "execution_count": 1,
      "id": "08bbf22c",
      "metadata": {
        "execution": {
          "iopub.execute_input": "2022-03-21T18:05:10.645367Z",
          "iopub.status.busy": "2022-03-21T18:05:10.642947Z",
          "iopub.status.idle": "2022-03-21T18:05:39.483252Z",
          "shell.execute_reply": "2022-03-21T18:05:39.483923Z",
          "shell.execute_reply.started": "2022-03-18T16:32:41.712845Z"
        },
        "papermill": {
          "duration": 28.928176,
          "end_time": "2022-03-21T18:05:39.484201",
          "exception": false,
          "start_time": "2022-03-21T18:05:10.556025",
          "status": "completed"
        },
        "tags": [],
        "id": "08bbf22c",
        "outputId": "abfedffc-5b77-4935-8277-8ba2471d30cb",
        "colab": {
          "base_uri": "https://localhost:8080/"
        }
      },
      "outputs": [
        {
          "output_type": "stream",
          "name": "stdout",
          "text": [
            "Requirement already satisfied: fancyimpute in /usr/local/lib/python3.10/dist-packages (0.7.0)\n",
            "Requirement already satisfied: knnimpute>=0.1.0 in /usr/local/lib/python3.10/dist-packages (from fancyimpute) (0.1.0)\n",
            "Requirement already satisfied: scikit-learn>=0.24.2 in /usr/local/lib/python3.10/dist-packages (from fancyimpute) (1.2.2)\n",
            "Requirement already satisfied: cvxpy in /usr/local/lib/python3.10/dist-packages (from fancyimpute) (1.3.2)\n",
            "Requirement already satisfied: cvxopt in /usr/local/lib/python3.10/dist-packages (from fancyimpute) (1.3.1)\n",
            "Requirement already satisfied: pytest in /usr/local/lib/python3.10/dist-packages (from fancyimpute) (7.2.2)\n",
            "Requirement already satisfied: nose in /usr/local/lib/python3.10/dist-packages (from fancyimpute) (1.3.7)\n",
            "Requirement already satisfied: six in /usr/local/lib/python3.10/dist-packages (from knnimpute>=0.1.0->fancyimpute) (1.16.0)\n",
            "Requirement already satisfied: numpy>=1.10 in /usr/local/lib/python3.10/dist-packages (from knnimpute>=0.1.0->fancyimpute) (1.22.4)\n",
            "Requirement already satisfied: scipy>=1.3.2 in /usr/local/lib/python3.10/dist-packages (from scikit-learn>=0.24.2->fancyimpute) (1.10.1)\n",
            "Requirement already satisfied: joblib>=1.1.1 in /usr/local/lib/python3.10/dist-packages (from scikit-learn>=0.24.2->fancyimpute) (1.3.1)\n",
            "Requirement already satisfied: threadpoolctl>=2.0.0 in /usr/local/lib/python3.10/dist-packages (from scikit-learn>=0.24.2->fancyimpute) (3.2.0)\n",
            "Requirement already satisfied: osqp>=0.4.1 in /usr/local/lib/python3.10/dist-packages (from cvxpy->fancyimpute) (0.6.2.post8)\n",
            "Requirement already satisfied: ecos>=2 in /usr/local/lib/python3.10/dist-packages (from cvxpy->fancyimpute) (2.0.12)\n",
            "Requirement already satisfied: scs>=1.1.6 in /usr/local/lib/python3.10/dist-packages (from cvxpy->fancyimpute) (3.2.3)\n",
            "Requirement already satisfied: setuptools>65.5.1 in /usr/local/lib/python3.10/dist-packages (from cvxpy->fancyimpute) (67.7.2)\n",
            "Requirement already satisfied: attrs>=19.2.0 in /usr/local/lib/python3.10/dist-packages (from pytest->fancyimpute) (23.1.0)\n",
            "Requirement already satisfied: iniconfig in /usr/local/lib/python3.10/dist-packages (from pytest->fancyimpute) (2.0.0)\n",
            "Requirement already satisfied: packaging in /usr/local/lib/python3.10/dist-packages (from pytest->fancyimpute) (23.1)\n",
            "Requirement already satisfied: pluggy<2.0,>=0.12 in /usr/local/lib/python3.10/dist-packages (from pytest->fancyimpute) (1.2.0)\n",
            "Requirement already satisfied: exceptiongroup>=1.0.0rc8 in /usr/local/lib/python3.10/dist-packages (from pytest->fancyimpute) (1.1.2)\n",
            "Requirement already satisfied: tomli>=1.0.0 in /usr/local/lib/python3.10/dist-packages (from pytest->fancyimpute) (2.0.1)\n",
            "Requirement already satisfied: qdldl in /usr/local/lib/python3.10/dist-packages (from osqp>=0.4.1->cvxpy->fancyimpute) (0.1.7.post0)\n"
          ]
        }
      ],
      "source": [
        "!pip install fancyimpute"
      ]
    },
    {
      "cell_type": "code",
      "execution_count": 2,
      "id": "e0d51153",
      "metadata": {
        "execution": {
          "iopub.execute_input": "2022-03-21T18:05:39.654575Z",
          "iopub.status.busy": "2022-03-21T18:05:39.654073Z",
          "iopub.status.idle": "2022-03-21T18:05:41.690395Z",
          "shell.execute_reply": "2022-03-21T18:05:41.690970Z",
          "shell.execute_reply.started": "2022-03-18T16:33:16.469443Z"
        },
        "papermill": {
          "duration": 2.109546,
          "end_time": "2022-03-21T18:05:41.691128",
          "exception": false,
          "start_time": "2022-03-21T18:05:39.581582",
          "status": "completed"
        },
        "tags": [],
        "id": "e0d51153"
      },
      "outputs": [],
      "source": [
        "#import required libraries\n",
        "import numpy as np\n",
        "import pandas as pd\n",
        "import matplotlib.pyplot as plt\n",
        "import seaborn as sns\n",
        "import missingno as msno\n",
        "from sklearn.preprocessing import StandardScaler\n",
        "from sklearn.model_selection import train_test_split, StratifiedKFold, cross_val_score\n",
        "\n",
        "from sklearn.linear_model import LogisticRegression\n",
        "from sklearn.ensemble import RandomForestClassifier\n",
        "from xgboost import XGBClassifier\n",
        "\n",
        "from sklearn.metrics import f1_score, accuracy_score, confusion_matrix,classification_report\n",
        "from fancyimpute import IterativeImputer"
      ]
    },
    {
      "cell_type": "code",
      "execution_count": 3,
      "id": "e7acab1a",
      "metadata": {
        "execution": {
          "iopub.execute_input": "2022-03-21T18:05:41.833323Z",
          "iopub.status.busy": "2022-03-21T18:05:41.832835Z",
          "iopub.status.idle": "2022-03-21T18:05:44.856047Z",
          "shell.execute_reply": "2022-03-21T18:05:44.856432Z",
          "shell.execute_reply.started": "2022-03-18T16:33:18.343905Z"
        },
        "papermill": {
          "duration": 3.095991,
          "end_time": "2022-03-21T18:05:44.856597",
          "exception": false,
          "start_time": "2022-03-21T18:05:41.760606",
          "status": "completed"
        },
        "tags": [],
        "id": "e7acab1a",
        "outputId": "35d60ccd-5b0e-4101-8c29-83307d8084fb",
        "colab": {
          "base_uri": "https://localhost:8080/",
          "height": 677
        }
      },
      "outputs": [
        {
          "output_type": "execute_result",
          "data": {
            "text/plain": [
              "      Data                     Variable  \\\n",
              "0   E Comm                   CustomerID   \n",
              "1   E Comm                        Churn   \n",
              "2   E Comm                       Tenure   \n",
              "3   E Comm         PreferredLoginDevice   \n",
              "4   E Comm                     CityTier   \n",
              "5   E Comm              WarehouseToHome   \n",
              "6   E Comm         PreferredPaymentMode   \n",
              "7   E Comm                       Gender   \n",
              "8   E Comm               HourSpendOnApp   \n",
              "9   E Comm     NumberOfDeviceRegistered   \n",
              "10  E Comm             PreferedOrderCat   \n",
              "11  E Comm            SatisfactionScore   \n",
              "12  E Comm                MaritalStatus   \n",
              "13  E Comm              NumberOfAddress   \n",
              "14  E Comm                     Complain   \n",
              "15  E Comm  OrderAmountHikeFromlastYear   \n",
              "16  E Comm                   CouponUsed   \n",
              "17  E Comm                   OrderCount   \n",
              "18  E Comm            DaySinceLastOrder   \n",
              "19  E Comm               CashbackAmount   \n",
              "\n",
              "                                          Discerption  \n",
              "0                                  Unique customer ID  \n",
              "1                                          Churn Flag  \n",
              "2                  Tenure of customer in organization  \n",
              "3                  Preferred login device of customer  \n",
              "4                                           City tier  \n",
              "5   Distance in between warehouse to home of customer  \n",
              "6                Preferred payment method of customer  \n",
              "7                                  Gender of customer  \n",
              "8   Number of hours spend on mobile application or...  \n",
              "9   Total number of deceives is registered on part...  \n",
              "10  Preferred order category of customer in last m...  \n",
              "11          Satisfactory score of customer on service  \n",
              "12                         Marital status of customer  \n",
              "13  Total number of added added on particular cust...  \n",
              "14        Any complaint has been raised in last month  \n",
              "15       Percentage increases in order from last year  \n",
              "16  Total number of coupon has been used in last m...  \n",
              "17  Total number of orders has been places in last...  \n",
              "18                   Day Since last order by customer  \n",
              "19                     Average cashback in last month  "
            ],
            "text/html": [
              "\n",
              "\n",
              "  <div id=\"df-a28147ac-411f-4a79-82e1-aa08edcc6618\">\n",
              "    <div class=\"colab-df-container\">\n",
              "      <div>\n",
              "<style scoped>\n",
              "    .dataframe tbody tr th:only-of-type {\n",
              "        vertical-align: middle;\n",
              "    }\n",
              "\n",
              "    .dataframe tbody tr th {\n",
              "        vertical-align: top;\n",
              "    }\n",
              "\n",
              "    .dataframe thead th {\n",
              "        text-align: right;\n",
              "    }\n",
              "</style>\n",
              "<table border=\"1\" class=\"dataframe\">\n",
              "  <thead>\n",
              "    <tr style=\"text-align: right;\">\n",
              "      <th></th>\n",
              "      <th>Data</th>\n",
              "      <th>Variable</th>\n",
              "      <th>Discerption</th>\n",
              "    </tr>\n",
              "  </thead>\n",
              "  <tbody>\n",
              "    <tr>\n",
              "      <th>0</th>\n",
              "      <td>E Comm</td>\n",
              "      <td>CustomerID</td>\n",
              "      <td>Unique customer ID</td>\n",
              "    </tr>\n",
              "    <tr>\n",
              "      <th>1</th>\n",
              "      <td>E Comm</td>\n",
              "      <td>Churn</td>\n",
              "      <td>Churn Flag</td>\n",
              "    </tr>\n",
              "    <tr>\n",
              "      <th>2</th>\n",
              "      <td>E Comm</td>\n",
              "      <td>Tenure</td>\n",
              "      <td>Tenure of customer in organization</td>\n",
              "    </tr>\n",
              "    <tr>\n",
              "      <th>3</th>\n",
              "      <td>E Comm</td>\n",
              "      <td>PreferredLoginDevice</td>\n",
              "      <td>Preferred login device of customer</td>\n",
              "    </tr>\n",
              "    <tr>\n",
              "      <th>4</th>\n",
              "      <td>E Comm</td>\n",
              "      <td>CityTier</td>\n",
              "      <td>City tier</td>\n",
              "    </tr>\n",
              "    <tr>\n",
              "      <th>5</th>\n",
              "      <td>E Comm</td>\n",
              "      <td>WarehouseToHome</td>\n",
              "      <td>Distance in between warehouse to home of customer</td>\n",
              "    </tr>\n",
              "    <tr>\n",
              "      <th>6</th>\n",
              "      <td>E Comm</td>\n",
              "      <td>PreferredPaymentMode</td>\n",
              "      <td>Preferred payment method of customer</td>\n",
              "    </tr>\n",
              "    <tr>\n",
              "      <th>7</th>\n",
              "      <td>E Comm</td>\n",
              "      <td>Gender</td>\n",
              "      <td>Gender of customer</td>\n",
              "    </tr>\n",
              "    <tr>\n",
              "      <th>8</th>\n",
              "      <td>E Comm</td>\n",
              "      <td>HourSpendOnApp</td>\n",
              "      <td>Number of hours spend on mobile application or...</td>\n",
              "    </tr>\n",
              "    <tr>\n",
              "      <th>9</th>\n",
              "      <td>E Comm</td>\n",
              "      <td>NumberOfDeviceRegistered</td>\n",
              "      <td>Total number of deceives is registered on part...</td>\n",
              "    </tr>\n",
              "    <tr>\n",
              "      <th>10</th>\n",
              "      <td>E Comm</td>\n",
              "      <td>PreferedOrderCat</td>\n",
              "      <td>Preferred order category of customer in last m...</td>\n",
              "    </tr>\n",
              "    <tr>\n",
              "      <th>11</th>\n",
              "      <td>E Comm</td>\n",
              "      <td>SatisfactionScore</td>\n",
              "      <td>Satisfactory score of customer on service</td>\n",
              "    </tr>\n",
              "    <tr>\n",
              "      <th>12</th>\n",
              "      <td>E Comm</td>\n",
              "      <td>MaritalStatus</td>\n",
              "      <td>Marital status of customer</td>\n",
              "    </tr>\n",
              "    <tr>\n",
              "      <th>13</th>\n",
              "      <td>E Comm</td>\n",
              "      <td>NumberOfAddress</td>\n",
              "      <td>Total number of added added on particular cust...</td>\n",
              "    </tr>\n",
              "    <tr>\n",
              "      <th>14</th>\n",
              "      <td>E Comm</td>\n",
              "      <td>Complain</td>\n",
              "      <td>Any complaint has been raised in last month</td>\n",
              "    </tr>\n",
              "    <tr>\n",
              "      <th>15</th>\n",
              "      <td>E Comm</td>\n",
              "      <td>OrderAmountHikeFromlastYear</td>\n",
              "      <td>Percentage increases in order from last year</td>\n",
              "    </tr>\n",
              "    <tr>\n",
              "      <th>16</th>\n",
              "      <td>E Comm</td>\n",
              "      <td>CouponUsed</td>\n",
              "      <td>Total number of coupon has been used in last m...</td>\n",
              "    </tr>\n",
              "    <tr>\n",
              "      <th>17</th>\n",
              "      <td>E Comm</td>\n",
              "      <td>OrderCount</td>\n",
              "      <td>Total number of orders has been places in last...</td>\n",
              "    </tr>\n",
              "    <tr>\n",
              "      <th>18</th>\n",
              "      <td>E Comm</td>\n",
              "      <td>DaySinceLastOrder</td>\n",
              "      <td>Day Since last order by customer</td>\n",
              "    </tr>\n",
              "    <tr>\n",
              "      <th>19</th>\n",
              "      <td>E Comm</td>\n",
              "      <td>CashbackAmount</td>\n",
              "      <td>Average cashback in last month</td>\n",
              "    </tr>\n",
              "  </tbody>\n",
              "</table>\n",
              "</div>\n",
              "      <button class=\"colab-df-convert\" onclick=\"convertToInteractive('df-a28147ac-411f-4a79-82e1-aa08edcc6618')\"\n",
              "              title=\"Convert this dataframe to an interactive table.\"\n",
              "              style=\"display:none;\">\n",
              "\n",
              "  <svg xmlns=\"http://www.w3.org/2000/svg\" height=\"24px\"viewBox=\"0 0 24 24\"\n",
              "       width=\"24px\">\n",
              "    <path d=\"M0 0h24v24H0V0z\" fill=\"none\"/>\n",
              "    <path d=\"M18.56 5.44l.94 2.06.94-2.06 2.06-.94-2.06-.94-.94-2.06-.94 2.06-2.06.94zm-11 1L8.5 8.5l.94-2.06 2.06-.94-2.06-.94L8.5 2.5l-.94 2.06-2.06.94zm10 10l.94 2.06.94-2.06 2.06-.94-2.06-.94-.94-2.06-.94 2.06-2.06.94z\"/><path d=\"M17.41 7.96l-1.37-1.37c-.4-.4-.92-.59-1.43-.59-.52 0-1.04.2-1.43.59L10.3 9.45l-7.72 7.72c-.78.78-.78 2.05 0 2.83L4 21.41c.39.39.9.59 1.41.59.51 0 1.02-.2 1.41-.59l7.78-7.78 2.81-2.81c.8-.78.8-2.07 0-2.86zM5.41 20L4 18.59l7.72-7.72 1.47 1.35L5.41 20z\"/>\n",
              "  </svg>\n",
              "      </button>\n",
              "\n",
              "\n",
              "\n",
              "    <div id=\"df-f070bc90-4ab8-4ff0-a7dc-d81d680f1736\">\n",
              "      <button class=\"colab-df-quickchart\" onclick=\"quickchart('df-f070bc90-4ab8-4ff0-a7dc-d81d680f1736')\"\n",
              "              title=\"Suggest charts.\"\n",
              "              style=\"display:none;\">\n",
              "\n",
              "<svg xmlns=\"http://www.w3.org/2000/svg\" height=\"24px\"viewBox=\"0 0 24 24\"\n",
              "     width=\"24px\">\n",
              "    <g>\n",
              "        <path d=\"M19 3H5c-1.1 0-2 .9-2 2v14c0 1.1.9 2 2 2h14c1.1 0 2-.9 2-2V5c0-1.1-.9-2-2-2zM9 17H7v-7h2v7zm4 0h-2V7h2v10zm4 0h-2v-4h2v4z\"/>\n",
              "    </g>\n",
              "</svg>\n",
              "      </button>\n",
              "    </div>\n",
              "\n",
              "<style>\n",
              "  .colab-df-quickchart {\n",
              "    background-color: #E8F0FE;\n",
              "    border: none;\n",
              "    border-radius: 50%;\n",
              "    cursor: pointer;\n",
              "    display: none;\n",
              "    fill: #1967D2;\n",
              "    height: 32px;\n",
              "    padding: 0 0 0 0;\n",
              "    width: 32px;\n",
              "  }\n",
              "\n",
              "  .colab-df-quickchart:hover {\n",
              "    background-color: #E2EBFA;\n",
              "    box-shadow: 0px 1px 2px rgba(60, 64, 67, 0.3), 0px 1px 3px 1px rgba(60, 64, 67, 0.15);\n",
              "    fill: #174EA6;\n",
              "  }\n",
              "\n",
              "  [theme=dark] .colab-df-quickchart {\n",
              "    background-color: #3B4455;\n",
              "    fill: #D2E3FC;\n",
              "  }\n",
              "\n",
              "  [theme=dark] .colab-df-quickchart:hover {\n",
              "    background-color: #434B5C;\n",
              "    box-shadow: 0px 1px 3px 1px rgba(0, 0, 0, 0.15);\n",
              "    filter: drop-shadow(0px 1px 2px rgba(0, 0, 0, 0.3));\n",
              "    fill: #FFFFFF;\n",
              "  }\n",
              "</style>\n",
              "\n",
              "    <script>\n",
              "      async function quickchart(key) {\n",
              "        const containerElement = document.querySelector('#' + key);\n",
              "        const charts = await google.colab.kernel.invokeFunction(\n",
              "            'suggestCharts', [key], {});\n",
              "      }\n",
              "    </script>\n",
              "\n",
              "      <script>\n",
              "\n",
              "function displayQuickchartButton(domScope) {\n",
              "  let quickchartButtonEl =\n",
              "    domScope.querySelector('#df-f070bc90-4ab8-4ff0-a7dc-d81d680f1736 button.colab-df-quickchart');\n",
              "  quickchartButtonEl.style.display =\n",
              "    google.colab.kernel.accessAllowed ? 'block' : 'none';\n",
              "}\n",
              "\n",
              "        displayQuickchartButton(document);\n",
              "      </script>\n",
              "      <style>\n",
              "    .colab-df-container {\n",
              "      display:flex;\n",
              "      flex-wrap:wrap;\n",
              "      gap: 12px;\n",
              "    }\n",
              "\n",
              "    .colab-df-convert {\n",
              "      background-color: #E8F0FE;\n",
              "      border: none;\n",
              "      border-radius: 50%;\n",
              "      cursor: pointer;\n",
              "      display: none;\n",
              "      fill: #1967D2;\n",
              "      height: 32px;\n",
              "      padding: 0 0 0 0;\n",
              "      width: 32px;\n",
              "    }\n",
              "\n",
              "    .colab-df-convert:hover {\n",
              "      background-color: #E2EBFA;\n",
              "      box-shadow: 0px 1px 2px rgba(60, 64, 67, 0.3), 0px 1px 3px 1px rgba(60, 64, 67, 0.15);\n",
              "      fill: #174EA6;\n",
              "    }\n",
              "\n",
              "    [theme=dark] .colab-df-convert {\n",
              "      background-color: #3B4455;\n",
              "      fill: #D2E3FC;\n",
              "    }\n",
              "\n",
              "    [theme=dark] .colab-df-convert:hover {\n",
              "      background-color: #434B5C;\n",
              "      box-shadow: 0px 1px 3px 1px rgba(0, 0, 0, 0.15);\n",
              "      filter: drop-shadow(0px 1px 2px rgba(0, 0, 0, 0.3));\n",
              "      fill: #FFFFFF;\n",
              "    }\n",
              "  </style>\n",
              "\n",
              "      <script>\n",
              "        const buttonEl =\n",
              "          document.querySelector('#df-a28147ac-411f-4a79-82e1-aa08edcc6618 button.colab-df-convert');\n",
              "        buttonEl.style.display =\n",
              "          google.colab.kernel.accessAllowed ? 'block' : 'none';\n",
              "\n",
              "        async function convertToInteractive(key) {\n",
              "          const element = document.querySelector('#df-a28147ac-411f-4a79-82e1-aa08edcc6618');\n",
              "          const dataTable =\n",
              "            await google.colab.kernel.invokeFunction('convertToInteractive',\n",
              "                                                     [key], {});\n",
              "          if (!dataTable) return;\n",
              "\n",
              "          const docLinkHtml = 'Like what you see? Visit the ' +\n",
              "            '<a target=\"_blank\" href=https://colab.research.google.com/notebooks/data_table.ipynb>data table notebook</a>'\n",
              "            + ' to learn more about interactive tables.';\n",
              "          element.innerHTML = '';\n",
              "          dataTable['output_type'] = 'display_data';\n",
              "          await google.colab.output.renderOutput(dataTable, element);\n",
              "          const docLink = document.createElement('div');\n",
              "          docLink.innerHTML = docLinkHtml;\n",
              "          element.appendChild(docLink);\n",
              "        }\n",
              "      </script>\n",
              "    </div>\n",
              "  </div>\n"
            ]
          },
          "metadata": {},
          "execution_count": 3
        }
      ],
      "source": [
        "#read the data from the excel file\n",
        "description = pd.read_excel('/content/E Commerce Dataset.xlsx', sheet_name='Data Dict', header=1, usecols=[1,2,3])\n",
        "data = pd.read_excel('/content/E Commerce Dataset.xlsx', sheet_name='E Comm')\n",
        "description"
      ]
    },
    {
      "cell_type": "code",
      "execution_count": 4,
      "id": "dc1b90a7",
      "metadata": {
        "execution": {
          "iopub.execute_input": "2022-03-21T18:05:45.019856Z",
          "iopub.status.busy": "2022-03-21T18:05:45.019252Z",
          "iopub.status.idle": "2022-03-21T18:05:45.024015Z",
          "shell.execute_reply": "2022-03-21T18:05:45.023502Z",
          "shell.execute_reply.started": "2022-03-18T16:33:20.816715Z"
        },
        "papermill": {
          "duration": 0.099146,
          "end_time": "2022-03-21T18:05:45.024123",
          "exception": false,
          "start_time": "2022-03-21T18:05:44.924977",
          "status": "completed"
        },
        "tags": [],
        "id": "dc1b90a7",
        "outputId": "d2789fe7-f481-4621-8c03-61d9d5707908",
        "colab": {
          "base_uri": "https://localhost:8080/",
          "height": 305
        }
      },
      "outputs": [
        {
          "output_type": "execute_result",
          "data": {
            "text/plain": [
              "   CustomerID  Churn  Tenure PreferredLoginDevice  CityTier  WarehouseToHome  \\\n",
              "0       50001      1     4.0         Mobile Phone         3              6.0   \n",
              "1       50002      1     NaN                Phone         1              8.0   \n",
              "2       50003      1     NaN                Phone         1             30.0   \n",
              "3       50004      1     0.0                Phone         3             15.0   \n",
              "4       50005      1     0.0                Phone         1             12.0   \n",
              "\n",
              "  PreferredPaymentMode  Gender  HourSpendOnApp  NumberOfDeviceRegistered  \\\n",
              "0           Debit Card  Female             3.0                         3   \n",
              "1                  UPI    Male             3.0                         4   \n",
              "2           Debit Card    Male             2.0                         4   \n",
              "3           Debit Card    Male             2.0                         4   \n",
              "4                   CC    Male             NaN                         3   \n",
              "\n",
              "     PreferedOrderCat  SatisfactionScore MaritalStatus  NumberOfAddress  \\\n",
              "0  Laptop & Accessory                  2        Single                9   \n",
              "1              Mobile                  3        Single                7   \n",
              "2              Mobile                  3        Single                6   \n",
              "3  Laptop & Accessory                  5        Single                8   \n",
              "4              Mobile                  5        Single                3   \n",
              "\n",
              "   Complain  OrderAmountHikeFromlastYear  CouponUsed  OrderCount  \\\n",
              "0         1                         11.0         1.0         1.0   \n",
              "1         1                         15.0         0.0         1.0   \n",
              "2         1                         14.0         0.0         1.0   \n",
              "3         0                         23.0         0.0         1.0   \n",
              "4         0                         11.0         1.0         1.0   \n",
              "\n",
              "   DaySinceLastOrder  CashbackAmount  \n",
              "0                5.0          159.93  \n",
              "1                0.0          120.90  \n",
              "2                3.0          120.28  \n",
              "3                3.0          134.07  \n",
              "4                3.0          129.60  "
            ],
            "text/html": [
              "\n",
              "\n",
              "  <div id=\"df-d63b4608-a25d-4f63-ad23-5f5fd6e7e447\">\n",
              "    <div class=\"colab-df-container\">\n",
              "      <div>\n",
              "<style scoped>\n",
              "    .dataframe tbody tr th:only-of-type {\n",
              "        vertical-align: middle;\n",
              "    }\n",
              "\n",
              "    .dataframe tbody tr th {\n",
              "        vertical-align: top;\n",
              "    }\n",
              "\n",
              "    .dataframe thead th {\n",
              "        text-align: right;\n",
              "    }\n",
              "</style>\n",
              "<table border=\"1\" class=\"dataframe\">\n",
              "  <thead>\n",
              "    <tr style=\"text-align: right;\">\n",
              "      <th></th>\n",
              "      <th>CustomerID</th>\n",
              "      <th>Churn</th>\n",
              "      <th>Tenure</th>\n",
              "      <th>PreferredLoginDevice</th>\n",
              "      <th>CityTier</th>\n",
              "      <th>WarehouseToHome</th>\n",
              "      <th>PreferredPaymentMode</th>\n",
              "      <th>Gender</th>\n",
              "      <th>HourSpendOnApp</th>\n",
              "      <th>NumberOfDeviceRegistered</th>\n",
              "      <th>PreferedOrderCat</th>\n",
              "      <th>SatisfactionScore</th>\n",
              "      <th>MaritalStatus</th>\n",
              "      <th>NumberOfAddress</th>\n",
              "      <th>Complain</th>\n",
              "      <th>OrderAmountHikeFromlastYear</th>\n",
              "      <th>CouponUsed</th>\n",
              "      <th>OrderCount</th>\n",
              "      <th>DaySinceLastOrder</th>\n",
              "      <th>CashbackAmount</th>\n",
              "    </tr>\n",
              "  </thead>\n",
              "  <tbody>\n",
              "    <tr>\n",
              "      <th>0</th>\n",
              "      <td>50001</td>\n",
              "      <td>1</td>\n",
              "      <td>4.0</td>\n",
              "      <td>Mobile Phone</td>\n",
              "      <td>3</td>\n",
              "      <td>6.0</td>\n",
              "      <td>Debit Card</td>\n",
              "      <td>Female</td>\n",
              "      <td>3.0</td>\n",
              "      <td>3</td>\n",
              "      <td>Laptop &amp; Accessory</td>\n",
              "      <td>2</td>\n",
              "      <td>Single</td>\n",
              "      <td>9</td>\n",
              "      <td>1</td>\n",
              "      <td>11.0</td>\n",
              "      <td>1.0</td>\n",
              "      <td>1.0</td>\n",
              "      <td>5.0</td>\n",
              "      <td>159.93</td>\n",
              "    </tr>\n",
              "    <tr>\n",
              "      <th>1</th>\n",
              "      <td>50002</td>\n",
              "      <td>1</td>\n",
              "      <td>NaN</td>\n",
              "      <td>Phone</td>\n",
              "      <td>1</td>\n",
              "      <td>8.0</td>\n",
              "      <td>UPI</td>\n",
              "      <td>Male</td>\n",
              "      <td>3.0</td>\n",
              "      <td>4</td>\n",
              "      <td>Mobile</td>\n",
              "      <td>3</td>\n",
              "      <td>Single</td>\n",
              "      <td>7</td>\n",
              "      <td>1</td>\n",
              "      <td>15.0</td>\n",
              "      <td>0.0</td>\n",
              "      <td>1.0</td>\n",
              "      <td>0.0</td>\n",
              "      <td>120.90</td>\n",
              "    </tr>\n",
              "    <tr>\n",
              "      <th>2</th>\n",
              "      <td>50003</td>\n",
              "      <td>1</td>\n",
              "      <td>NaN</td>\n",
              "      <td>Phone</td>\n",
              "      <td>1</td>\n",
              "      <td>30.0</td>\n",
              "      <td>Debit Card</td>\n",
              "      <td>Male</td>\n",
              "      <td>2.0</td>\n",
              "      <td>4</td>\n",
              "      <td>Mobile</td>\n",
              "      <td>3</td>\n",
              "      <td>Single</td>\n",
              "      <td>6</td>\n",
              "      <td>1</td>\n",
              "      <td>14.0</td>\n",
              "      <td>0.0</td>\n",
              "      <td>1.0</td>\n",
              "      <td>3.0</td>\n",
              "      <td>120.28</td>\n",
              "    </tr>\n",
              "    <tr>\n",
              "      <th>3</th>\n",
              "      <td>50004</td>\n",
              "      <td>1</td>\n",
              "      <td>0.0</td>\n",
              "      <td>Phone</td>\n",
              "      <td>3</td>\n",
              "      <td>15.0</td>\n",
              "      <td>Debit Card</td>\n",
              "      <td>Male</td>\n",
              "      <td>2.0</td>\n",
              "      <td>4</td>\n",
              "      <td>Laptop &amp; Accessory</td>\n",
              "      <td>5</td>\n",
              "      <td>Single</td>\n",
              "      <td>8</td>\n",
              "      <td>0</td>\n",
              "      <td>23.0</td>\n",
              "      <td>0.0</td>\n",
              "      <td>1.0</td>\n",
              "      <td>3.0</td>\n",
              "      <td>134.07</td>\n",
              "    </tr>\n",
              "    <tr>\n",
              "      <th>4</th>\n",
              "      <td>50005</td>\n",
              "      <td>1</td>\n",
              "      <td>0.0</td>\n",
              "      <td>Phone</td>\n",
              "      <td>1</td>\n",
              "      <td>12.0</td>\n",
              "      <td>CC</td>\n",
              "      <td>Male</td>\n",
              "      <td>NaN</td>\n",
              "      <td>3</td>\n",
              "      <td>Mobile</td>\n",
              "      <td>5</td>\n",
              "      <td>Single</td>\n",
              "      <td>3</td>\n",
              "      <td>0</td>\n",
              "      <td>11.0</td>\n",
              "      <td>1.0</td>\n",
              "      <td>1.0</td>\n",
              "      <td>3.0</td>\n",
              "      <td>129.60</td>\n",
              "    </tr>\n",
              "  </tbody>\n",
              "</table>\n",
              "</div>\n",
              "      <button class=\"colab-df-convert\" onclick=\"convertToInteractive('df-d63b4608-a25d-4f63-ad23-5f5fd6e7e447')\"\n",
              "              title=\"Convert this dataframe to an interactive table.\"\n",
              "              style=\"display:none;\">\n",
              "\n",
              "  <svg xmlns=\"http://www.w3.org/2000/svg\" height=\"24px\"viewBox=\"0 0 24 24\"\n",
              "       width=\"24px\">\n",
              "    <path d=\"M0 0h24v24H0V0z\" fill=\"none\"/>\n",
              "    <path d=\"M18.56 5.44l.94 2.06.94-2.06 2.06-.94-2.06-.94-.94-2.06-.94 2.06-2.06.94zm-11 1L8.5 8.5l.94-2.06 2.06-.94-2.06-.94L8.5 2.5l-.94 2.06-2.06.94zm10 10l.94 2.06.94-2.06 2.06-.94-2.06-.94-.94-2.06-.94 2.06-2.06.94z\"/><path d=\"M17.41 7.96l-1.37-1.37c-.4-.4-.92-.59-1.43-.59-.52 0-1.04.2-1.43.59L10.3 9.45l-7.72 7.72c-.78.78-.78 2.05 0 2.83L4 21.41c.39.39.9.59 1.41.59.51 0 1.02-.2 1.41-.59l7.78-7.78 2.81-2.81c.8-.78.8-2.07 0-2.86zM5.41 20L4 18.59l7.72-7.72 1.47 1.35L5.41 20z\"/>\n",
              "  </svg>\n",
              "      </button>\n",
              "\n",
              "\n",
              "\n",
              "    <div id=\"df-c0445aca-6cbf-493b-9a8a-c7d915558478\">\n",
              "      <button class=\"colab-df-quickchart\" onclick=\"quickchart('df-c0445aca-6cbf-493b-9a8a-c7d915558478')\"\n",
              "              title=\"Suggest charts.\"\n",
              "              style=\"display:none;\">\n",
              "\n",
              "<svg xmlns=\"http://www.w3.org/2000/svg\" height=\"24px\"viewBox=\"0 0 24 24\"\n",
              "     width=\"24px\">\n",
              "    <g>\n",
              "        <path d=\"M19 3H5c-1.1 0-2 .9-2 2v14c0 1.1.9 2 2 2h14c1.1 0 2-.9 2-2V5c0-1.1-.9-2-2-2zM9 17H7v-7h2v7zm4 0h-2V7h2v10zm4 0h-2v-4h2v4z\"/>\n",
              "    </g>\n",
              "</svg>\n",
              "      </button>\n",
              "    </div>\n",
              "\n",
              "<style>\n",
              "  .colab-df-quickchart {\n",
              "    background-color: #E8F0FE;\n",
              "    border: none;\n",
              "    border-radius: 50%;\n",
              "    cursor: pointer;\n",
              "    display: none;\n",
              "    fill: #1967D2;\n",
              "    height: 32px;\n",
              "    padding: 0 0 0 0;\n",
              "    width: 32px;\n",
              "  }\n",
              "\n",
              "  .colab-df-quickchart:hover {\n",
              "    background-color: #E2EBFA;\n",
              "    box-shadow: 0px 1px 2px rgba(60, 64, 67, 0.3), 0px 1px 3px 1px rgba(60, 64, 67, 0.15);\n",
              "    fill: #174EA6;\n",
              "  }\n",
              "\n",
              "  [theme=dark] .colab-df-quickchart {\n",
              "    background-color: #3B4455;\n",
              "    fill: #D2E3FC;\n",
              "  }\n",
              "\n",
              "  [theme=dark] .colab-df-quickchart:hover {\n",
              "    background-color: #434B5C;\n",
              "    box-shadow: 0px 1px 3px 1px rgba(0, 0, 0, 0.15);\n",
              "    filter: drop-shadow(0px 1px 2px rgba(0, 0, 0, 0.3));\n",
              "    fill: #FFFFFF;\n",
              "  }\n",
              "</style>\n",
              "\n",
              "    <script>\n",
              "      async function quickchart(key) {\n",
              "        const containerElement = document.querySelector('#' + key);\n",
              "        const charts = await google.colab.kernel.invokeFunction(\n",
              "            'suggestCharts', [key], {});\n",
              "      }\n",
              "    </script>\n",
              "\n",
              "      <script>\n",
              "\n",
              "function displayQuickchartButton(domScope) {\n",
              "  let quickchartButtonEl =\n",
              "    domScope.querySelector('#df-c0445aca-6cbf-493b-9a8a-c7d915558478 button.colab-df-quickchart');\n",
              "  quickchartButtonEl.style.display =\n",
              "    google.colab.kernel.accessAllowed ? 'block' : 'none';\n",
              "}\n",
              "\n",
              "        displayQuickchartButton(document);\n",
              "      </script>\n",
              "      <style>\n",
              "    .colab-df-container {\n",
              "      display:flex;\n",
              "      flex-wrap:wrap;\n",
              "      gap: 12px;\n",
              "    }\n",
              "\n",
              "    .colab-df-convert {\n",
              "      background-color: #E8F0FE;\n",
              "      border: none;\n",
              "      border-radius: 50%;\n",
              "      cursor: pointer;\n",
              "      display: none;\n",
              "      fill: #1967D2;\n",
              "      height: 32px;\n",
              "      padding: 0 0 0 0;\n",
              "      width: 32px;\n",
              "    }\n",
              "\n",
              "    .colab-df-convert:hover {\n",
              "      background-color: #E2EBFA;\n",
              "      box-shadow: 0px 1px 2px rgba(60, 64, 67, 0.3), 0px 1px 3px 1px rgba(60, 64, 67, 0.15);\n",
              "      fill: #174EA6;\n",
              "    }\n",
              "\n",
              "    [theme=dark] .colab-df-convert {\n",
              "      background-color: #3B4455;\n",
              "      fill: #D2E3FC;\n",
              "    }\n",
              "\n",
              "    [theme=dark] .colab-df-convert:hover {\n",
              "      background-color: #434B5C;\n",
              "      box-shadow: 0px 1px 3px 1px rgba(0, 0, 0, 0.15);\n",
              "      filter: drop-shadow(0px 1px 2px rgba(0, 0, 0, 0.3));\n",
              "      fill: #FFFFFF;\n",
              "    }\n",
              "  </style>\n",
              "\n",
              "      <script>\n",
              "        const buttonEl =\n",
              "          document.querySelector('#df-d63b4608-a25d-4f63-ad23-5f5fd6e7e447 button.colab-df-convert');\n",
              "        buttonEl.style.display =\n",
              "          google.colab.kernel.accessAllowed ? 'block' : 'none';\n",
              "\n",
              "        async function convertToInteractive(key) {\n",
              "          const element = document.querySelector('#df-d63b4608-a25d-4f63-ad23-5f5fd6e7e447');\n",
              "          const dataTable =\n",
              "            await google.colab.kernel.invokeFunction('convertToInteractive',\n",
              "                                                     [key], {});\n",
              "          if (!dataTable) return;\n",
              "\n",
              "          const docLinkHtml = 'Like what you see? Visit the ' +\n",
              "            '<a target=\"_blank\" href=https://colab.research.google.com/notebooks/data_table.ipynb>data table notebook</a>'\n",
              "            + ' to learn more about interactive tables.';\n",
              "          element.innerHTML = '';\n",
              "          dataTable['output_type'] = 'display_data';\n",
              "          await google.colab.output.renderOutput(dataTable, element);\n",
              "          const docLink = document.createElement('div');\n",
              "          docLink.innerHTML = docLinkHtml;\n",
              "          element.appendChild(docLink);\n",
              "        }\n",
              "      </script>\n",
              "    </div>\n",
              "  </div>\n"
            ]
          },
          "metadata": {},
          "execution_count": 4
        }
      ],
      "source": [
        "#preview the data\n",
        "data.head()"
      ]
    },
    {
      "cell_type": "code",
      "execution_count": 5,
      "id": "206d37f5",
      "metadata": {
        "execution": {
          "iopub.execute_input": "2022-03-21T18:05:45.168252Z",
          "iopub.status.busy": "2022-03-21T18:05:45.167806Z",
          "iopub.status.idle": "2022-03-21T18:05:45.172177Z",
          "shell.execute_reply": "2022-03-21T18:05:45.171618Z",
          "shell.execute_reply.started": "2022-03-18T16:33:20.845758Z"
        },
        "papermill": {
          "duration": 0.078107,
          "end_time": "2022-03-21T18:05:45.172302",
          "exception": false,
          "start_time": "2022-03-21T18:05:45.094195",
          "status": "completed"
        },
        "tags": [],
        "id": "206d37f5",
        "outputId": "a33a1721-b98e-484e-93ef-246d72ac6439",
        "colab": {
          "base_uri": "https://localhost:8080/"
        }
      },
      "outputs": [
        {
          "output_type": "stream",
          "name": "stdout",
          "text": [
            "(5630, 20)\n"
          ]
        }
      ],
      "source": [
        "#check the shape of the dataset\n",
        "print(data.shape)"
      ]
    },
    {
      "cell_type": "code",
      "execution_count": 6,
      "id": "3c85e4e6",
      "metadata": {
        "execution": {
          "iopub.execute_input": "2022-03-21T18:05:45.317418Z",
          "iopub.status.busy": "2022-03-21T18:05:45.316991Z",
          "iopub.status.idle": "2022-03-21T18:05:45.344308Z",
          "shell.execute_reply": "2022-03-21T18:05:45.343770Z",
          "shell.execute_reply.started": "2022-03-18T16:33:20.859406Z"
        },
        "papermill": {
          "duration": 0.102002,
          "end_time": "2022-03-21T18:05:45.344446",
          "exception": false,
          "start_time": "2022-03-21T18:05:45.242444",
          "status": "completed"
        },
        "tags": [],
        "id": "3c85e4e6",
        "outputId": "d940dbf7-9638-4083-95e6-1e493f0f998b",
        "colab": {
          "base_uri": "https://localhost:8080/"
        }
      },
      "outputs": [
        {
          "output_type": "stream",
          "name": "stdout",
          "text": [
            "<class 'pandas.core.frame.DataFrame'>\n",
            "RangeIndex: 5630 entries, 0 to 5629\n",
            "Data columns (total 20 columns):\n",
            " #   Column                       Non-Null Count  Dtype  \n",
            "---  ------                       --------------  -----  \n",
            " 0   CustomerID                   5630 non-null   int64  \n",
            " 1   Churn                        5630 non-null   int64  \n",
            " 2   Tenure                       5366 non-null   float64\n",
            " 3   PreferredLoginDevice         5630 non-null   object \n",
            " 4   CityTier                     5630 non-null   int64  \n",
            " 5   WarehouseToHome              5379 non-null   float64\n",
            " 6   PreferredPaymentMode         5630 non-null   object \n",
            " 7   Gender                       5630 non-null   object \n",
            " 8   HourSpendOnApp               5375 non-null   float64\n",
            " 9   NumberOfDeviceRegistered     5630 non-null   int64  \n",
            " 10  PreferedOrderCat             5630 non-null   object \n",
            " 11  SatisfactionScore            5630 non-null   int64  \n",
            " 12  MaritalStatus                5630 non-null   object \n",
            " 13  NumberOfAddress              5630 non-null   int64  \n",
            " 14  Complain                     5630 non-null   int64  \n",
            " 15  OrderAmountHikeFromlastYear  5365 non-null   float64\n",
            " 16  CouponUsed                   5374 non-null   float64\n",
            " 17  OrderCount                   5372 non-null   float64\n",
            " 18  DaySinceLastOrder            5323 non-null   float64\n",
            " 19  CashbackAmount               5630 non-null   float64\n",
            "dtypes: float64(8), int64(7), object(5)\n",
            "memory usage: 879.8+ KB\n"
          ]
        }
      ],
      "source": [
        "#brief information of the dataset\n",
        "data.info()"
      ]
    },
    {
      "cell_type": "code",
      "execution_count": 7,
      "id": "173ed852",
      "metadata": {
        "execution": {
          "iopub.execute_input": "2022-03-21T18:05:45.772828Z",
          "iopub.status.busy": "2022-03-21T18:05:45.772216Z",
          "iopub.status.idle": "2022-03-21T18:05:45.840122Z",
          "shell.execute_reply": "2022-03-21T18:05:45.839566Z",
          "shell.execute_reply.started": "2022-03-18T16:33:20.894514Z"
        },
        "papermill": {
          "duration": 0.178055,
          "end_time": "2022-03-21T18:05:45.840248",
          "exception": false,
          "start_time": "2022-03-21T18:05:45.662193",
          "status": "completed"
        },
        "tags": [],
        "id": "173ed852",
        "outputId": "5fc5f8d6-69ce-455c-d474-6059261775e2",
        "colab": {
          "base_uri": "https://localhost:8080/",
          "height": 476
        }
      },
      "outputs": [
        {
          "output_type": "execute_result",
          "data": {
            "text/plain": [
              "          CustomerID        Churn       Tenure PreferredLoginDevice  \\\n",
              "count    5630.000000  5630.000000  5366.000000                 5630   \n",
              "unique           NaN          NaN          NaN                    3   \n",
              "top              NaN          NaN          NaN         Mobile Phone   \n",
              "freq             NaN          NaN          NaN                 2765   \n",
              "mean    52815.500000     0.168384    10.189899                  NaN   \n",
              "std      1625.385339     0.374240     8.557241                  NaN   \n",
              "min     50001.000000     0.000000     0.000000                  NaN   \n",
              "25%     51408.250000     0.000000     2.000000                  NaN   \n",
              "50%     52815.500000     0.000000     9.000000                  NaN   \n",
              "75%     54222.750000     0.000000    16.000000                  NaN   \n",
              "max     55630.000000     1.000000    61.000000                  NaN   \n",
              "\n",
              "           CityTier  WarehouseToHome PreferredPaymentMode Gender  \\\n",
              "count   5630.000000      5379.000000                 5630   5630   \n",
              "unique          NaN              NaN                    7      2   \n",
              "top             NaN              NaN           Debit Card   Male   \n",
              "freq            NaN              NaN                 2314   3384   \n",
              "mean       1.654707        15.639896                  NaN    NaN   \n",
              "std        0.915389         8.531475                  NaN    NaN   \n",
              "min        1.000000         5.000000                  NaN    NaN   \n",
              "25%        1.000000         9.000000                  NaN    NaN   \n",
              "50%        1.000000        14.000000                  NaN    NaN   \n",
              "75%        3.000000        20.000000                  NaN    NaN   \n",
              "max        3.000000       127.000000                  NaN    NaN   \n",
              "\n",
              "        HourSpendOnApp  NumberOfDeviceRegistered    PreferedOrderCat  \\\n",
              "count      5375.000000               5630.000000                5630   \n",
              "unique             NaN                       NaN                   6   \n",
              "top                NaN                       NaN  Laptop & Accessory   \n",
              "freq               NaN                       NaN                2050   \n",
              "mean          2.931535                  3.688988                 NaN   \n",
              "std           0.721926                  1.023999                 NaN   \n",
              "min           0.000000                  1.000000                 NaN   \n",
              "25%           2.000000                  3.000000                 NaN   \n",
              "50%           3.000000                  4.000000                 NaN   \n",
              "75%           3.000000                  4.000000                 NaN   \n",
              "max           5.000000                  6.000000                 NaN   \n",
              "\n",
              "        SatisfactionScore MaritalStatus  NumberOfAddress     Complain  \\\n",
              "count         5630.000000          5630      5630.000000  5630.000000   \n",
              "unique                NaN             3              NaN          NaN   \n",
              "top                   NaN       Married              NaN          NaN   \n",
              "freq                  NaN          2986              NaN          NaN   \n",
              "mean             3.066785           NaN         4.214032     0.284902   \n",
              "std              1.380194           NaN         2.583586     0.451408   \n",
              "min              1.000000           NaN         1.000000     0.000000   \n",
              "25%              2.000000           NaN         2.000000     0.000000   \n",
              "50%              3.000000           NaN         3.000000     0.000000   \n",
              "75%              4.000000           NaN         6.000000     1.000000   \n",
              "max              5.000000           NaN        22.000000     1.000000   \n",
              "\n",
              "        OrderAmountHikeFromlastYear   CouponUsed   OrderCount  \\\n",
              "count                   5365.000000  5374.000000  5372.000000   \n",
              "unique                          NaN          NaN          NaN   \n",
              "top                             NaN          NaN          NaN   \n",
              "freq                            NaN          NaN          NaN   \n",
              "mean                      15.707922     1.751023     3.008004   \n",
              "std                        3.675485     1.894621     2.939680   \n",
              "min                       11.000000     0.000000     1.000000   \n",
              "25%                       13.000000     1.000000     1.000000   \n",
              "50%                       15.000000     1.000000     2.000000   \n",
              "75%                       18.000000     2.000000     3.000000   \n",
              "max                       26.000000    16.000000    16.000000   \n",
              "\n",
              "        DaySinceLastOrder  CashbackAmount  \n",
              "count         5323.000000     5630.000000  \n",
              "unique                NaN             NaN  \n",
              "top                   NaN             NaN  \n",
              "freq                  NaN             NaN  \n",
              "mean             4.543491      177.223030  \n",
              "std              3.654433       49.207036  \n",
              "min              0.000000        0.000000  \n",
              "25%              2.000000      145.770000  \n",
              "50%              3.000000      163.280000  \n",
              "75%              7.000000      196.392500  \n",
              "max             46.000000      324.990000  "
            ],
            "text/html": [
              "\n",
              "\n",
              "  <div id=\"df-ff5134c0-130d-4dcc-bf5b-0fe38a619eee\">\n",
              "    <div class=\"colab-df-container\">\n",
              "      <div>\n",
              "<style scoped>\n",
              "    .dataframe tbody tr th:only-of-type {\n",
              "        vertical-align: middle;\n",
              "    }\n",
              "\n",
              "    .dataframe tbody tr th {\n",
              "        vertical-align: top;\n",
              "    }\n",
              "\n",
              "    .dataframe thead th {\n",
              "        text-align: right;\n",
              "    }\n",
              "</style>\n",
              "<table border=\"1\" class=\"dataframe\">\n",
              "  <thead>\n",
              "    <tr style=\"text-align: right;\">\n",
              "      <th></th>\n",
              "      <th>CustomerID</th>\n",
              "      <th>Churn</th>\n",
              "      <th>Tenure</th>\n",
              "      <th>PreferredLoginDevice</th>\n",
              "      <th>CityTier</th>\n",
              "      <th>WarehouseToHome</th>\n",
              "      <th>PreferredPaymentMode</th>\n",
              "      <th>Gender</th>\n",
              "      <th>HourSpendOnApp</th>\n",
              "      <th>NumberOfDeviceRegistered</th>\n",
              "      <th>PreferedOrderCat</th>\n",
              "      <th>SatisfactionScore</th>\n",
              "      <th>MaritalStatus</th>\n",
              "      <th>NumberOfAddress</th>\n",
              "      <th>Complain</th>\n",
              "      <th>OrderAmountHikeFromlastYear</th>\n",
              "      <th>CouponUsed</th>\n",
              "      <th>OrderCount</th>\n",
              "      <th>DaySinceLastOrder</th>\n",
              "      <th>CashbackAmount</th>\n",
              "    </tr>\n",
              "  </thead>\n",
              "  <tbody>\n",
              "    <tr>\n",
              "      <th>count</th>\n",
              "      <td>5630.000000</td>\n",
              "      <td>5630.000000</td>\n",
              "      <td>5366.000000</td>\n",
              "      <td>5630</td>\n",
              "      <td>5630.000000</td>\n",
              "      <td>5379.000000</td>\n",
              "      <td>5630</td>\n",
              "      <td>5630</td>\n",
              "      <td>5375.000000</td>\n",
              "      <td>5630.000000</td>\n",
              "      <td>5630</td>\n",
              "      <td>5630.000000</td>\n",
              "      <td>5630</td>\n",
              "      <td>5630.000000</td>\n",
              "      <td>5630.000000</td>\n",
              "      <td>5365.000000</td>\n",
              "      <td>5374.000000</td>\n",
              "      <td>5372.000000</td>\n",
              "      <td>5323.000000</td>\n",
              "      <td>5630.000000</td>\n",
              "    </tr>\n",
              "    <tr>\n",
              "      <th>unique</th>\n",
              "      <td>NaN</td>\n",
              "      <td>NaN</td>\n",
              "      <td>NaN</td>\n",
              "      <td>3</td>\n",
              "      <td>NaN</td>\n",
              "      <td>NaN</td>\n",
              "      <td>7</td>\n",
              "      <td>2</td>\n",
              "      <td>NaN</td>\n",
              "      <td>NaN</td>\n",
              "      <td>6</td>\n",
              "      <td>NaN</td>\n",
              "      <td>3</td>\n",
              "      <td>NaN</td>\n",
              "      <td>NaN</td>\n",
              "      <td>NaN</td>\n",
              "      <td>NaN</td>\n",
              "      <td>NaN</td>\n",
              "      <td>NaN</td>\n",
              "      <td>NaN</td>\n",
              "    </tr>\n",
              "    <tr>\n",
              "      <th>top</th>\n",
              "      <td>NaN</td>\n",
              "      <td>NaN</td>\n",
              "      <td>NaN</td>\n",
              "      <td>Mobile Phone</td>\n",
              "      <td>NaN</td>\n",
              "      <td>NaN</td>\n",
              "      <td>Debit Card</td>\n",
              "      <td>Male</td>\n",
              "      <td>NaN</td>\n",
              "      <td>NaN</td>\n",
              "      <td>Laptop &amp; Accessory</td>\n",
              "      <td>NaN</td>\n",
              "      <td>Married</td>\n",
              "      <td>NaN</td>\n",
              "      <td>NaN</td>\n",
              "      <td>NaN</td>\n",
              "      <td>NaN</td>\n",
              "      <td>NaN</td>\n",
              "      <td>NaN</td>\n",
              "      <td>NaN</td>\n",
              "    </tr>\n",
              "    <tr>\n",
              "      <th>freq</th>\n",
              "      <td>NaN</td>\n",
              "      <td>NaN</td>\n",
              "      <td>NaN</td>\n",
              "      <td>2765</td>\n",
              "      <td>NaN</td>\n",
              "      <td>NaN</td>\n",
              "      <td>2314</td>\n",
              "      <td>3384</td>\n",
              "      <td>NaN</td>\n",
              "      <td>NaN</td>\n",
              "      <td>2050</td>\n",
              "      <td>NaN</td>\n",
              "      <td>2986</td>\n",
              "      <td>NaN</td>\n",
              "      <td>NaN</td>\n",
              "      <td>NaN</td>\n",
              "      <td>NaN</td>\n",
              "      <td>NaN</td>\n",
              "      <td>NaN</td>\n",
              "      <td>NaN</td>\n",
              "    </tr>\n",
              "    <tr>\n",
              "      <th>mean</th>\n",
              "      <td>52815.500000</td>\n",
              "      <td>0.168384</td>\n",
              "      <td>10.189899</td>\n",
              "      <td>NaN</td>\n",
              "      <td>1.654707</td>\n",
              "      <td>15.639896</td>\n",
              "      <td>NaN</td>\n",
              "      <td>NaN</td>\n",
              "      <td>2.931535</td>\n",
              "      <td>3.688988</td>\n",
              "      <td>NaN</td>\n",
              "      <td>3.066785</td>\n",
              "      <td>NaN</td>\n",
              "      <td>4.214032</td>\n",
              "      <td>0.284902</td>\n",
              "      <td>15.707922</td>\n",
              "      <td>1.751023</td>\n",
              "      <td>3.008004</td>\n",
              "      <td>4.543491</td>\n",
              "      <td>177.223030</td>\n",
              "    </tr>\n",
              "    <tr>\n",
              "      <th>std</th>\n",
              "      <td>1625.385339</td>\n",
              "      <td>0.374240</td>\n",
              "      <td>8.557241</td>\n",
              "      <td>NaN</td>\n",
              "      <td>0.915389</td>\n",
              "      <td>8.531475</td>\n",
              "      <td>NaN</td>\n",
              "      <td>NaN</td>\n",
              "      <td>0.721926</td>\n",
              "      <td>1.023999</td>\n",
              "      <td>NaN</td>\n",
              "      <td>1.380194</td>\n",
              "      <td>NaN</td>\n",
              "      <td>2.583586</td>\n",
              "      <td>0.451408</td>\n",
              "      <td>3.675485</td>\n",
              "      <td>1.894621</td>\n",
              "      <td>2.939680</td>\n",
              "      <td>3.654433</td>\n",
              "      <td>49.207036</td>\n",
              "    </tr>\n",
              "    <tr>\n",
              "      <th>min</th>\n",
              "      <td>50001.000000</td>\n",
              "      <td>0.000000</td>\n",
              "      <td>0.000000</td>\n",
              "      <td>NaN</td>\n",
              "      <td>1.000000</td>\n",
              "      <td>5.000000</td>\n",
              "      <td>NaN</td>\n",
              "      <td>NaN</td>\n",
              "      <td>0.000000</td>\n",
              "      <td>1.000000</td>\n",
              "      <td>NaN</td>\n",
              "      <td>1.000000</td>\n",
              "      <td>NaN</td>\n",
              "      <td>1.000000</td>\n",
              "      <td>0.000000</td>\n",
              "      <td>11.000000</td>\n",
              "      <td>0.000000</td>\n",
              "      <td>1.000000</td>\n",
              "      <td>0.000000</td>\n",
              "      <td>0.000000</td>\n",
              "    </tr>\n",
              "    <tr>\n",
              "      <th>25%</th>\n",
              "      <td>51408.250000</td>\n",
              "      <td>0.000000</td>\n",
              "      <td>2.000000</td>\n",
              "      <td>NaN</td>\n",
              "      <td>1.000000</td>\n",
              "      <td>9.000000</td>\n",
              "      <td>NaN</td>\n",
              "      <td>NaN</td>\n",
              "      <td>2.000000</td>\n",
              "      <td>3.000000</td>\n",
              "      <td>NaN</td>\n",
              "      <td>2.000000</td>\n",
              "      <td>NaN</td>\n",
              "      <td>2.000000</td>\n",
              "      <td>0.000000</td>\n",
              "      <td>13.000000</td>\n",
              "      <td>1.000000</td>\n",
              "      <td>1.000000</td>\n",
              "      <td>2.000000</td>\n",
              "      <td>145.770000</td>\n",
              "    </tr>\n",
              "    <tr>\n",
              "      <th>50%</th>\n",
              "      <td>52815.500000</td>\n",
              "      <td>0.000000</td>\n",
              "      <td>9.000000</td>\n",
              "      <td>NaN</td>\n",
              "      <td>1.000000</td>\n",
              "      <td>14.000000</td>\n",
              "      <td>NaN</td>\n",
              "      <td>NaN</td>\n",
              "      <td>3.000000</td>\n",
              "      <td>4.000000</td>\n",
              "      <td>NaN</td>\n",
              "      <td>3.000000</td>\n",
              "      <td>NaN</td>\n",
              "      <td>3.000000</td>\n",
              "      <td>0.000000</td>\n",
              "      <td>15.000000</td>\n",
              "      <td>1.000000</td>\n",
              "      <td>2.000000</td>\n",
              "      <td>3.000000</td>\n",
              "      <td>163.280000</td>\n",
              "    </tr>\n",
              "    <tr>\n",
              "      <th>75%</th>\n",
              "      <td>54222.750000</td>\n",
              "      <td>0.000000</td>\n",
              "      <td>16.000000</td>\n",
              "      <td>NaN</td>\n",
              "      <td>3.000000</td>\n",
              "      <td>20.000000</td>\n",
              "      <td>NaN</td>\n",
              "      <td>NaN</td>\n",
              "      <td>3.000000</td>\n",
              "      <td>4.000000</td>\n",
              "      <td>NaN</td>\n",
              "      <td>4.000000</td>\n",
              "      <td>NaN</td>\n",
              "      <td>6.000000</td>\n",
              "      <td>1.000000</td>\n",
              "      <td>18.000000</td>\n",
              "      <td>2.000000</td>\n",
              "      <td>3.000000</td>\n",
              "      <td>7.000000</td>\n",
              "      <td>196.392500</td>\n",
              "    </tr>\n",
              "    <tr>\n",
              "      <th>max</th>\n",
              "      <td>55630.000000</td>\n",
              "      <td>1.000000</td>\n",
              "      <td>61.000000</td>\n",
              "      <td>NaN</td>\n",
              "      <td>3.000000</td>\n",
              "      <td>127.000000</td>\n",
              "      <td>NaN</td>\n",
              "      <td>NaN</td>\n",
              "      <td>5.000000</td>\n",
              "      <td>6.000000</td>\n",
              "      <td>NaN</td>\n",
              "      <td>5.000000</td>\n",
              "      <td>NaN</td>\n",
              "      <td>22.000000</td>\n",
              "      <td>1.000000</td>\n",
              "      <td>26.000000</td>\n",
              "      <td>16.000000</td>\n",
              "      <td>16.000000</td>\n",
              "      <td>46.000000</td>\n",
              "      <td>324.990000</td>\n",
              "    </tr>\n",
              "  </tbody>\n",
              "</table>\n",
              "</div>\n",
              "      <button class=\"colab-df-convert\" onclick=\"convertToInteractive('df-ff5134c0-130d-4dcc-bf5b-0fe38a619eee')\"\n",
              "              title=\"Convert this dataframe to an interactive table.\"\n",
              "              style=\"display:none;\">\n",
              "\n",
              "  <svg xmlns=\"http://www.w3.org/2000/svg\" height=\"24px\"viewBox=\"0 0 24 24\"\n",
              "       width=\"24px\">\n",
              "    <path d=\"M0 0h24v24H0V0z\" fill=\"none\"/>\n",
              "    <path d=\"M18.56 5.44l.94 2.06.94-2.06 2.06-.94-2.06-.94-.94-2.06-.94 2.06-2.06.94zm-11 1L8.5 8.5l.94-2.06 2.06-.94-2.06-.94L8.5 2.5l-.94 2.06-2.06.94zm10 10l.94 2.06.94-2.06 2.06-.94-2.06-.94-.94-2.06-.94 2.06-2.06.94z\"/><path d=\"M17.41 7.96l-1.37-1.37c-.4-.4-.92-.59-1.43-.59-.52 0-1.04.2-1.43.59L10.3 9.45l-7.72 7.72c-.78.78-.78 2.05 0 2.83L4 21.41c.39.39.9.59 1.41.59.51 0 1.02-.2 1.41-.59l7.78-7.78 2.81-2.81c.8-.78.8-2.07 0-2.86zM5.41 20L4 18.59l7.72-7.72 1.47 1.35L5.41 20z\"/>\n",
              "  </svg>\n",
              "      </button>\n",
              "\n",
              "\n",
              "\n",
              "    <div id=\"df-d252d240-6d66-4980-93ad-77ca9eb2ec55\">\n",
              "      <button class=\"colab-df-quickchart\" onclick=\"quickchart('df-d252d240-6d66-4980-93ad-77ca9eb2ec55')\"\n",
              "              title=\"Suggest charts.\"\n",
              "              style=\"display:none;\">\n",
              "\n",
              "<svg xmlns=\"http://www.w3.org/2000/svg\" height=\"24px\"viewBox=\"0 0 24 24\"\n",
              "     width=\"24px\">\n",
              "    <g>\n",
              "        <path d=\"M19 3H5c-1.1 0-2 .9-2 2v14c0 1.1.9 2 2 2h14c1.1 0 2-.9 2-2V5c0-1.1-.9-2-2-2zM9 17H7v-7h2v7zm4 0h-2V7h2v10zm4 0h-2v-4h2v4z\"/>\n",
              "    </g>\n",
              "</svg>\n",
              "      </button>\n",
              "    </div>\n",
              "\n",
              "<style>\n",
              "  .colab-df-quickchart {\n",
              "    background-color: #E8F0FE;\n",
              "    border: none;\n",
              "    border-radius: 50%;\n",
              "    cursor: pointer;\n",
              "    display: none;\n",
              "    fill: #1967D2;\n",
              "    height: 32px;\n",
              "    padding: 0 0 0 0;\n",
              "    width: 32px;\n",
              "  }\n",
              "\n",
              "  .colab-df-quickchart:hover {\n",
              "    background-color: #E2EBFA;\n",
              "    box-shadow: 0px 1px 2px rgba(60, 64, 67, 0.3), 0px 1px 3px 1px rgba(60, 64, 67, 0.15);\n",
              "    fill: #174EA6;\n",
              "  }\n",
              "\n",
              "  [theme=dark] .colab-df-quickchart {\n",
              "    background-color: #3B4455;\n",
              "    fill: #D2E3FC;\n",
              "  }\n",
              "\n",
              "  [theme=dark] .colab-df-quickchart:hover {\n",
              "    background-color: #434B5C;\n",
              "    box-shadow: 0px 1px 3px 1px rgba(0, 0, 0, 0.15);\n",
              "    filter: drop-shadow(0px 1px 2px rgba(0, 0, 0, 0.3));\n",
              "    fill: #FFFFFF;\n",
              "  }\n",
              "</style>\n",
              "\n",
              "    <script>\n",
              "      async function quickchart(key) {\n",
              "        const containerElement = document.querySelector('#' + key);\n",
              "        const charts = await google.colab.kernel.invokeFunction(\n",
              "            'suggestCharts', [key], {});\n",
              "      }\n",
              "    </script>\n",
              "\n",
              "      <script>\n",
              "\n",
              "function displayQuickchartButton(domScope) {\n",
              "  let quickchartButtonEl =\n",
              "    domScope.querySelector('#df-d252d240-6d66-4980-93ad-77ca9eb2ec55 button.colab-df-quickchart');\n",
              "  quickchartButtonEl.style.display =\n",
              "    google.colab.kernel.accessAllowed ? 'block' : 'none';\n",
              "}\n",
              "\n",
              "        displayQuickchartButton(document);\n",
              "      </script>\n",
              "      <style>\n",
              "    .colab-df-container {\n",
              "      display:flex;\n",
              "      flex-wrap:wrap;\n",
              "      gap: 12px;\n",
              "    }\n",
              "\n",
              "    .colab-df-convert {\n",
              "      background-color: #E8F0FE;\n",
              "      border: none;\n",
              "      border-radius: 50%;\n",
              "      cursor: pointer;\n",
              "      display: none;\n",
              "      fill: #1967D2;\n",
              "      height: 32px;\n",
              "      padding: 0 0 0 0;\n",
              "      width: 32px;\n",
              "    }\n",
              "\n",
              "    .colab-df-convert:hover {\n",
              "      background-color: #E2EBFA;\n",
              "      box-shadow: 0px 1px 2px rgba(60, 64, 67, 0.3), 0px 1px 3px 1px rgba(60, 64, 67, 0.15);\n",
              "      fill: #174EA6;\n",
              "    }\n",
              "\n",
              "    [theme=dark] .colab-df-convert {\n",
              "      background-color: #3B4455;\n",
              "      fill: #D2E3FC;\n",
              "    }\n",
              "\n",
              "    [theme=dark] .colab-df-convert:hover {\n",
              "      background-color: #434B5C;\n",
              "      box-shadow: 0px 1px 3px 1px rgba(0, 0, 0, 0.15);\n",
              "      filter: drop-shadow(0px 1px 2px rgba(0, 0, 0, 0.3));\n",
              "      fill: #FFFFFF;\n",
              "    }\n",
              "  </style>\n",
              "\n",
              "      <script>\n",
              "        const buttonEl =\n",
              "          document.querySelector('#df-ff5134c0-130d-4dcc-bf5b-0fe38a619eee button.colab-df-convert');\n",
              "        buttonEl.style.display =\n",
              "          google.colab.kernel.accessAllowed ? 'block' : 'none';\n",
              "\n",
              "        async function convertToInteractive(key) {\n",
              "          const element = document.querySelector('#df-ff5134c0-130d-4dcc-bf5b-0fe38a619eee');\n",
              "          const dataTable =\n",
              "            await google.colab.kernel.invokeFunction('convertToInteractive',\n",
              "                                                     [key], {});\n",
              "          if (!dataTable) return;\n",
              "\n",
              "          const docLinkHtml = 'Like what you see? Visit the ' +\n",
              "            '<a target=\"_blank\" href=https://colab.research.google.com/notebooks/data_table.ipynb>data table notebook</a>'\n",
              "            + ' to learn more about interactive tables.';\n",
              "          element.innerHTML = '';\n",
              "          dataTable['output_type'] = 'display_data';\n",
              "          await google.colab.output.renderOutput(dataTable, element);\n",
              "          const docLink = document.createElement('div');\n",
              "          docLink.innerHTML = docLinkHtml;\n",
              "          element.appendChild(docLink);\n",
              "        }\n",
              "      </script>\n",
              "    </div>\n",
              "  </div>\n"
            ]
          },
          "metadata": {},
          "execution_count": 7
        }
      ],
      "source": [
        "#print summary statistics of the data including the categorical columns\n",
        "data.describe(include='all')"
      ]
    },
    {
      "cell_type": "code",
      "execution_count": 8,
      "id": "ba548d0e",
      "metadata": {
        "execution": {
          "iopub.execute_input": "2022-03-21T18:05:46.059495Z",
          "iopub.status.busy": "2022-03-21T18:05:46.058632Z",
          "iopub.status.idle": "2022-03-21T18:05:46.220713Z",
          "shell.execute_reply": "2022-03-21T18:05:46.221185Z",
          "shell.execute_reply.started": "2022-03-18T16:33:20.980995Z"
        },
        "papermill": {
          "duration": 0.275546,
          "end_time": "2022-03-21T18:05:46.221344",
          "exception": false,
          "start_time": "2022-03-21T18:05:45.945798",
          "status": "completed"
        },
        "tags": [],
        "id": "ba548d0e",
        "outputId": "82dffcad-644d-461e-db2c-ab1448019493",
        "colab": {
          "base_uri": "https://localhost:8080/",
          "height": 449
        }
      },
      "outputs": [
        {
          "output_type": "display_data",
          "data": {
            "text/plain": [
              "<Figure size 640x480 with 1 Axes>"
            ],
            "image/png": "[encoded data removed]"
          },
          "metadata": {}
        }
      ],
      "source": [
        "#count the number of customers in the churn and not churn class\n",
        "ax = sns.countplot(x='Churn', data=data)\n",
        "for a in ax.patches:\n",
        "    ax.annotate(format((a.get_height()/5630)*100,'.2f'), (a.get_x() + a.get_width()/2., a.get_height()),\\\n",
        "                ha='center',va='center',size=12,xytext=(0, -10),textcoords='offset points')\n",
        "plt.show()"
      ]
    },
    {
      "cell_type": "markdown",
      "id": "11d1e7c3",
      "metadata": {
        "papermill": {
          "duration": 0.108232,
          "end_time": "2022-03-21T18:05:46.438339",
          "exception": false,
          "start_time": "2022-03-21T18:05:46.330107",
          "status": "completed"
        },
        "tags": [],
        "id": "11d1e7c3"
      },
      "source": [
        "**There are more retained than churned customers, the ratio of retained to churned is approximately 5 to 1, so the churn rate is very low, which is normal therefore making the data imbalanced.**"
      ]
    },
    {
      "cell_type": "markdown",
      "id": "cde1d77a",
      "metadata": {
        "papermill": {
          "duration": 0.108803,
          "end_time": "2022-03-21T18:05:46.656275",
          "exception": false,
          "start_time": "2022-03-21T18:05:46.547472",
          "status": "completed"
        },
        "tags": [],
        "id": "cde1d77a"
      },
      "source": [
        "### Distribution of the Tenure of the customers on the platform"
      ]
    },
    {
      "cell_type": "code",
      "execution_count": 9,
      "id": "5e661569",
      "metadata": {
        "execution": {
          "iopub.execute_input": "2022-03-21T18:05:46.880823Z",
          "iopub.status.busy": "2022-03-21T18:05:46.880164Z",
          "iopub.status.idle": "2022-03-21T18:05:47.234465Z",
          "shell.execute_reply": "2022-03-21T18:05:47.233840Z",
          "shell.execute_reply.started": "2022-03-18T16:33:21.185597Z"
        },
        "papermill": {
          "duration": 0.466966,
          "end_time": "2022-03-21T18:05:47.234633",
          "exception": false,
          "start_time": "2022-03-21T18:05:46.767667",
          "status": "completed"
        },
        "tags": [],
        "id": "5e661569",
        "outputId": "2708b7e8-b375-4197-894b-0421d2c61706",
        "colab": {
          "base_uri": "https://localhost:8080/",
          "height": 529
        }
      },
      "outputs": [
        {
          "output_type": "display_data",
          "data": {
            "text/plain": [
              "<Figure size 500x500 with 1 Axes>"
            ],
            "image/png": "[encoded data removed]"
          },
          "metadata": {}
        }
      ],
      "source": [
        "sns.displot(x='Tenure', kde=True, data=data)\n",
        "plt.title(\"Distribution of Tenure of the Customers on the platform\")\n",
        "plt.show()"
      ]
    },
    {
      "cell_type": "markdown",
      "id": "29cc4152",
      "metadata": {
        "papermill": {
          "duration": 0.109553,
          "end_time": "2022-03-21T18:05:47.454417",
          "exception": false,
          "start_time": "2022-03-21T18:05:47.344864",
          "status": "completed"
        },
        "tags": [],
        "id": "29cc4152"
      },
      "source": [
        "### Distribution of Order Count of customers"
      ]
    },
    {
      "cell_type": "code",
      "execution_count": 10,
      "id": "bc1cfc8e",
      "metadata": {
        "execution": {
          "iopub.execute_input": "2022-03-21T18:05:47.677790Z",
          "iopub.status.busy": "2022-03-21T18:05:47.677122Z",
          "iopub.status.idle": "2022-03-21T18:05:48.095737Z",
          "shell.execute_reply": "2022-03-21T18:05:48.096333Z",
          "shell.execute_reply.started": "2022-03-18T16:33:21.5949Z"
        },
        "papermill": {
          "duration": 0.532138,
          "end_time": "2022-03-21T18:05:48.096493",
          "exception": false,
          "start_time": "2022-03-21T18:05:47.564355",
          "status": "completed"
        },
        "tags": [],
        "id": "bc1cfc8e",
        "outputId": "2c4ed3f1-9d16-4b1b-fe00-6fa28c7b24c7",
        "colab": {
          "base_uri": "https://localhost:8080/",
          "height": 529
        }
      },
      "outputs": [
        {
          "output_type": "display_data",
          "data": {
            "text/plain": [
              "<Figure size 500x500 with 1 Axes>"
            ],
            "image/png": "[encoded data removed]"
          },
          "metadata": {}
        }
      ],
      "source": [
        "sns.displot(x='OrderCount', kde=True, data=data)\n",
        "plt.title(\"Distribution of Number of customer orders\")\n",
        "plt.show()"
      ]
    },
    {
      "cell_type": "markdown",
      "id": "8475a0ac",
      "metadata": {
        "papermill": {
          "duration": 0.112454,
          "end_time": "2022-03-21T18:05:49.194366",
          "exception": false,
          "start_time": "2022-03-21T18:05:49.081912",
          "status": "completed"
        },
        "tags": [],
        "id": "8475a0ac"
      },
      "source": [
        "### Distribution of Amount returned for money spent by customers\n",
        "Cashback is a reward that refunds a percentage of the money spent to by a customer to him/her, It is usually dependent on the amount spent, so the cashback column can be used in place of the amount spent columns."
      ]
    },
    {
      "cell_type": "code",
      "execution_count": 11,
      "id": "a59b0c96",
      "metadata": {
        "execution": {
          "iopub.execute_input": "2022-03-21T18:05:49.425681Z",
          "iopub.status.busy": "2022-03-21T18:05:49.424795Z",
          "iopub.status.idle": "2022-03-21T18:05:49.817180Z",
          "shell.execute_reply": "2022-03-21T18:05:49.817698Z",
          "shell.execute_reply.started": "2022-03-18T16:33:22.570337Z"
        },
        "papermill": {
          "duration": 0.511094,
          "end_time": "2022-03-21T18:05:49.817885",
          "exception": false,
          "start_time": "2022-03-21T18:05:49.306791",
          "status": "completed"
        },
        "tags": [],
        "id": "a59b0c96",
        "outputId": "1837d628-4948-42e5-9bab-02e6028b44b9",
        "colab": {
          "base_uri": "https://localhost:8080/",
          "height": 529
        }
      },
      "outputs": [
        {
          "output_type": "display_data",
          "data": {
            "text/plain": [
              "<Figure size 500x500 with 1 Axes>"
            ],
            "image/png": "[encoded data removed]"
          },
          "metadata": {}
        }
      ],
      "source": [
        "sns.displot(x='CashbackAmount',kde=True, data=data)\n",
        "plt.title('Distribution of Cashback for customers')\n",
        "plt.show()"
      ]
    },
    {
      "cell_type": "markdown",
      "id": "3c94cffa",
      "metadata": {
        "papermill": {
          "duration": 0.123788,
          "end_time": "2022-03-21T18:05:51.817727",
          "exception": false,
          "start_time": "2022-03-21T18:05:51.693939",
          "status": "completed"
        },
        "tags": [],
        "id": "3c94cffa"
      },
      "source": [
        "### Distribution of Hours spent on the app by the customers"
      ]
    },
    {
      "cell_type": "code",
      "execution_count": 13,
      "id": "66f5fb97",
      "metadata": {
        "execution": {
          "iopub.execute_input": "2022-03-21T18:05:52.052024Z",
          "iopub.status.busy": "2022-03-21T18:05:52.051362Z",
          "iopub.status.idle": "2022-03-21T18:05:52.451048Z",
          "shell.execute_reply": "2022-03-21T18:05:52.451668Z",
          "shell.execute_reply.started": "2022-03-18T16:33:23.904269Z"
        },
        "papermill": {
          "duration": 0.51864,
          "end_time": "2022-03-21T18:05:52.451841",
          "exception": false,
          "start_time": "2022-03-21T18:05:51.933201",
          "status": "completed"
        },
        "tags": [],
        "id": "66f5fb97",
        "outputId": "9b3b4fca-3487-4cdf-864e-55a40da7c924",
        "colab": {
          "base_uri": "https://localhost:8080/",
          "height": 472
        }
      },
      "outputs": [
        {
          "output_type": "display_data",
          "data": {
            "text/plain": [
              "<Figure size 640x480 with 1 Axes>"
            ],
            "image/png": "[encoded data removed]"
          },
          "metadata": {}
        }
      ],
      "source": [
        "axx = sns.countplot(x='HourSpendOnApp', data=data)\n",
        "for a in axx.patches:\n",
        "    axx.annotate(format((a.get_height()/5630)*100,'.2f'), (a.get_x() + a.get_width()/2., a.get_height()),\\\n",
        "                ha='center',va='center',size=12,xytext=(0, 6),textcoords='offset points')\n",
        "plt.title(\"Distribution of hours spent on the app by the customers\")\n",
        "plt.show()"
      ]
    },
    {
      "cell_type": "markdown",
      "id": "0ce40802",
      "metadata": {
        "papermill": {
          "duration": 0.115518,
          "end_time": "2022-03-21T18:05:53.347696",
          "exception": false,
          "start_time": "2022-03-21T18:05:53.232178",
          "status": "completed"
        },
        "tags": [],
        "id": "0ce40802"
      },
      "source": [
        "### Distribution of Gender for churned and retained customers"
      ]
    },
    {
      "cell_type": "code",
      "execution_count": 15,
      "id": "e3dc6460",
      "metadata": {
        "execution": {
          "iopub.execute_input": "2022-03-21T18:05:53.584727Z",
          "iopub.status.busy": "2022-03-21T18:05:53.584066Z",
          "iopub.status.idle": "2022-03-21T18:05:53.739457Z",
          "shell.execute_reply": "2022-03-21T18:05:53.740133Z",
          "shell.execute_reply.started": "2022-03-18T16:33:24.517557Z"
        },
        "papermill": {
          "duration": 0.276878,
          "end_time": "2022-03-21T18:05:53.740319",
          "exception": false,
          "start_time": "2022-03-21T18:05:53.463441",
          "status": "completed"
        },
        "tags": [],
        "id": "e3dc6460",
        "outputId": "9661791a-983b-410c-eae6-774132a21d7f",
        "colab": {
          "base_uri": "https://localhost:8080/",
          "height": 472
        }
      },
      "outputs": [
        {
          "output_type": "display_data",
          "data": {
            "text/plain": [
              "<Figure size 640x480 with 1 Axes>"
            ],
            "image/png": "[encoded data removed]"
          },
          "metadata": {}
        }
      ],
      "source": [
        "sns.countplot(x='Gender', hue='Churn', palette='viridis', data=data)\n",
        "plt.title(\"Distribution of Gender for Churned and Retained customers\")\n",
        "plt.show()"
      ]
    },
    {
      "cell_type": "markdown",
      "id": "dd13eba4",
      "metadata": {
        "papermill": {
          "duration": 0.116688,
          "end_time": "2022-03-21T18:05:53.974019",
          "exception": false,
          "start_time": "2022-03-21T18:05:53.857331",
          "status": "completed"
        },
        "tags": [],
        "id": "dd13eba4"
      },
      "source": [
        "### Distribution of marital status for churned and retained customers"
      ]
    },
    {
      "cell_type": "code",
      "execution_count": 16,
      "id": "de9e3892",
      "metadata": {
        "execution": {
          "iopub.execute_input": "2022-03-21T18:05:54.210593Z",
          "iopub.status.busy": "2022-03-21T18:05:54.209888Z",
          "iopub.status.idle": "2022-03-21T18:05:54.386663Z",
          "shell.execute_reply": "2022-03-21T18:05:54.386092Z",
          "shell.execute_reply.started": "2022-03-18T16:33:24.671581Z"
        },
        "papermill": {
          "duration": 0.296047,
          "end_time": "2022-03-21T18:05:54.386796",
          "exception": false,
          "start_time": "2022-03-21T18:05:54.090749",
          "status": "completed"
        },
        "tags": [],
        "id": "de9e3892",
        "outputId": "f3f03c53-825d-4139-cd93-35a24d13353b",
        "colab": {
          "base_uri": "https://localhost:8080/",
          "height": 472
        }
      },
      "outputs": [
        {
          "output_type": "display_data",
          "data": {
            "text/plain": [
              "<Figure size 640x480 with 1 Axes>"
            ],
            "image/png": "[encoded data removed]"
          },
          "metadata": {}
        }
      ],
      "source": [
        "sns.countplot(x='MaritalStatus', hue='Churn', palette='viridis', data=data)\n",
        "plt.title(\"Distribution of marital status for churned and retained customers\")\n",
        "plt.show()"
      ]
    },
    {
      "cell_type": "markdown",
      "id": "501b2d94",
      "metadata": {
        "papermill": {
          "duration": 0.084153,
          "end_time": "2022-03-21T18:05:57.910867",
          "exception": false,
          "start_time": "2022-03-21T18:05:57.826714",
          "status": "completed"
        },
        "tags": [],
        "id": "501b2d94"
      },
      "source": [
        "**Findings**\n",
        "--\n",
        "From the Analysis;\n",
        "* **The Tenure, Days since last order, cashback amount, and warehouse to home features have outliers, but the outliers don't have huge impact on tree models, which will be my final model so I will keep them.**\n",
        "* **Most of the customers spend 3 hours on the app, and 94.75% of the customers spend between 2 and 4 hours on the app**\n",
        "* **Single people have higher churn rate than other Marital Status**\n"
      ]
    },
    {
      "cell_type": "markdown",
      "source": [
        "Data Preprocessing"
      ],
      "metadata": {
        "id": "ViUS-sMKtyBh"
      },
      "id": "ViUS-sMKtyBh"
    },
    {
      "cell_type": "code",
      "execution_count": 19,
      "id": "37fc9159",
      "metadata": {
        "execution": {
          "iopub.execute_input": "2022-03-21T18:05:58.259593Z",
          "iopub.status.busy": "2022-03-21T18:05:58.258998Z",
          "iopub.status.idle": "2022-03-21T18:05:58.265952Z",
          "shell.execute_reply": "2022-03-21T18:05:58.266434Z",
          "shell.execute_reply.started": "2022-03-18T16:33:26.900207Z"
        },
        "papermill": {
          "duration": 0.101125,
          "end_time": "2022-03-21T18:05:58.266593",
          "exception": false,
          "start_time": "2022-03-21T18:05:58.165468",
          "status": "completed"
        },
        "tags": [],
        "id": "37fc9159",
        "outputId": "082afb80-e4d0-4b8a-a218-9e268f65ff3b",
        "colab": {
          "base_uri": "https://localhost:8080/"
        }
      },
      "outputs": [
        {
          "output_type": "execute_result",
          "data": {
            "text/plain": [
              "CustomerID                       0\n",
              "Churn                            0\n",
              "Tenure                         264\n",
              "PreferredLoginDevice             0\n",
              "CityTier                         0\n",
              "WarehouseToHome                251\n",
              "PreferredPaymentMode             0\n",
              "Gender                           0\n",
              "HourSpendOnApp                 255\n",
              "NumberOfDeviceRegistered         0\n",
              "PreferedOrderCat                 0\n",
              "SatisfactionScore                0\n",
              "MaritalStatus                    0\n",
              "NumberOfAddress                  0\n",
              "Complain                         0\n",
              "OrderAmountHikeFromlastYear    265\n",
              "CouponUsed                     256\n",
              "OrderCount                     258\n",
              "DaySinceLastOrder              307\n",
              "CashbackAmount                   0\n",
              "dtype: int64"
            ]
          },
          "metadata": {},
          "execution_count": 19
        }
      ],
      "source": [
        "#count the number of missing values across each columns\n",
        "data.isnull().sum()"
      ]
    },
    {
      "cell_type": "code",
      "execution_count": 21,
      "id": "701642dd",
      "metadata": {
        "execution": {
          "iopub.execute_input": "2022-03-21T18:05:58.899282Z",
          "iopub.status.busy": "2022-03-21T18:05:58.898355Z",
          "iopub.status.idle": "2022-03-21T18:05:58.947626Z",
          "shell.execute_reply": "2022-03-21T18:05:58.947148Z",
          "shell.execute_reply.started": "2022-03-18T16:33:26.937946Z"
        },
        "papermill": {
          "duration": 0.180747,
          "end_time": "2022-03-21T18:05:58.947748",
          "exception": false,
          "start_time": "2022-03-21T18:05:58.767001",
          "status": "completed"
        },
        "tags": [],
        "id": "701642dd",
        "outputId": "6ed8ca88-53f7-4a5e-f878-4a82ce9b5530",
        "colab": {
          "base_uri": "https://localhost:8080/",
          "height": 364
        }
      },
      "outputs": [
        {
          "output_type": "execute_result",
          "data": {
            "text/plain": [
              "         CustomerID        Churn       Tenure     CityTier  WarehouseToHome  \\\n",
              "count   5630.000000  5630.000000  5366.000000  5630.000000      5379.000000   \n",
              "mean   52815.500000     0.168384    10.189899     1.654707        15.639896   \n",
              "std     1625.385339     0.374240     8.557241     0.915389         8.531475   \n",
              "min    50001.000000     0.000000     0.000000     1.000000         5.000000   \n",
              "25%    51408.250000     0.000000     2.000000     1.000000         9.000000   \n",
              "50%    52815.500000     0.000000     9.000000     1.000000        14.000000   \n",
              "75%    54222.750000     0.000000    16.000000     3.000000        20.000000   \n",
              "max    55630.000000     1.000000    61.000000     3.000000       127.000000   \n",
              "\n",
              "       HourSpendOnApp  NumberOfDeviceRegistered  SatisfactionScore  \\\n",
              "count     5375.000000               5630.000000        5630.000000   \n",
              "mean         2.931535                  3.688988           3.066785   \n",
              "std          0.721926                  1.023999           1.380194   \n",
              "min          0.000000                  1.000000           1.000000   \n",
              "25%          2.000000                  3.000000           2.000000   \n",
              "50%          3.000000                  4.000000           3.000000   \n",
              "75%          3.000000                  4.000000           4.000000   \n",
              "max          5.000000                  6.000000           5.000000   \n",
              "\n",
              "       NumberOfAddress     Complain  OrderAmountHikeFromlastYear   CouponUsed  \\\n",
              "count      5630.000000  5630.000000                  5365.000000  5374.000000   \n",
              "mean          4.214032     0.284902                    15.707922     1.751023   \n",
              "std           2.583586     0.451408                     3.675485     1.894621   \n",
              "min           1.000000     0.000000                    11.000000     0.000000   \n",
              "25%           2.000000     0.000000                    13.000000     1.000000   \n",
              "50%           3.000000     0.000000                    15.000000     1.000000   \n",
              "75%           6.000000     1.000000                    18.000000     2.000000   \n",
              "max          22.000000     1.000000                    26.000000    16.000000   \n",
              "\n",
              "        OrderCount  DaySinceLastOrder  CashbackAmount  \n",
              "count  5372.000000        5323.000000     5630.000000  \n",
              "mean      3.008004           4.543491      177.223030  \n",
              "std       2.939680           3.654433       49.207036  \n",
              "min       1.000000           0.000000        0.000000  \n",
              "25%       1.000000           2.000000      145.770000  \n",
              "50%       2.000000           3.000000      163.280000  \n",
              "75%       3.000000           7.000000      196.392500  \n",
              "max      16.000000          46.000000      324.990000  "
            ],
            "text/html": [
              "\n",
              "\n",
              "  <div id=\"df-be4b4dad-c8e5-4a38-8394-d6d9f991fa51\">\n",
              "    <div class=\"colab-df-container\">\n",
              "      <div>\n",
              "<style scoped>\n",
              "    .dataframe tbody tr th:only-of-type {\n",
              "        vertical-align: middle;\n",
              "    }\n",
              "\n",
              "    .dataframe tbody tr th {\n",
              "        vertical-align: top;\n",
              "    }\n",
              "\n",
              "    .dataframe thead th {\n",
              "        text-align: right;\n",
              "    }\n",
              "</style>\n",
              "<table border=\"1\" class=\"dataframe\">\n",
              "  <thead>\n",
              "    <tr style=\"text-align: right;\">\n",
              "      <th></th>\n",
              "      <th>CustomerID</th>\n",
              "      <th>Churn</th>\n",
              "      <th>Tenure</th>\n",
              "      <th>CityTier</th>\n",
              "      <th>WarehouseToHome</th>\n",
              "      <th>HourSpendOnApp</th>\n",
              "      <th>NumberOfDeviceRegistered</th>\n",
              "      <th>SatisfactionScore</th>\n",
              "      <th>NumberOfAddress</th>\n",
              "      <th>Complain</th>\n",
              "      <th>OrderAmountHikeFromlastYear</th>\n",
              "      <th>CouponUsed</th>\n",
              "      <th>OrderCount</th>\n",
              "      <th>DaySinceLastOrder</th>\n",
              "      <th>CashbackAmount</th>\n",
              "    </tr>\n",
              "  </thead>\n",
              "  <tbody>\n",
              "    <tr>\n",
              "      <th>count</th>\n",
              "      <td>5630.000000</td>\n",
              "      <td>5630.000000</td>\n",
              "      <td>5366.000000</td>\n",
              "      <td>5630.000000</td>\n",
              "      <td>5379.000000</td>\n",
              "      <td>5375.000000</td>\n",
              "      <td>5630.000000</td>\n",
              "      <td>5630.000000</td>\n",
              "      <td>5630.000000</td>\n",
              "      <td>5630.000000</td>\n",
              "      <td>5365.000000</td>\n",
              "      <td>5374.000000</td>\n",
              "      <td>5372.000000</td>\n",
              "      <td>5323.000000</td>\n",
              "      <td>5630.000000</td>\n",
              "    </tr>\n",
              "    <tr>\n",
              "      <th>mean</th>\n",
              "      <td>52815.500000</td>\n",
              "      <td>0.168384</td>\n",
              "      <td>10.189899</td>\n",
              "      <td>1.654707</td>\n",
              "      <td>15.639896</td>\n",
              "      <td>2.931535</td>\n",
              "      <td>3.688988</td>\n",
              "      <td>3.066785</td>\n",
              "      <td>4.214032</td>\n",
              "      <td>0.284902</td>\n",
              "      <td>15.707922</td>\n",
              "      <td>1.751023</td>\n",
              "      <td>3.008004</td>\n",
              "      <td>4.543491</td>\n",
              "      <td>177.223030</td>\n",
              "    </tr>\n",
              "    <tr>\n",
              "      <th>std</th>\n",
              "      <td>1625.385339</td>\n",
              "      <td>0.374240</td>\n",
              "      <td>8.557241</td>\n",
              "      <td>0.915389</td>\n",
              "      <td>8.531475</td>\n",
              "      <td>0.721926</td>\n",
              "      <td>1.023999</td>\n",
              "      <td>1.380194</td>\n",
              "      <td>2.583586</td>\n",
              "      <td>0.451408</td>\n",
              "      <td>3.675485</td>\n",
              "      <td>1.894621</td>\n",
              "      <td>2.939680</td>\n",
              "      <td>3.654433</td>\n",
              "      <td>49.207036</td>\n",
              "    </tr>\n",
              "    <tr>\n",
              "      <th>min</th>\n",
              "      <td>50001.000000</td>\n",
              "      <td>0.000000</td>\n",
              "      <td>0.000000</td>\n",
              "      <td>1.000000</td>\n",
              "      <td>5.000000</td>\n",
              "      <td>0.000000</td>\n",
              "      <td>1.000000</td>\n",
              "      <td>1.000000</td>\n",
              "      <td>1.000000</td>\n",
              "      <td>0.000000</td>\n",
              "      <td>11.000000</td>\n",
              "      <td>0.000000</td>\n",
              "      <td>1.000000</td>\n",
              "      <td>0.000000</td>\n",
              "      <td>0.000000</td>\n",
              "    </tr>\n",
              "    <tr>\n",
              "      <th>25%</th>\n",
              "      <td>51408.250000</td>\n",
              "      <td>0.000000</td>\n",
              "      <td>2.000000</td>\n",
              "      <td>1.000000</td>\n",
              "      <td>9.000000</td>\n",
              "      <td>2.000000</td>\n",
              "      <td>3.000000</td>\n",
              "      <td>2.000000</td>\n",
              "      <td>2.000000</td>\n",
              "      <td>0.000000</td>\n",
              "      <td>13.000000</td>\n",
              "      <td>1.000000</td>\n",
              "      <td>1.000000</td>\n",
              "      <td>2.000000</td>\n",
              "      <td>145.770000</td>\n",
              "    </tr>\n",
              "    <tr>\n",
              "      <th>50%</th>\n",
              "      <td>52815.500000</td>\n",
              "      <td>0.000000</td>\n",
              "      <td>9.000000</td>\n",
              "      <td>1.000000</td>\n",
              "      <td>14.000000</td>\n",
              "      <td>3.000000</td>\n",
              "      <td>4.000000</td>\n",
              "      <td>3.000000</td>\n",
              "      <td>3.000000</td>\n",
              "      <td>0.000000</td>\n",
              "      <td>15.000000</td>\n",
              "      <td>1.000000</td>\n",
              "      <td>2.000000</td>\n",
              "      <td>3.000000</td>\n",
              "      <td>163.280000</td>\n",
              "    </tr>\n",
              "    <tr>\n",
              "      <th>75%</th>\n",
              "      <td>54222.750000</td>\n",
              "      <td>0.000000</td>\n",
              "      <td>16.000000</td>\n",
              "      <td>3.000000</td>\n",
              "      <td>20.000000</td>\n",
              "      <td>3.000000</td>\n",
              "      <td>4.000000</td>\n",
              "      <td>4.000000</td>\n",
              "      <td>6.000000</td>\n",
              "      <td>1.000000</td>\n",
              "      <td>18.000000</td>\n",
              "      <td>2.000000</td>\n",
              "      <td>3.000000</td>\n",
              "      <td>7.000000</td>\n",
              "      <td>196.392500</td>\n",
              "    </tr>\n",
              "    <tr>\n",
              "      <th>max</th>\n",
              "      <td>55630.000000</td>\n",
              "      <td>1.000000</td>\n",
              "      <td>61.000000</td>\n",
              "      <td>3.000000</td>\n",
              "      <td>127.000000</td>\n",
              "      <td>5.000000</td>\n",
              "      <td>6.000000</td>\n",
              "      <td>5.000000</td>\n",
              "      <td>22.000000</td>\n",
              "      <td>1.000000</td>\n",
              "      <td>26.000000</td>\n",
              "      <td>16.000000</td>\n",
              "      <td>16.000000</td>\n",
              "      <td>46.000000</td>\n",
              "      <td>324.990000</td>\n",
              "    </tr>\n",
              "  </tbody>\n",
              "</table>\n",
              "</div>\n",
              "      <button class=\"colab-df-convert\" onclick=\"convertToInteractive('df-be4b4dad-c8e5-4a38-8394-d6d9f991fa51')\"\n",
              "              title=\"Convert this dataframe to an interactive table.\"\n",
              "              style=\"display:none;\">\n",
              "\n",
              "  <svg xmlns=\"http://www.w3.org/2000/svg\" height=\"24px\"viewBox=\"0 0 24 24\"\n",
              "       width=\"24px\">\n",
              "    <path d=\"M0 0h24v24H0V0z\" fill=\"none\"/>\n",
              "    <path d=\"M18.56 5.44l.94 2.06.94-2.06 2.06-.94-2.06-.94-.94-2.06-.94 2.06-2.06.94zm-11 1L8.5 8.5l.94-2.06 2.06-.94-2.06-.94L8.5 2.5l-.94 2.06-2.06.94zm10 10l.94 2.06.94-2.06 2.06-.94-2.06-.94-.94-2.06-.94 2.06-2.06.94z\"/><path d=\"M17.41 7.96l-1.37-1.37c-.4-.4-.92-.59-1.43-.59-.52 0-1.04.2-1.43.59L10.3 9.45l-7.72 7.72c-.78.78-.78 2.05 0 2.83L4 21.41c.39.39.9.59 1.41.59.51 0 1.02-.2 1.41-.59l7.78-7.78 2.81-2.81c.8-.78.8-2.07 0-2.86zM5.41 20L4 18.59l7.72-7.72 1.47 1.35L5.41 20z\"/>\n",
              "  </svg>\n",
              "      </button>\n",
              "\n",
              "\n",
              "\n",
              "    <div id=\"df-3612a3e6-4987-40b6-86e5-8ce029cfea78\">\n",
              "      <button class=\"colab-df-quickchart\" onclick=\"quickchart('df-3612a3e6-4987-40b6-86e5-8ce029cfea78')\"\n",
              "              title=\"Suggest charts.\"\n",
              "              style=\"display:none;\">\n",
              "\n",
              "<svg xmlns=\"http://www.w3.org/2000/svg\" height=\"24px\"viewBox=\"0 0 24 24\"\n",
              "     width=\"24px\">\n",
              "    <g>\n",
              "        <path d=\"M19 3H5c-1.1 0-2 .9-2 2v14c0 1.1.9 2 2 2h14c1.1 0 2-.9 2-2V5c0-1.1-.9-2-2-2zM9 17H7v-7h2v7zm4 0h-2V7h2v10zm4 0h-2v-4h2v4z\"/>\n",
              "    </g>\n",
              "</svg>\n",
              "      </button>\n",
              "    </div>\n",
              "\n",
              "<style>\n",
              "  .colab-df-quickchart {\n",
              "    background-color: #E8F0FE;\n",
              "    border: none;\n",
              "    border-radius: 50%;\n",
              "    cursor: pointer;\n",
              "    display: none;\n",
              "    fill: #1967D2;\n",
              "    height: 32px;\n",
              "    padding: 0 0 0 0;\n",
              "    width: 32px;\n",
              "  }\n",
              "\n",
              "  .colab-df-quickchart:hover {\n",
              "    background-color: #E2EBFA;\n",
              "    box-shadow: 0px 1px 2px rgba(60, 64, 67, 0.3), 0px 1px 3px 1px rgba(60, 64, 67, 0.15);\n",
              "    fill: #174EA6;\n",
              "  }\n",
              "\n",
              "  [theme=dark] .colab-df-quickchart {\n",
              "    background-color: #3B4455;\n",
              "    fill: #D2E3FC;\n",
              "  }\n",
              "\n",
              "  [theme=dark] .colab-df-quickchart:hover {\n",
              "    background-color: #434B5C;\n",
              "    box-shadow: 0px 1px 3px 1px rgba(0, 0, 0, 0.15);\n",
              "    filter: drop-shadow(0px 1px 2px rgba(0, 0, 0, 0.3));\n",
              "    fill: #FFFFFF;\n",
              "  }\n",
              "</style>\n",
              "\n",
              "    <script>\n",
              "      async function quickchart(key) {\n",
              "        const containerElement = document.querySelector('#' + key);\n",
              "        const charts = await google.colab.kernel.invokeFunction(\n",
              "            'suggestCharts', [key], {});\n",
              "      }\n",
              "    </script>\n",
              "\n",
              "      <script>\n",
              "\n",
              "function displayQuickchartButton(domScope) {\n",
              "  let quickchartButtonEl =\n",
              "    domScope.querySelector('#df-3612a3e6-4987-40b6-86e5-8ce029cfea78 button.colab-df-quickchart');\n",
              "  quickchartButtonEl.style.display =\n",
              "    google.colab.kernel.accessAllowed ? 'block' : 'none';\n",
              "}\n",
              "\n",
              "        displayQuickchartButton(document);\n",
              "      </script>\n",
              "      <style>\n",
              "    .colab-df-container {\n",
              "      display:flex;\n",
              "      flex-wrap:wrap;\n",
              "      gap: 12px;\n",
              "    }\n",
              "\n",
              "    .colab-df-convert {\n",
              "      background-color: #E8F0FE;\n",
              "      border: none;\n",
              "      border-radius: 50%;\n",
              "      cursor: pointer;\n",
              "      display: none;\n",
              "      fill: #1967D2;\n",
              "      height: 32px;\n",
              "      padding: 0 0 0 0;\n",
              "      width: 32px;\n",
              "    }\n",
              "\n",
              "    .colab-df-convert:hover {\n",
              "      background-color: #E2EBFA;\n",
              "      box-shadow: 0px 1px 2px rgba(60, 64, 67, 0.3), 0px 1px 3px 1px rgba(60, 64, 67, 0.15);\n",
              "      fill: #174EA6;\n",
              "    }\n",
              "\n",
              "    [theme=dark] .colab-df-convert {\n",
              "      background-color: #3B4455;\n",
              "      fill: #D2E3FC;\n",
              "    }\n",
              "\n",
              "    [theme=dark] .colab-df-convert:hover {\n",
              "      background-color: #434B5C;\n",
              "      box-shadow: 0px 1px 3px 1px rgba(0, 0, 0, 0.15);\n",
              "      filter: drop-shadow(0px 1px 2px rgba(0, 0, 0, 0.3));\n",
              "      fill: #FFFFFF;\n",
              "    }\n",
              "  </style>\n",
              "\n",
              "      <script>\n",
              "        const buttonEl =\n",
              "          document.querySelector('#df-be4b4dad-c8e5-4a38-8394-d6d9f991fa51 button.colab-df-convert');\n",
              "        buttonEl.style.display =\n",
              "          google.colab.kernel.accessAllowed ? 'block' : 'none';\n",
              "\n",
              "        async function convertToInteractive(key) {\n",
              "          const element = document.querySelector('#df-be4b4dad-c8e5-4a38-8394-d6d9f991fa51');\n",
              "          const dataTable =\n",
              "            await google.colab.kernel.invokeFunction('convertToInteractive',\n",
              "                                                     [key], {});\n",
              "          if (!dataTable) return;\n",
              "\n",
              "          const docLinkHtml = 'Like what you see? Visit the ' +\n",
              "            '<a target=\"_blank\" href=https://colab.research.google.com/notebooks/data_table.ipynb>data table notebook</a>'\n",
              "            + ' to learn more about interactive tables.';\n",
              "          element.innerHTML = '';\n",
              "          dataTable['output_type'] = 'display_data';\n",
              "          await google.colab.output.renderOutput(dataTable, element);\n",
              "          const docLink = document.createElement('div');\n",
              "          docLink.innerHTML = docLinkHtml;\n",
              "          element.appendChild(docLink);\n",
              "        }\n",
              "      </script>\n",
              "    </div>\n",
              "  </div>\n"
            ]
          },
          "metadata": {},
          "execution_count": 21
        }
      ],
      "source": [
        "#description of data\n",
        "data.describe()"
      ]
    },
    {
      "cell_type": "markdown",
      "id": "cd1d6775",
      "metadata": {
        "papermill": {
          "duration": 0.091662,
          "end_time": "2022-03-21T18:06:01.556193",
          "exception": false,
          "start_time": "2022-03-21T18:06:01.464531",
          "status": "completed"
        },
        "tags": [],
        "id": "cd1d6775"
      },
      "source": [
        "<a id=\"subsection-two\"></a>\n",
        "## Categorical Encoding\n",
        "Here I will encode the categorical variables as numeric variables, since machine learning algorithms work on numbers and not text. I will use the pandas get_dummies function which applies one-hot encoding to all the variables passed to it."
      ]
    },
    {
      "cell_type": "code",
      "execution_count": 25,
      "id": "fc0aed08",
      "metadata": {
        "execution": {
          "iopub.execute_input": "2022-03-21T18:06:01.748059Z",
          "iopub.status.busy": "2022-03-21T18:06:01.747552Z",
          "iopub.status.idle": "2022-03-21T18:06:01.760744Z",
          "shell.execute_reply": "2022-03-21T18:06:01.761120Z",
          "shell.execute_reply.started": "2022-03-18T16:33:28.38794Z"
        },
        "papermill": {
          "duration": 0.110535,
          "end_time": "2022-03-21T18:06:01.761254",
          "exception": false,
          "start_time": "2022-03-21T18:06:01.650719",
          "status": "completed"
        },
        "tags": [],
        "id": "fc0aed08",
        "outputId": "d4d49bdc-9b27-48e7-ed31-7cfd18584140",
        "colab": {
          "base_uri": "https://localhost:8080/",
          "height": 424
        }
      },
      "outputs": [
        {
          "output_type": "execute_result",
          "data": {
            "text/plain": [
              "     PreferredLoginDevice PreferredPaymentMode  Gender    PreferedOrderCat  \\\n",
              "0            Mobile Phone           Debit Card  Female  Laptop & Accessory   \n",
              "1                   Phone                  UPI    Male              Mobile   \n",
              "2                   Phone           Debit Card    Male              Mobile   \n",
              "3                   Phone           Debit Card    Male  Laptop & Accessory   \n",
              "4                   Phone                   CC    Male              Mobile   \n",
              "...                   ...                  ...     ...                 ...   \n",
              "5625             Computer          Credit Card    Male  Laptop & Accessory   \n",
              "5626         Mobile Phone          Credit Card    Male             Fashion   \n",
              "5627         Mobile Phone           Debit Card    Male  Laptop & Accessory   \n",
              "5628             Computer          Credit Card    Male  Laptop & Accessory   \n",
              "5629         Mobile Phone          Credit Card    Male  Laptop & Accessory   \n",
              "\n",
              "     MaritalStatus  \n",
              "0           Single  \n",
              "1           Single  \n",
              "2           Single  \n",
              "3           Single  \n",
              "4           Single  \n",
              "...            ...  \n",
              "5625       Married  \n",
              "5626       Married  \n",
              "5627       Married  \n",
              "5628       Married  \n",
              "5629       Married  \n",
              "\n",
              "[5630 rows x 5 columns]"
            ],
            "text/html": [
              "\n",
              "\n",
              "  <div id=\"df-ae854727-de93-45a0-b2e8-d628e4cdaa94\">\n",
              "    <div class=\"colab-df-container\">\n",
              "      <div>\n",
              "<style scoped>\n",
              "    .dataframe tbody tr th:only-of-type {\n",
              "        vertical-align: middle;\n",
              "    }\n",
              "\n",
              "    .dataframe tbody tr th {\n",
              "        vertical-align: top;\n",
              "    }\n",
              "\n",
              "    .dataframe thead th {\n",
              "        text-align: right;\n",
              "    }\n",
              "</style>\n",
              "<table border=\"1\" class=\"dataframe\">\n",
              "  <thead>\n",
              "    <tr style=\"text-align: right;\">\n",
              "      <th></th>\n",
              "      <th>PreferredLoginDevice</th>\n",
              "      <th>PreferredPaymentMode</th>\n",
              "      <th>Gender</th>\n",
              "      <th>PreferedOrderCat</th>\n",
              "      <th>MaritalStatus</th>\n",
              "    </tr>\n",
              "  </thead>\n",
              "  <tbody>\n",
              "    <tr>\n",
              "      <th>0</th>\n",
              "      <td>Mobile Phone</td>\n",
              "      <td>Debit Card</td>\n",
              "      <td>Female</td>\n",
              "      <td>Laptop &amp; Accessory</td>\n",
              "      <td>Single</td>\n",
              "    </tr>\n",
              "    <tr>\n",
              "      <th>1</th>\n",
              "      <td>Phone</td>\n",
              "      <td>UPI</td>\n",
              "      <td>Male</td>\n",
              "      <td>Mobile</td>\n",
              "      <td>Single</td>\n",
              "    </tr>\n",
              "    <tr>\n",
              "      <th>2</th>\n",
              "      <td>Phone</td>\n",
              "      <td>Debit Card</td>\n",
              "      <td>Male</td>\n",
              "      <td>Mobile</td>\n",
              "      <td>Single</td>\n",
              "    </tr>\n",
              "    <tr>\n",
              "      <th>3</th>\n",
              "      <td>Phone</td>\n",
              "      <td>Debit Card</td>\n",
              "      <td>Male</td>\n",
              "      <td>Laptop &amp; Accessory</td>\n",
              "      <td>Single</td>\n",
              "    </tr>\n",
              "    <tr>\n",
              "      <th>4</th>\n",
              "      <td>Phone</td>\n",
              "      <td>CC</td>\n",
              "      <td>Male</td>\n",
              "      <td>Mobile</td>\n",
              "      <td>Single</td>\n",
              "    </tr>\n",
              "    <tr>\n",
              "      <th>...</th>\n",
              "      <td>...</td>\n",
              "      <td>...</td>\n",
              "      <td>...</td>\n",
              "      <td>...</td>\n",
              "      <td>...</td>\n",
              "    </tr>\n",
              "    <tr>\n",
              "      <th>5625</th>\n",
              "      <td>Computer</td>\n",
              "      <td>Credit Card</td>\n",
              "      <td>Male</td>\n",
              "      <td>Laptop &amp; Accessory</td>\n",
              "      <td>Married</td>\n",
              "    </tr>\n",
              "    <tr>\n",
              "      <th>5626</th>\n",
              "      <td>Mobile Phone</td>\n",
              "      <td>Credit Card</td>\n",
              "      <td>Male</td>\n",
              "      <td>Fashion</td>\n",
              "      <td>Married</td>\n",
              "    </tr>\n",
              "    <tr>\n",
              "      <th>5627</th>\n",
              "      <td>Mobile Phone</td>\n",
              "      <td>Debit Card</td>\n",
              "      <td>Male</td>\n",
              "      <td>Laptop &amp; Accessory</td>\n",
              "      <td>Married</td>\n",
              "    </tr>\n",
              "    <tr>\n",
              "      <th>5628</th>\n",
              "      <td>Computer</td>\n",
              "      <td>Credit Card</td>\n",
              "      <td>Male</td>\n",
              "      <td>Laptop &amp; Accessory</td>\n",
              "      <td>Married</td>\n",
              "    </tr>\n",
              "    <tr>\n",
              "      <th>5629</th>\n",
              "      <td>Mobile Phone</td>\n",
              "      <td>Credit Card</td>\n",
              "      <td>Male</td>\n",
              "      <td>Laptop &amp; Accessory</td>\n",
              "      <td>Married</td>\n",
              "    </tr>\n",
              "  </tbody>\n",
              "</table>\n",
              "<p>5630 rows × 5 columns</p>\n",
              "</div>\n",
              "      <button class=\"colab-df-convert\" onclick=\"convertToInteractive('df-ae854727-de93-45a0-b2e8-d628e4cdaa94')\"\n",
              "              title=\"Convert this dataframe to an interactive table.\"\n",
              "              style=\"display:none;\">\n",
              "\n",
              "  <svg xmlns=\"http://www.w3.org/2000/svg\" height=\"24px\"viewBox=\"0 0 24 24\"\n",
              "       width=\"24px\">\n",
              "    <path d=\"M0 0h24v24H0V0z\" fill=\"none\"/>\n",
              "    <path d=\"M18.56 5.44l.94 2.06.94-2.06 2.06-.94-2.06-.94-.94-2.06-.94 2.06-2.06.94zm-11 1L8.5 8.5l.94-2.06 2.06-.94-2.06-.94L8.5 2.5l-.94 2.06-2.06.94zm10 10l.94 2.06.94-2.06 2.06-.94-2.06-.94-.94-2.06-.94 2.06-2.06.94z\"/><path d=\"M17.41 7.96l-1.37-1.37c-.4-.4-.92-.59-1.43-.59-.52 0-1.04.2-1.43.59L10.3 9.45l-7.72 7.72c-.78.78-.78 2.05 0 2.83L4 21.41c.39.39.9.59 1.41.59.51 0 1.02-.2 1.41-.59l7.78-7.78 2.81-2.81c.8-.78.8-2.07 0-2.86zM5.41 20L4 18.59l7.72-7.72 1.47 1.35L5.41 20z\"/>\n",
              "  </svg>\n",
              "      </button>\n",
              "\n",
              "\n",
              "\n",
              "    <div id=\"df-cf13492e-c4c1-486d-a2ff-b6eaf9918bf8\">\n",
              "      <button class=\"colab-df-quickchart\" onclick=\"quickchart('df-cf13492e-c4c1-486d-a2ff-b6eaf9918bf8')\"\n",
              "              title=\"Suggest charts.\"\n",
              "              style=\"display:none;\">\n",
              "\n",
              "<svg xmlns=\"http://www.w3.org/2000/svg\" height=\"24px\"viewBox=\"0 0 24 24\"\n",
              "     width=\"24px\">\n",
              "    <g>\n",
              "        <path d=\"M19 3H5c-1.1 0-2 .9-2 2v14c0 1.1.9 2 2 2h14c1.1 0 2-.9 2-2V5c0-1.1-.9-2-2-2zM9 17H7v-7h2v7zm4 0h-2V7h2v10zm4 0h-2v-4h2v4z\"/>\n",
              "    </g>\n",
              "</svg>\n",
              "      </button>\n",
              "    </div>\n",
              "\n",
              "<style>\n",
              "  .colab-df-quickchart {\n",
              "    background-color: #E8F0FE;\n",
              "    border: none;\n",
              "    border-radius: 50%;\n",
              "    cursor: pointer;\n",
              "    display: none;\n",
              "    fill: #1967D2;\n",
              "    height: 32px;\n",
              "    padding: 0 0 0 0;\n",
              "    width: 32px;\n",
              "  }\n",
              "\n",
              "  .colab-df-quickchart:hover {\n",
              "    background-color: #E2EBFA;\n",
              "    box-shadow: 0px 1px 2px rgba(60, 64, 67, 0.3), 0px 1px 3px 1px rgba(60, 64, 67, 0.15);\n",
              "    fill: #174EA6;\n",
              "  }\n",
              "\n",
              "  [theme=dark] .colab-df-quickchart {\n",
              "    background-color: #3B4455;\n",
              "    fill: #D2E3FC;\n",
              "  }\n",
              "\n",
              "  [theme=dark] .colab-df-quickchart:hover {\n",
              "    background-color: #434B5C;\n",
              "    box-shadow: 0px 1px 3px 1px rgba(0, 0, 0, 0.15);\n",
              "    filter: drop-shadow(0px 1px 2px rgba(0, 0, 0, 0.3));\n",
              "    fill: #FFFFFF;\n",
              "  }\n",
              "</style>\n",
              "\n",
              "    <script>\n",
              "      async function quickchart(key) {\n",
              "        const containerElement = document.querySelector('#' + key);\n",
              "        const charts = await google.colab.kernel.invokeFunction(\n",
              "            'suggestCharts', [key], {});\n",
              "      }\n",
              "    </script>\n",
              "\n",
              "      <script>\n",
              "\n",
              "function displayQuickchartButton(domScope) {\n",
              "  let quickchartButtonEl =\n",
              "    domScope.querySelector('#df-cf13492e-c4c1-486d-a2ff-b6eaf9918bf8 button.colab-df-quickchart');\n",
              "  quickchartButtonEl.style.display =\n",
              "    google.colab.kernel.accessAllowed ? 'block' : 'none';\n",
              "}\n",
              "\n",
              "        displayQuickchartButton(document);\n",
              "      </script>\n",
              "      <style>\n",
              "    .colab-df-container {\n",
              "      display:flex;\n",
              "      flex-wrap:wrap;\n",
              "      gap: 12px;\n",
              "    }\n",
              "\n",
              "    .colab-df-convert {\n",
              "      background-color: #E8F0FE;\n",
              "      border: none;\n",
              "      border-radius: 50%;\n",
              "      cursor: pointer;\n",
              "      display: none;\n",
              "      fill: #1967D2;\n",
              "      height: 32px;\n",
              "      padding: 0 0 0 0;\n",
              "      width: 32px;\n",
              "    }\n",
              "\n",
              "    .colab-df-convert:hover {\n",
              "      background-color: #E2EBFA;\n",
              "      box-shadow: 0px 1px 2px rgba(60, 64, 67, 0.3), 0px 1px 3px 1px rgba(60, 64, 67, 0.15);\n",
              "      fill: #174EA6;\n",
              "    }\n",
              "\n",
              "    [theme=dark] .colab-df-convert {\n",
              "      background-color: #3B4455;\n",
              "      fill: #D2E3FC;\n",
              "    }\n",
              "\n",
              "    [theme=dark] .colab-df-convert:hover {\n",
              "      background-color: #434B5C;\n",
              "      box-shadow: 0px 1px 3px 1px rgba(0, 0, 0, 0.15);\n",
              "      filter: drop-shadow(0px 1px 2px rgba(0, 0, 0, 0.3));\n",
              "      fill: #FFFFFF;\n",
              "    }\n",
              "  </style>\n",
              "\n",
              "      <script>\n",
              "        const buttonEl =\n",
              "          document.querySelector('#df-ae854727-de93-45a0-b2e8-d628e4cdaa94 button.colab-df-convert');\n",
              "        buttonEl.style.display =\n",
              "          google.colab.kernel.accessAllowed ? 'block' : 'none';\n",
              "\n",
              "        async function convertToInteractive(key) {\n",
              "          const element = document.querySelector('#df-ae854727-de93-45a0-b2e8-d628e4cdaa94');\n",
              "          const dataTable =\n",
              "            await google.colab.kernel.invokeFunction('convertToInteractive',\n",
              "                                                     [key], {});\n",
              "          if (!dataTable) return;\n",
              "\n",
              "          const docLinkHtml = 'Like what you see? Visit the ' +\n",
              "            '<a target=\"_blank\" href=https://colab.research.google.com/notebooks/data_table.ipynb>data table notebook</a>'\n",
              "            + ' to learn more about interactive tables.';\n",
              "          element.innerHTML = '';\n",
              "          dataTable['output_type'] = 'display_data';\n",
              "          await google.colab.output.renderOutput(dataTable, element);\n",
              "          const docLink = document.createElement('div');\n",
              "          docLink.innerHTML = docLinkHtml;\n",
              "          element.appendChild(docLink);\n",
              "        }\n",
              "      </script>\n",
              "    </div>\n",
              "  </div>\n"
            ]
          },
          "metadata": {},
          "execution_count": 25
        }
      ],
      "source": [
        "cat_data = data.select_dtypes(include='object')\n",
        "cat_data"
      ]
    },
    {
      "cell_type": "code",
      "execution_count": 26,
      "id": "f386e7cc",
      "metadata": {
        "execution": {
          "iopub.execute_input": "2022-03-21T18:06:01.947606Z",
          "iopub.status.busy": "2022-03-21T18:06:01.947119Z",
          "iopub.status.idle": "2022-03-21T18:06:01.965324Z",
          "shell.execute_reply": "2022-03-21T18:06:01.965702Z",
          "shell.execute_reply.started": "2022-03-18T16:33:28.409295Z"
        },
        "papermill": {
          "duration": 0.112495,
          "end_time": "2022-03-21T18:06:01.965838",
          "exception": false,
          "start_time": "2022-03-21T18:06:01.853343",
          "status": "completed"
        },
        "tags": [],
        "id": "f386e7cc"
      },
      "outputs": [],
      "source": [
        "#encode categorical variables and add it to the normal dataset\n",
        "encoded = pd.get_dummies(cat_data,drop_first=True)\n",
        "\n",
        "data_enc = pd.concat([data.drop(cat_data.columns, axis=1), encoded], axis=1)\n",
        "data_enc.drop('CustomerID', axis=1,inplace=True)"
      ]
    },
    {
      "cell_type": "markdown",
      "id": "15f93167",
      "metadata": {
        "papermill": {
          "duration": 0.091148,
          "end_time": "2022-03-21T18:06:02.148493",
          "exception": false,
          "start_time": "2022-03-21T18:06:02.057345",
          "status": "completed"
        },
        "tags": [],
        "id": "15f93167"
      },
      "source": [
        "<a id=\"section-three\"></a>\n",
        "# Model Development\n"
      ]
    },
    {
      "cell_type": "code",
      "source": [
        "#selecting features and target variable, and splitting the data\n",
        "X=data_enc.drop(['Churn'],axis=1)\n",
        "y=data_enc['Churn']"
      ],
      "metadata": {
        "id": "nnqZV1GGa5vg"
      },
      "id": "nnqZV1GGa5vg",
      "execution_count": 27,
      "outputs": []
    },
    {
      "cell_type": "code",
      "source": [
        "imputer = IterativeImputer(random_state=42)\n",
        "scaler = StandardScaler()\n",
        "X_imputed = imputer.fit_transform(X)\n",
        "X_scaled = scaler.fit_transform(X_imputed)"
      ],
      "metadata": {
        "id": "dgwpdB__XBha"
      },
      "id": "dgwpdB__XBha",
      "execution_count": 28,
      "outputs": []
    },
    {
      "cell_type": "code",
      "execution_count": 29,
      "id": "8150c60a",
      "metadata": {
        "execution": {
          "iopub.execute_input": "2022-03-21T18:06:02.336473Z",
          "iopub.status.busy": "2022-03-21T18:06:02.335961Z",
          "iopub.status.idle": "2022-03-21T18:06:02.347998Z",
          "shell.execute_reply": "2022-03-21T18:06:02.348365Z",
          "shell.execute_reply.started": "2022-03-18T16:33:28.437379Z"
        },
        "papermill": {
          "duration": 0.1068,
          "end_time": "2022-03-21T18:06:02.348525",
          "exception": false,
          "start_time": "2022-03-21T18:06:02.241725",
          "status": "completed"
        },
        "tags": [],
        "id": "8150c60a"
      },
      "outputs": [],
      "source": [
        "\n",
        "X_train, X_test, y_train, y_test=train_test_split(X_scaled, y, test_size=0.2, stratify=y, random_state=42)\n",
        "\n",
        "#cross validation\n",
        "skfcv=StratifiedKFold(n_splits=5)"
      ]
    },
    {
      "cell_type": "code",
      "source": [
        "# Storing acc of all models\n",
        "acc_score_mat = {}"
      ],
      "metadata": {
        "id": "rZwbTEoIpwoj"
      },
      "id": "rZwbTEoIpwoj",
      "execution_count": 30,
      "outputs": []
    },
    {
      "cell_type": "markdown",
      "id": "a3dbc06f",
      "metadata": {
        "papermill": {
          "duration": 0.091715,
          "end_time": "2022-03-21T18:06:02.531584",
          "exception": false,
          "start_time": "2022-03-21T18:06:02.439869",
          "status": "completed"
        },
        "tags": [],
        "id": "a3dbc06f"
      },
      "source": [
        "### Logistic Regression"
      ]
    },
    {
      "cell_type": "code",
      "execution_count": 31,
      "id": "7f22e004",
      "metadata": {
        "execution": {
          "iopub.execute_input": "2022-03-21T18:06:02.757174Z",
          "iopub.status.busy": "2022-03-21T18:06:02.756317Z",
          "iopub.status.idle": "2022-03-21T18:06:07.679740Z",
          "shell.execute_reply": "2022-03-21T18:06:07.680720Z",
          "shell.execute_reply.started": "2022-03-18T16:33:28.455565Z"
        },
        "papermill": {
          "duration": 5.052114,
          "end_time": "2022-03-21T18:06:07.680932",
          "exception": false,
          "start_time": "2022-03-21T18:06:02.628818",
          "status": "completed"
        },
        "tags": [],
        "id": "7f22e004",
        "outputId": "7a0242ed-c23c-4d07-8c90-cc08b45b478c",
        "colab": {
          "base_uri": "https://localhost:8080/"
        }
      },
      "outputs": [
        {
          "output_type": "stream",
          "name": "stdout",
          "text": [
            "Cross validation score for Logistic Regression: 0.6268737047957512\n"
          ]
        }
      ],
      "source": [
        "log = LogisticRegression()\n",
        "\n",
        "#cross validate logistic regression model\n",
        "print(f\"Cross validation score for Logistic Regression: {np.mean(cross_val_score(log, X_train, y_train, cv=skfcv, scoring='f1'))}\")"
      ]
    },
    {
      "cell_type": "code",
      "execution_count": 32,
      "id": "2481a716",
      "metadata": {
        "execution": {
          "iopub.execute_input": "2022-03-21T18:06:08.038891Z",
          "iopub.status.busy": "2022-03-21T18:06:08.038208Z",
          "iopub.status.idle": "2022-03-21T18:06:09.971195Z",
          "shell.execute_reply": "2022-03-21T18:06:09.970638Z",
          "shell.execute_reply.started": "2022-03-18T16:33:37.129482Z"
        },
        "papermill": {
          "duration": 2.093737,
          "end_time": "2022-03-21T18:06:09.971343",
          "exception": false,
          "start_time": "2022-03-21T18:06:07.877606",
          "status": "completed"
        },
        "tags": [],
        "id": "2481a716",
        "outputId": "0aa718e1-0638-453a-bbe8-08d126e0427c",
        "colab": {
          "base_uri": "https://localhost:8080/"
        }
      },
      "outputs": [
        {
          "output_type": "stream",
          "name": "stdout",
          "text": [
            "Accuracy Score: 0.8925399644760214\n"
          ]
        }
      ],
      "source": [
        "#use logistic regression pipeline to predict test sample\n",
        "log.fit(X_train,y_train)\n",
        "y_pred = log.predict(X_test)\n",
        "acc = accuracy_score(y_test,y_pred)\n",
        "print(\"Accuracy Score:\",acc)\n",
        "acc_score_mat[\"Logistic Regression\"] = acc"
      ]
    },
    {
      "cell_type": "code",
      "source": [
        "#classification report:\n",
        "cc =  classification_report(y_test,y_pred)\n",
        "print(cc)"
      ],
      "metadata": {
        "colab": {
          "base_uri": "https://localhost:8080/"
        },
        "id": "0Zo-BLOXqqyN",
        "outputId": "434c0ca2-e904-499c-f000-a5338f47c865"
      },
      "id": "0Zo-BLOXqqyN",
      "execution_count": 33,
      "outputs": [
        {
          "output_type": "stream",
          "name": "stdout",
          "text": [
            "              precision    recall  f1-score   support\n",
            "\n",
            "           0       0.91      0.97      0.94       936\n",
            "           1       0.76      0.53      0.62       190\n",
            "\n",
            "    accuracy                           0.89      1126\n",
            "   macro avg       0.84      0.75      0.78      1126\n",
            "weighted avg       0.88      0.89      0.88      1126\n",
            "\n"
          ]
        }
      ]
    },
    {
      "cell_type": "code",
      "source": [
        "#confusion matrix\n",
        "log_mat = confusion_matrix(y_test, log.predict(X_test))\n",
        "sns.heatmap(log_mat, annot=True,fmt=\"g\")\n",
        "plt.show()"
      ],
      "metadata": {
        "colab": {
          "base_uri": "https://localhost:8080/",
          "height": 433
        },
        "id": "lRa5sIlUqf8D",
        "outputId": "1b06f939-cbb4-4120-be33-e99cb088c4da"
      },
      "id": "lRa5sIlUqf8D",
      "execution_count": 34,
      "outputs": [
        {
          "output_type": "display_data",
          "data": {
            "text/plain": [
              "<Figure size 640x480 with 2 Axes>"
            ],
            "image/png": "[encoded data removed]"
          },
          "metadata": {}
        }
      ]
    },
    {
      "cell_type": "markdown",
      "id": "b433e4b1",
      "metadata": {
        "papermill": {
          "duration": 0.13941,
          "end_time": "2022-03-21T18:06:18.161304",
          "exception": false,
          "start_time": "2022-03-21T18:06:18.021894",
          "status": "completed"
        },
        "tags": [],
        "id": "b433e4b1"
      },
      "source": [
        "### Random Forest"
      ]
    },
    {
      "cell_type": "code",
      "execution_count": 35,
      "id": "de4626b1",
      "metadata": {
        "execution": {
          "iopub.execute_input": "2022-03-21T18:06:18.441156Z",
          "iopub.status.busy": "2022-03-21T18:06:18.440318Z",
          "iopub.status.idle": "2022-03-21T18:06:27.644592Z",
          "shell.execute_reply": "2022-03-21T18:06:27.645217Z",
          "shell.execute_reply.started": "2022-03-18T16:33:48.908431Z"
        },
        "papermill": {
          "duration": 9.345978,
          "end_time": "2022-03-21T18:06:27.645387",
          "exception": false,
          "start_time": "2022-03-21T18:06:18.299409",
          "status": "completed"
        },
        "tags": [],
        "id": "de4626b1",
        "outputId": "41cd703a-431a-43d6-987c-cc1edf36b4d3",
        "colab": {
          "base_uri": "https://localhost:8080/"
        }
      },
      "outputs": [
        {
          "output_type": "stream",
          "name": "stdout",
          "text": [
            "Cross validation score for Random Forest: 0.8391032001885452\n"
          ]
        }
      ],
      "source": [
        "#Build Random Forest pipeline\n",
        "rf = RandomForestClassifier()\n",
        "\n",
        "#cross validate Random Forest model\n",
        "print(f\"Cross validation score for Random Forest: {np.mean(cross_val_score(rf, X_train, y_train, cv=skfcv, scoring='f1'))}\")"
      ]
    },
    {
      "cell_type": "code",
      "execution_count": 36,
      "id": "40bfb546",
      "metadata": {
        "execution": {
          "iopub.execute_input": "2022-03-21T18:06:27.929914Z",
          "iopub.status.busy": "2022-03-21T18:06:27.929242Z",
          "iopub.status.idle": "2022-03-21T18:06:30.344430Z",
          "shell.execute_reply": "2022-03-21T18:06:30.343859Z",
          "shell.execute_reply.started": "2022-03-18T16:34:00.087782Z"
        },
        "papermill": {
          "duration": 2.559205,
          "end_time": "2022-03-21T18:06:30.344592",
          "exception": false,
          "start_time": "2022-03-21T18:06:27.785387",
          "status": "completed"
        },
        "tags": [],
        "id": "40bfb546",
        "outputId": "0f8d32f2-dee0-4bf7-dc8c-ca73b37650d9",
        "colab": {
          "base_uri": "https://localhost:8080/"
        }
      },
      "outputs": [
        {
          "output_type": "stream",
          "name": "stdout",
          "text": [
            "Accuracy Score: 0.9786856127886323\n"
          ]
        }
      ],
      "source": [
        "#use Random Forest pipeline to predict test and train sample\n",
        "rf.fit(X_train,y_train)\n",
        "y_pred = rf.predict(X_test)\n",
        "acc = accuracy_score(y_test,y_pred)\n",
        "print(\"Accuracy Score:\",acc)\n",
        "acc_score_mat[\"Random Forest\"] = acc"
      ]
    },
    {
      "cell_type": "code",
      "source": [
        "#classification report:\n",
        "cc =  classification_report(y_test,y_pred)\n",
        "print(cc)"
      ],
      "metadata": {
        "colab": {
          "base_uri": "https://localhost:8080/"
        },
        "id": "A1VYJG0BrV5I",
        "outputId": "b452f955-276d-4827-ffd5-745ab203d347"
      },
      "id": "A1VYJG0BrV5I",
      "execution_count": 37,
      "outputs": [
        {
          "output_type": "stream",
          "name": "stdout",
          "text": [
            "              precision    recall  f1-score   support\n",
            "\n",
            "           0       0.98      1.00      0.99       936\n",
            "           1       0.99      0.88      0.93       190\n",
            "\n",
            "    accuracy                           0.98      1126\n",
            "   macro avg       0.99      0.94      0.96      1126\n",
            "weighted avg       0.98      0.98      0.98      1126\n",
            "\n"
          ]
        }
      ]
    },
    {
      "cell_type": "code",
      "source": [
        "#confusion matrix\n",
        "rf_mat = confusion_matrix(y_test, rf.predict(X_test))\n",
        "sns.heatmap(rf_mat, annot=True,fmt=\"g\")\n",
        "plt.show()"
      ],
      "metadata": {
        "colab": {
          "base_uri": "https://localhost:8080/",
          "height": 430
        },
        "id": "EZjShyW4rZmU",
        "outputId": "ddae758f-80dc-4df9-bf6f-13b3db3a3081"
      },
      "id": "EZjShyW4rZmU",
      "execution_count": 38,
      "outputs": [
        {
          "output_type": "display_data",
          "data": {
            "text/plain": [
              "<Figure size 640x480 with 2 Axes>"
            ],
            "image/png": "[encoded data removed]"
          },
          "metadata": {}
        }
      ]
    },
    {
      "cell_type": "markdown",
      "id": "ea95790a",
      "metadata": {
        "papermill": {
          "duration": 0.140874,
          "end_time": "2022-03-21T18:06:30.626864",
          "exception": false,
          "start_time": "2022-03-21T18:06:30.485990",
          "status": "completed"
        },
        "tags": [],
        "id": "ea95790a"
      },
      "source": [
        "### XGBoost"
      ]
    },
    {
      "cell_type": "code",
      "execution_count": 39,
      "id": "eb97155d",
      "metadata": {
        "execution": {
          "iopub.execute_input": "2022-03-21T18:06:30.911425Z",
          "iopub.status.busy": "2022-03-21T18:06:30.910749Z",
          "iopub.status.idle": "2022-03-21T18:06:40.201739Z",
          "shell.execute_reply": "2022-03-21T18:06:40.202290Z",
          "shell.execute_reply.started": "2022-03-18T16:34:02.918428Z"
        },
        "papermill": {
          "duration": 9.434989,
          "end_time": "2022-03-21T18:06:40.202460",
          "exception": false,
          "start_time": "2022-03-21T18:06:30.767471",
          "status": "completed"
        },
        "tags": [],
        "id": "eb97155d"
      },
      "outputs": [],
      "source": [
        "#Build XGBoost pipeline\n",
        "xgb =XGBClassifier()"
      ]
    },
    {
      "cell_type": "code",
      "execution_count": 40,
      "id": "cdfbac0f",
      "metadata": {
        "execution": {
          "iopub.execute_input": "2022-03-21T18:06:40.494077Z",
          "iopub.status.busy": "2022-03-21T18:06:40.493287Z",
          "iopub.status.idle": "2022-03-21T18:06:43.035628Z",
          "shell.execute_reply": "2022-03-21T18:06:43.035203Z",
          "shell.execute_reply.started": "2022-03-18T16:34:14.532456Z"
        },
        "papermill": {
          "duration": 2.689965,
          "end_time": "2022-03-21T18:06:43.035740",
          "exception": false,
          "start_time": "2022-03-21T18:06:40.345775",
          "status": "completed"
        },
        "tags": [],
        "id": "cdfbac0f",
        "outputId": "62f2c5cc-07a9-47bc-ad5c-b26f7411d8d5",
        "colab": {
          "base_uri": "https://localhost:8080/"
        }
      },
      "outputs": [
        {
          "output_type": "stream",
          "name": "stdout",
          "text": [
            "Accuracy Score: 0.9902309058614565\n"
          ]
        }
      ],
      "source": [
        "#use XGBoost pipeline to predict test and train sample\n",
        "xgb.fit(X_train,y_train)\n",
        "y_pred = xgb.predict(X_test)\n",
        "acc = accuracy_score(y_test,y_pred)\n",
        "print(\"Accuracy Score:\",acc)\n",
        "acc_score_mat[\"XG Boost\"] = acc"
      ]
    },
    {
      "cell_type": "code",
      "source": [
        "#classification report:\n",
        "cc =  classification_report(y_test,y_pred)\n",
        "print(cc)"
      ],
      "metadata": {
        "colab": {
          "base_uri": "https://localhost:8080/"
        },
        "id": "u7veaNcErPd9",
        "outputId": "7b85d5c0-c16b-4003-cf47-f558b03479d9"
      },
      "id": "u7veaNcErPd9",
      "execution_count": 41,
      "outputs": [
        {
          "output_type": "stream",
          "name": "stdout",
          "text": [
            "              precision    recall  f1-score   support\n",
            "\n",
            "           0       0.99      0.99      0.99       936\n",
            "           1       0.97      0.97      0.97       190\n",
            "\n",
            "    accuracy                           0.99      1126\n",
            "   macro avg       0.98      0.98      0.98      1126\n",
            "weighted avg       0.99      0.99      0.99      1126\n",
            "\n"
          ]
        }
      ]
    },
    {
      "cell_type": "code",
      "source": [
        "#confusion matrix\n",
        "xgb_mat = confusion_matrix(y_test, xgb.predict(X_test))\n",
        "sns.heatmap(xgb_mat, annot=True,fmt=\"g\")\n",
        "plt.show()"
      ],
      "metadata": {
        "colab": {
          "base_uri": "https://localhost:8080/",
          "height": 430
        },
        "id": "QGKxk8c6rtDn",
        "outputId": "2efcf7f3-a344-4632-b911-f19b1a6ff5d1"
      },
      "id": "QGKxk8c6rtDn",
      "execution_count": 42,
      "outputs": [
        {
          "output_type": "display_data",
          "data": {
            "text/plain": [
              "<Figure size 640x480 with 2 Axes>"
            ],
            "image/png": "[encoded data removed]"
          },
          "metadata": {}
        }
      ]
    },
    {
      "cell_type": "markdown",
      "source": [
        "Comparing models"
      ],
      "metadata": {
        "id": "TwOhe4pasKhO"
      },
      "id": "TwOhe4pasKhO"
    },
    {
      "cell_type": "code",
      "source": [
        "acc_score_mat"
      ],
      "metadata": {
        "colab": {
          "base_uri": "https://localhost:8080/"
        },
        "id": "1KiKSe2WsBQu",
        "outputId": "79d958fd-2943-4cdd-8b5b-076d7b45efa2"
      },
      "id": "1KiKSe2WsBQu",
      "execution_count": 43,
      "outputs": [
        {
          "output_type": "execute_result",
          "data": {
            "text/plain": [
              "{'Logistic Regression': 0.8925399644760214,\n",
              " 'Random Forest': 0.9786856127886323,\n",
              " 'XG Boost': 0.9902309058614565}"
            ]
          },
          "metadata": {},
          "execution_count": 43
        }
      ]
    },
    {
      "cell_type": "code",
      "source": [
        "fig = plt.figure()\n",
        "fig.suptitle('Algorithm Comparison')\n",
        "plt.bar(acc_score_mat.keys(),acc_score_mat.values(), color ='skyblue',width = 0.4)\n",
        "plt.show()"
      ],
      "metadata": {
        "colab": {
          "base_uri": "https://localhost:8080/",
          "height": 478
        },
        "id": "VO0tuZhEsM9q",
        "outputId": "278e185f-163c-4b04-daa1-715a49fd8d1e"
      },
      "id": "VO0tuZhEsM9q",
      "execution_count": 44,
      "outputs": [
        {
          "output_type": "display_data",
          "data": {
            "text/plain": [
              "<Figure size 640x480 with 1 Axes>"
            ],
            "image/png": "[encoded data removed]"
          },
          "metadata": {}
        }
      ]
    }
  ],
  "metadata": {
    "kernelspec": {
      "display_name": "Python 3",
      "language": "python",
      "name": "python3"
    },
    "language_info": {
      "codemirror_mode": {
        "name": "ipython",
        "version": 3
      },
      "file_extension": ".py",
      "mimetype": "text/x-python",
      "name": "python",
      "nbconvert_exporter": "python",
      "pygments_lexer": "ipython3",
      "version": "3.7.12"
    },
    "papermill": {
      "default_parameters": {},
      "duration": 12604.000785,
      "end_time": "2022-03-21T21:35:02.757262",
      "environment_variables": {},
      "exception": null,
      "input_path": "__notebook__.ipynb",
      "output_path": "__notebook__.ipynb",
      "parameters": {},
      "start_time": "2022-03-21T18:04:58.756477",
      "version": "2.3.3"
    },
    "colab": {
      "provenance": []
    }
  },
  "nbformat": 4,
  "nbformat_minor": 5
}